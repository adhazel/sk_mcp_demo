{
 "cells": [
  {
   "cell_type": "markdown",
   "id": "0b6b1289",
   "metadata": {},
   "source": [
    "# Quick Start Notebook\n",
    "\n",
    "This notebook demonstrates the easiest way to get started with your sk_mcp_demo project configuration in a Jupyter notebook."
   ]
  },
  {
   "cell_type": "code",
   "execution_count": null,
   "id": "e7231a2b",
   "metadata": {},
   "outputs": [],
   "source": [
    "import sys\n",
    "import os\n",
    "from pathlib import Path\n",
    "\n",
    "# Add src directory to path\n",
    "project_root = os.path.join(str(Path.cwd().parent ),'src')\n",
    "sys.path.insert(0, project_root)\n",
    "\n",
    "# config\n",
    "from utils import Config\n",
    "config = Config(environment = \"local\")\n",
    "print(config)"
   ]
  },
  {
   "cell_type": "code",
   "execution_count": null,
   "id": "0699ee1c",
   "metadata": {},
   "outputs": [],
   "source": [
    "# Your config is ready to use\n",
    "print(f\"OpenAI API Type: {config.openai_api_type}\")\n",
    "print(f\"Log Level: {config.log_level}\")\n",
    "print(f\"ChromaDB Path: {config.chroma_db_path}\")"
   ]
  }
 ],
 "metadata": {
  "kernelspec": {
   "display_name": "mcp-rag-server-py3.12",
   "language": "python",
   "name": "python3"
  },
  "language_info": {
   "codemirror_mode": {
    "name": "ipython",
    "version": 3
   },
   "file_extension": ".py",
   "mimetype": "text/x-python",
   "name": "python",
   "nbconvert_exporter": "python",
   "pygments_lexer": "ipython3",
   "version": "3.12.10"
  }
 },
 "nbformat": 4,
 "nbformat_minor": 5
}
