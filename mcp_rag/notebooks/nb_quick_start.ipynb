{
 "cells": [
  {
   "cell_type": "markdown",
   "id": "0b6b1289",
   "metadata": {},
   "source": [
    "# Quick Start Notebook\n",
    "\n",
    "This notebook demonstrates the easiest way to get started with your sk_mcp_demo project configuration in a Jupyter notebook."
   ]
  },
  {
   "cell_type": "markdown",
   "id": "e7231a2b",
   "metadata": {},
   "source": [
    "## One-Line Setup\n",
    "\n",
    "Use the notebook utility for quick setup:"
   ]
  },
  {
   "cell_type": "code",
   "execution_count": 1,
   "id": "dc77ec0d",
   "metadata": {},
   "outputs": [
    {
     "name": "stdout",
     "output_type": "stream",
     "text": [
      "🚀 Setting up notebook environment...\n",
      "✅ Already in Python path: C:\\Users\\aprilhazel\\Source\\sk_mcp_demo\\mcp_rag\n",
      "✅ Loaded environment file: C:\\Users\\aprilhazel\\Source\\sk_mcp_demo\\mcp_rag\\.env.local\n",
      "✅ All required configuration loaded for MCP-RAG 'local' environment\n",
      "✅ Configuration loaded for 'local' environment\n",
      "✨ Notebook setup complete!\n",
      "   Project root: C:\\Users\\aprilhazel\\Source\\sk_mcp_demo\\mcp_rag\n",
      "   Environment: local\n",
      "   Config: Config(environment='local', openai_api_key=None, openai_model=None, openai_api_type='azure', azure_openai_endpoint='https://aoai-zvbgv7oohofri.cognitiveservices.azure.com/', azure_openai_api_key=***, azure_openai_model='gpt-4o', azure_openai_deployment='gpt-4o', azure_openai_api_version='2024-12-01-preview', azure_openai_embedding_endpoint='https://aoai-zvbgv7oohofri.cognitiveservices.azure.com/', azure_openai_embedding_api_key=***, azure_openai_embedding_model='text-embedding-3-small', azure_openai_embedding_deployment='text-embedding-3-small', azure_openai_embedding_api_version='2024-12-01-preview', chroma_db_path='./data/chroma_db', vector_collection_name='mcp_rag_docs', log_level='DEBUG', debug=True)\n"
     ]
    }
   ],
   "source": [
    "# Import the notebook utility\n",
    "from notebook_utils import notebook_setup\n",
    "\n",
    "# One-line setup: adds project to path and loads config\n",
    "project_root, config = notebook_setup(environment=\"local\")"
   ]
  },
  {
   "cell_type": "markdown",
   "id": "c770657c",
   "metadata": {},
   "source": [
    "## That's it! Your configuration is ready to use\n",
    "\n",
    "Now you can access all your environment variables:"
   ]
  },
  {
   "cell_type": "code",
   "execution_count": 2,
   "id": "0699ee1c",
   "metadata": {},
   "outputs": [
    {
     "name": "stdout",
     "output_type": "stream",
     "text": [
      "OpenAI API Type: azure\n",
      "Debug Mode: True\n",
      "Log Level: DEBUG\n",
      "ChromaDB Path: ./data/chroma_db\n"
     ]
    }
   ],
   "source": [
    "# Your config is ready to use\n",
    "print(f\"OpenAI API Type: {config.openai_api_type}\")\n",
    "print(f\"Debug Mode: {config.debug}\")\n",
    "print(f\"Log Level: {config.log_level}\")\n",
    "print(f\"ChromaDB Path: {config.chroma_db_path}\")"
   ]
  },
  {
   "cell_type": "markdown",
   "id": "993cf62c",
   "metadata": {},
   "source": [
    "## Ready for Development\n",
    "\n",
    "Now you can import and use any modules from your project:"
   ]
  },
  {
   "cell_type": "code",
   "execution_count": 3,
   "id": "52a22586",
   "metadata": {},
   "outputs": [
    {
     "name": "stdout",
     "output_type": "stream",
     "text": [
      "🎉 Ready to start developing!\n",
      "\n",
      "Your project structure:\n",
      "  Project root: C:\\Users\\aprilhazel\\Source\\sk_mcp_demo\\mcp_rag\n",
      "  Source code: C:\\Users\\aprilhazel\\Source\\sk_mcp_demo\\mcp_rag\\src\n",
      "  Current notebook: C:\\Users\\aprilhazel\\Source\\sk_mcp_demo\\mcp_rag\\notebooks\n"
     ]
    }
   ],
   "source": [
    "# Example: Import your main module\n",
    "# from src.main import some_function\n",
    "\n",
    "# Example: Import other utilities\n",
    "# from src.utils.config import Config\n",
    "\n",
    "print(\"🎉 Ready to start developing!\")\n",
    "print(\"\\nYour project structure:\")\n",
    "print(f\"  Project root: {project_root}\")\n",
    "print(f\"  Source code: {project_root / 'src'}\")\n",
    "print(f\"  Current notebook: {project_root / 'notebooks'}\")"
   ]
  }
 ],
 "metadata": {
  "kernelspec": {
   "display_name": "mcp-rag-server-py3.12",
   "language": "python",
   "name": "python3"
  },
  "language_info": {
   "codemirror_mode": {
    "name": "ipython",
    "version": 3
   },
   "file_extension": ".py",
   "mimetype": "text/x-python",
   "name": "python",
   "nbconvert_exporter": "python",
   "pygments_lexer": "ipython3",
   "version": "3.12.10"
  }
 },
 "nbformat": 4,
 "nbformat_minor": 5
}
