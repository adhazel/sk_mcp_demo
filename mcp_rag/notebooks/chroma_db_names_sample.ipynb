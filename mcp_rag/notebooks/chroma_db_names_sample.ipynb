{
 "cells": [
  {
   "cell_type": "code",
   "execution_count": 2,
   "id": "9f61877f",
   "metadata": {},
   "outputs": [
    {
     "name": "stderr",
     "output_type": "stream",
     "text": [
      "2025-08-02 09:21:46,057 - root - INFO - ✅ Loaded environment file for 'local' environment\n",
      "2025-08-02 09:21:46,058 - root - INFO - 🔧 Logging configured at level: DEBUG\n",
      "2025-08-02 09:21:46,058 - root - INFO - ✅ All required configuration loaded for 'local' environment\n"
     ]
    },
    {
     "name": "stdout",
     "output_type": "stream",
     "text": [
      "Config(log_level='DEBUG', environment='local', openai_api_key=None, openai_model=None, openai_api_type='azure', azure_openai_endpoint='https://aoai-zvbgv7oohofri.cognitiveservices.azure.com/', azure_openai_api_key=***, azure_openai_model='gpt-4o', azure_openai_deployment='gpt-4o', azure_openai_api_version='2024-12-01-preview', azure_openai_embedding_endpoint='https://aoai-zvbgv7oohofri.cognitiveservices.azure.com/', azure_openai_embedding_api_key=***, azure_openai_embedding_model='text-embedding-3-small', azure_openai_embedding_deployment='text-embedding-3-small', azure_openai_embedding_api_version='2024-12-01-preview', chroma_db_path='/data/chroma_db', serp_api_key=***, project_root=WindowsPath('c:/Users/aprilhazel/Source/sk_mcp_demo/mcp_rag'))\n"
     ]
    }
   ],
   "source": [
    "import sys\n",
    "import os\n",
    "from pathlib import Path\n",
    "\n",
    "# Add src directory to path\n",
    "project_root = os.path.join(str(Path.cwd().parent ),'src')\n",
    "sys.path.insert(0, project_root)\n",
    "\n",
    "# config\n",
    "from utils import Config\n",
    "config = Config(environment = \"local\")\n",
    "print(config)"
   ]
  },
  {
   "cell_type": "markdown",
   "id": "79bb0a76",
   "metadata": {},
   "source": [
    "Creating the ChromaDB vector database, embedding, and storing data"
   ]
  },
  {
   "cell_type": "code",
   "execution_count": 3,
   "id": "5fe6523d",
   "metadata": {},
   "outputs": [],
   "source": [
    "import chromadb\n",
    "from chromadb.utils import embedding_functions\n",
    "\n",
    "# ChromaDB embeding_function\n",
    "aoai_embedding_function = embedding_functions.OpenAIEmbeddingFunction(\n",
    "    api_key=config.azure_openai_embedding_api_key,\n",
    "    api_base=config.azure_openai_embedding_endpoint,\n",
    "    api_type=config.openai_api_type,\n",
    "    api_version=config.azure_openai_embedding_api_version,\n",
    "    model_name=config.azure_openai_embedding_model,\n",
    "    deployment_id=config.azure_openai_embedding_deployment\n",
    ")"
   ]
  },
  {
   "cell_type": "code",
   "execution_count": 4,
   "id": "0c604c45",
   "metadata": {},
   "outputs": [
    {
     "name": "stderr",
     "output_type": "stream",
     "text": [
      "2025-08-02 09:22:15,522 - chromadb.telemetry.product.posthog - INFO - Anonymized telemetry enabled. See                     https://docs.trychroma.com/telemetry for more information.\n",
      "2025-08-02 09:22:16,526 - chromadb.config - DEBUG - Starting component System\n",
      "2025-08-02 09:22:16,526 - chromadb.config - DEBUG - Starting component Posthog\n"
     ]
    },
    {
     "name": "stdout",
     "output_type": "stream",
     "text": [
      "ChromaDB path: c:\\Users\\aprilhazel\\Source\\sk_mcp_demo\\mcp_rag\\data\\chroma_db\\chroma_db\n"
     ]
    }
   ],
   "source": [
    "from pathlib import Path\n",
    "\n",
    "chroma_db_path = Path(config.project_root/config.chroma_db_path.lstrip('./')/'chroma_db')\n",
    "chroma_client = chromadb.PersistentClient(path=str(chroma_db_path))\n",
    "print(f\"ChromaDB path: {chroma_db_path}\")"
   ]
  },
  {
   "cell_type": "markdown",
   "id": "ecb3d47f",
   "metadata": {},
   "source": [
    "Create and a collection within the db"
   ]
  },
  {
   "cell_type": "code",
   "execution_count": 5,
   "id": "1f9729e7",
   "metadata": {},
   "outputs": [
    {
     "data": {
      "text/plain": [
       "[Collection(name=names_collection)]"
      ]
     },
     "execution_count": 5,
     "metadata": {},
     "output_type": "execute_result"
    },
    {
     "name": "stderr",
     "output_type": "stream",
     "text": [
      "2025-08-02 09:22:23,411 - urllib3.connectionpool - DEBUG - https://us.i.posthog.com:443 \"POST /batch/ HTTP/1.1\" 200 15\n"
     ]
    }
   ],
   "source": [
    "# Create or get a second collection\n",
    "try:\n",
    "    names_collection = chroma_client.get_or_create_collection (\n",
    "        name=\"names_collection\", embedding_function=aoai_embedding_function)\n",
    "except Exception as e:\n",
    "    raise e\n",
    "\n",
    "chroma_client.list_collections()"
   ]
  },
  {
   "cell_type": "code",
   "execution_count": 6,
   "id": "ad9f9406",
   "metadata": {},
   "outputs": [],
   "source": [
    "# Create a list of names with categories and popularity\n",
    "names_data = [\n",
    "    # People - High Popularity\n",
    "    {\"id\": 1, \"name\": \"Alexander\", \"category\": \"people\", \"popularity\": 9},\n",
    "    {\"id\": 2, \"name\": \"Emma\", \"category\": \"people\", \"popularity\": 10},\n",
    "    {\"id\": 3, \"name\": \"William\", \"category\": \"people\", \"popularity\": 8},\n",
    "    {\"id\": 4, \"name\": \"Olivia\", \"category\": \"people\", \"popularity\": 9},\n",
    "    {\"id\": 5, \"name\": \"James\", \"category\": \"people\", \"popularity\": 8},\n",
    "    {\"id\": 6, \"name\": \"Sophia\", \"category\": \"people\", \"popularity\": 9},\n",
    "    {\"id\": 7, \"name\": \"Michael\", \"category\": \"people\", \"popularity\": 7},\n",
    "    {\"id\": 8, \"name\": \"Isabella\", \"category\": \"people\", \"popularity\": 8},\n",
    "    {\"id\": 9, \"name\": \"Benjamin\", \"category\": \"people\", \"popularity\": 7},\n",
    "    {\"id\": 10, \"name\": \"Charlotte\", \"category\": \"people\", \"popularity\": 8},\n",
    "    \n",
    "    # People - Medium Popularity\n",
    "    {\"id\": 11, \"name\": \"Theodore\", \"category\": \"people\", \"popularity\": 6},\n",
    "    {\"id\": 12, \"name\": \"Amelia\", \"category\": \"people\", \"popularity\": 6},\n",
    "    {\"id\": 13, \"name\": \"Sebastian\", \"category\": \"people\", \"popularity\": 5},\n",
    "    {\"id\": 14, \"name\": \"Penelope\", \"category\": \"people\", \"popularity\": 5},\n",
    "    {\"id\": 15, \"name\": \"Nathaniel\", \"category\": \"people\", \"popularity\": 4},\n",
    "    {\"id\": 16, \"name\": \"Genevieve\", \"category\": \"people\", \"popularity\": 4},\n",
    "    {\"id\": 17, \"name\": \"Maximilian\", \"category\": \"people\", \"popularity\": 3},\n",
    "    {\"id\": 18, \"name\": \"Evangeline\", \"category\": \"people\", \"popularity\": 3},\n",
    "    \n",
    "    # Places - High Popularity\n",
    "    {\"id\": 19, \"name\": \"New York\", \"category\": \"places\", \"popularity\": 10},\n",
    "    {\"id\": 20, \"name\": \"London\", \"category\": \"places\", \"popularity\": 9},\n",
    "    {\"id\": 21, \"name\": \"Paris\", \"category\": \"places\", \"popularity\": 9},\n",
    "    {\"id\": 22, \"name\": \"Tokyo\", \"category\": \"places\", \"popularity\": 8},\n",
    "    {\"id\": 23, \"name\": \"Sydney\", \"category\": \"places\", \"popularity\": 7},\n",
    "    {\"id\": 24, \"name\": \"Rome\", \"category\": \"places\", \"popularity\": 8},\n",
    "    {\"id\": 25, \"name\": \"Barcelona\", \"category\": \"places\", \"popularity\": 7},\n",
    "    {\"id\": 26, \"name\": \"Amsterdam\", \"category\": \"places\", \"popularity\": 6},\n",
    "    \n",
    "    # Places - Medium Popularity\n",
    "    {\"id\": 27, \"name\": \"Reykjavik\", \"category\": \"places\", \"popularity\": 4},\n",
    "    {\"id\": 28, \"name\": \"Budapest\", \"category\": \"places\", \"popularity\": 5},\n",
    "    {\"id\": 29, \"name\": \"Prague\", \"category\": \"places\", \"popularity\": 6},\n",
    "    {\"id\": 30, \"name\": \"Vienna\", \"category\": \"places\", \"popularity\": 5},\n",
    "    {\"id\": 31, \"name\": \"Stockholm\", \"category\": \"places\", \"popularity\": 4},\n",
    "    {\"id\": 32, \"name\": \"Copenhagen\", \"category\": \"places\", \"popularity\": 4},\n",
    "    {\"id\": 33, \"name\": \"Helsinki\", \"category\": \"places\", \"popularity\": 3},\n",
    "    {\"id\": 34, \"name\": \"Tallinn\", \"category\": \"places\", \"popularity\": 2},\n",
    "    \n",
    "    # Things - High Popularity\n",
    "    {\"id\": 35, \"name\": \"Smartphone\", \"category\": \"things\", \"popularity\": 10},\n",
    "    {\"id\": 36, \"name\": \"Laptop\", \"category\": \"things\", \"popularity\": 9},\n",
    "    {\"id\": 37, \"name\": \"Coffee\", \"category\": \"things\", \"popularity\": 10},\n",
    "    {\"id\": 38, \"name\": \"Bicycle\", \"category\": \"things\", \"popularity\": 7},\n",
    "    {\"id\": 39, \"name\": \"Camera\", \"category\": \"things\", \"popularity\": 6},\n",
    "    {\"id\": 40, \"name\": \"Headphones\", \"category\": \"things\", \"popularity\": 8},\n",
    "    {\"id\": 41, \"name\": \"Backpack\", \"category\": \"things\", \"popularity\": 7},\n",
    "    {\"id\": 42, \"name\": \"Sunglasses\", \"category\": \"things\", \"popularity\": 6},\n",
    "    \n",
    "    # Things - Medium Popularity\n",
    "    {\"id\": 43, \"name\": \"Telescope\", \"category\": \"things\", \"popularity\": 3},\n",
    "    {\"id\": 44, \"name\": \"Microscope\", \"category\": \"things\", \"popularity\": 2},\n",
    "    {\"id\": 45, \"name\": \"Synthesizer\", \"category\": \"things\", \"popularity\": 4},\n",
    "    {\"id\": 46, \"name\": \"Skateboard\", \"category\": \"things\", \"popularity\": 5},\n",
    "    {\"id\": 47, \"name\": \"Harmonica\", \"category\": \"things\", \"popularity\": 3},\n",
    "    {\"id\": 48, \"name\": \"Kaleidoscope\", \"category\": \"things\", \"popularity\": 2},\n",
    "    {\"id\": 49, \"name\": \"Binoculars\", \"category\": \"things\", \"popularity\": 4},\n",
    "    {\"id\": 50, \"name\": \"Compass\", \"category\": \"things\", \"popularity\": 3},\n",
    "    \n",
    "    # Fictional Characters - High Popularity\n",
    "    {\"id\": 51, \"name\": \"Sherlock Holmes\", \"category\": \"fictional\", \"popularity\": 9},\n",
    "    {\"id\": 52, \"name\": \"Harry Potter\", \"category\": \"fictional\", \"popularity\": 10},\n",
    "    {\"id\": 53, \"name\": \"Batman\", \"category\": \"fictional\", \"popularity\": 9},\n",
    "    {\"id\": 54, \"name\": \"Wonder Woman\", \"category\": \"fictional\", \"popularity\": 8},\n",
    "    {\"id\": 55, \"name\": \"Spider-Man\", \"category\": \"fictional\", \"popularity\": 9},\n",
    "    {\"id\": 56, \"name\": \"Hermione Granger\", \"category\": \"fictional\", \"popularity\": 8},\n",
    "    {\"id\": 57, \"name\": \"Luke Skywalker\", \"category\": \"fictional\", \"popularity\": 8},\n",
    "    {\"id\": 58, \"name\": \"Princess Leia\", \"category\": \"fictional\", \"popularity\": 7},\n",
    "    \n",
    "    # Fictional Characters - Medium Popularity\n",
    "    {\"id\": 59, \"name\": \"Gandalf\", \"category\": \"fictional\", \"popularity\": 6},\n",
    "    {\"id\": 60, \"name\": \"Aragorn\", \"category\": \"fictional\", \"popularity\": 5},\n",
    "    {\"id\": 61, \"name\": \"Legolas\", \"category\": \"fictional\", \"popularity\": 4},\n",
    "    {\"id\": 62, \"name\": \"Gimli\", \"category\": \"fictional\", \"popularity\": 3},\n",
    "    {\"id\": 63, \"name\": \"Frodo Baggins\", \"category\": \"fictional\", \"popularity\": 6},\n",
    "    {\"id\": 64, \"name\": \"Samwise Gamgee\", \"category\": \"fictional\", \"popularity\": 5},\n",
    "    \n",
    "    # Animals - High Popularity\n",
    "    {\"id\": 65, \"name\": \"Golden Retriever\", \"category\": \"animals\", \"popularity\": 9},\n",
    "    {\"id\": 66, \"name\": \"Siamese Cat\", \"category\": \"animals\", \"popularity\": 7},\n",
    "    {\"id\": 67, \"name\": \"German Shepherd\", \"category\": \"animals\", \"popularity\": 8},\n",
    "    {\"id\": 68, \"name\": \"Persian Cat\", \"category\": \"animals\", \"popularity\": 6},\n",
    "    {\"id\": 69, \"name\": \"Labrador\", \"category\": \"animals\", \"popularity\": 9},\n",
    "    {\"id\": 70, \"name\": \"Maine Coon\", \"category\": \"animals\", \"popularity\": 5},\n",
    "    \n",
    "    # Animals - Medium Popularity\n",
    "    {\"id\": 71, \"name\": \"Border Collie\", \"category\": \"animals\", \"popularity\": 6},\n",
    "    {\"id\": 72, \"name\": \"Scottish Fold\", \"category\": \"animals\", \"popularity\": 4},\n",
    "    {\"id\": 73, \"name\": \"Siberian Husky\", \"category\": \"animals\", \"popularity\": 7},\n",
    "    {\"id\": 74, \"name\": \"Bengal Cat\", \"category\": \"animals\", \"popularity\": 4},\n",
    "    {\"id\": 75, \"name\": \"Australian Shepherd\", \"category\": \"animals\", \"popularity\": 5},\n",
    "    {\"id\": 76, \"name\": \"Ragdoll Cat\", \"category\": \"animals\", \"popularity\": 3},\n",
    "]\n"
   ]
  },
  {
   "cell_type": "code",
   "execution_count": 7,
   "id": "1a5341e5",
   "metadata": {},
   "outputs": [
    {
     "name": "stderr",
     "output_type": "stream",
     "text": [
      "2025-08-02 09:22:29,505 - openai._base_client - DEBUG - Request options: {'method': 'post', 'url': '/embeddings', 'headers': {'api-key': '<redacted>'}, 'files': None, 'idempotency_key': 'stainless-python-retry-8b68e9fd-2430-486f-84dd-169cdc9da0b0', 'post_parser': <function Embeddings.create.<locals>.parser at 0x00000154DFB034C0>, 'json_data': {'input': ['ID: 1, Name: Alexander, Category: people, Popularity: 9/10', 'ID: 2, Name: Emma, Category: people, Popularity: 10/10', 'ID: 3, Name: William, Category: people, Popularity: 8/10', 'ID: 4, Name: Olivia, Category: people, Popularity: 9/10', 'ID: 5, Name: James, Category: people, Popularity: 8/10', 'ID: 6, Name: Sophia, Category: people, Popularity: 9/10', 'ID: 7, Name: Michael, Category: people, Popularity: 7/10', 'ID: 8, Name: Isabella, Category: people, Popularity: 8/10', 'ID: 9, Name: Benjamin, Category: people, Popularity: 7/10', 'ID: 10, Name: Charlotte, Category: people, Popularity: 8/10', 'ID: 11, Name: Theodore, Category: people, Popularity: 6/10', 'ID: 12, Name: Amelia, Category: people, Popularity: 6/10', 'ID: 13, Name: Sebastian, Category: people, Popularity: 5/10', 'ID: 14, Name: Penelope, Category: people, Popularity: 5/10', 'ID: 15, Name: Nathaniel, Category: people, Popularity: 4/10', 'ID: 16, Name: Genevieve, Category: people, Popularity: 4/10', 'ID: 17, Name: Maximilian, Category: people, Popularity: 3/10', 'ID: 18, Name: Evangeline, Category: people, Popularity: 3/10', 'ID: 19, Name: New York, Category: places, Popularity: 10/10', 'ID: 20, Name: London, Category: places, Popularity: 9/10', 'ID: 21, Name: Paris, Category: places, Popularity: 9/10', 'ID: 22, Name: Tokyo, Category: places, Popularity: 8/10', 'ID: 23, Name: Sydney, Category: places, Popularity: 7/10', 'ID: 24, Name: Rome, Category: places, Popularity: 8/10', 'ID: 25, Name: Barcelona, Category: places, Popularity: 7/10', 'ID: 26, Name: Amsterdam, Category: places, Popularity: 6/10', 'ID: 27, Name: Reykjavik, Category: places, Popularity: 4/10', 'ID: 28, Name: Budapest, Category: places, Popularity: 5/10', 'ID: 29, Name: Prague, Category: places, Popularity: 6/10', 'ID: 30, Name: Vienna, Category: places, Popularity: 5/10', 'ID: 31, Name: Stockholm, Category: places, Popularity: 4/10', 'ID: 32, Name: Copenhagen, Category: places, Popularity: 4/10', 'ID: 33, Name: Helsinki, Category: places, Popularity: 3/10', 'ID: 34, Name: Tallinn, Category: places, Popularity: 2/10', 'ID: 35, Name: Smartphone, Category: things, Popularity: 10/10', 'ID: 36, Name: Laptop, Category: things, Popularity: 9/10', 'ID: 37, Name: Coffee, Category: things, Popularity: 10/10', 'ID: 38, Name: Bicycle, Category: things, Popularity: 7/10', 'ID: 39, Name: Camera, Category: things, Popularity: 6/10', 'ID: 40, Name: Headphones, Category: things, Popularity: 8/10', 'ID: 41, Name: Backpack, Category: things, Popularity: 7/10', 'ID: 42, Name: Sunglasses, Category: things, Popularity: 6/10', 'ID: 43, Name: Telescope, Category: things, Popularity: 3/10', 'ID: 44, Name: Microscope, Category: things, Popularity: 2/10', 'ID: 45, Name: Synthesizer, Category: things, Popularity: 4/10', 'ID: 46, Name: Skateboard, Category: things, Popularity: 5/10', 'ID: 47, Name: Harmonica, Category: things, Popularity: 3/10', 'ID: 48, Name: Kaleidoscope, Category: things, Popularity: 2/10', 'ID: 49, Name: Binoculars, Category: things, Popularity: 4/10', 'ID: 50, Name: Compass, Category: things, Popularity: 3/10', 'ID: 51, Name: Sherlock Holmes, Category: fictional, Popularity: 9/10', 'ID: 52, Name: Harry Potter, Category: fictional, Popularity: 10/10', 'ID: 53, Name: Batman, Category: fictional, Popularity: 9/10', 'ID: 54, Name: Wonder Woman, Category: fictional, Popularity: 8/10', 'ID: 55, Name: Spider-Man, Category: fictional, Popularity: 9/10', 'ID: 56, Name: Hermione Granger, Category: fictional, Popularity: 8/10', 'ID: 57, Name: Luke Skywalker, Category: fictional, Popularity: 8/10', 'ID: 58, Name: Princess Leia, Category: fictional, Popularity: 7/10', 'ID: 59, Name: Gandalf, Category: fictional, Popularity: 6/10', 'ID: 60, Name: Aragorn, Category: fictional, Popularity: 5/10', 'ID: 61, Name: Legolas, Category: fictional, Popularity: 4/10', 'ID: 62, Name: Gimli, Category: fictional, Popularity: 3/10', 'ID: 63, Name: Frodo Baggins, Category: fictional, Popularity: 6/10', 'ID: 64, Name: Samwise Gamgee, Category: fictional, Popularity: 5/10', 'ID: 65, Name: Golden Retriever, Category: animals, Popularity: 9/10', 'ID: 66, Name: Siamese Cat, Category: animals, Popularity: 7/10', 'ID: 67, Name: German Shepherd, Category: animals, Popularity: 8/10', 'ID: 68, Name: Persian Cat, Category: animals, Popularity: 6/10', 'ID: 69, Name: Labrador, Category: animals, Popularity: 9/10', 'ID: 70, Name: Maine Coon, Category: animals, Popularity: 5/10', 'ID: 71, Name: Border Collie, Category: animals, Popularity: 6/10', 'ID: 72, Name: Scottish Fold, Category: animals, Popularity: 4/10', 'ID: 73, Name: Siberian Husky, Category: animals, Popularity: 7/10', 'ID: 74, Name: Bengal Cat, Category: animals, Popularity: 4/10', 'ID: 75, Name: Australian Shepherd, Category: animals, Popularity: 5/10', 'ID: 76, Name: Ragdoll Cat, Category: animals, Popularity: 3/10'], 'model': 'text-embedding-3-small', 'encoding_format': 'base64'}}\n",
      "2025-08-02 09:22:29,505 - openai._base_client - DEBUG - Sending HTTP Request: POST https://aoai-zvbgv7oohofri.cognitiveservices.azure.com/openai/deployments/text-embedding-3-small/embeddings?api-version=2024-12-01-preview\n",
      "2025-08-02 09:22:29,505 - httpcore.connection - DEBUG - connect_tcp.started host='aoai-zvbgv7oohofri.cognitiveservices.azure.com' port=443 local_address=None timeout=5.0 socket_options=None\n",
      "2025-08-02 09:22:29,687 - httpcore.connection - DEBUG - connect_tcp.complete return_value=<httpcore._backends.sync.SyncStream object at 0x00000154DFF38E90>\n",
      "2025-08-02 09:22:29,689 - httpcore.connection - DEBUG - start_tls.started ssl_context=<ssl.SSLContext object at 0x00000154DF8E56D0> server_hostname='aoai-zvbgv7oohofri.cognitiveservices.azure.com' timeout=5.0\n",
      "2025-08-02 09:22:29,882 - httpcore.connection - DEBUG - start_tls.complete return_value=<httpcore._backends.sync.SyncStream object at 0x00000154DFF82090>\n",
      "2025-08-02 09:22:29,884 - httpcore.http11 - DEBUG - send_request_headers.started request=<Request [b'POST']>\n",
      "2025-08-02 09:22:29,884 - httpcore.http11 - DEBUG - send_request_headers.complete\n",
      "2025-08-02 09:22:29,886 - httpcore.http11 - DEBUG - send_request_body.started request=<Request [b'POST']>\n",
      "2025-08-02 09:22:29,887 - httpcore.http11 - DEBUG - send_request_body.complete\n",
      "2025-08-02 09:22:29,888 - httpcore.http11 - DEBUG - receive_response_headers.started request=<Request [b'POST']>\n",
      "2025-08-02 09:22:30,109 - httpcore.http11 - DEBUG - receive_response_headers.complete return_value=(b'HTTP/1.1', 200, b'OK', [(b'Content-Length', b'629036'), (b'Content-Type', b'application/json'), (b'access-control-allow-origin', b'*'), (b'apim-request-id', b'c3353b9e-b523-4ce8-86c9-275c34aade02'), (b'Strict-Transport-Security', b'max-age=31536000; includeSubDomains; preload'), (b'x-content-type-options', b'nosniff'), (b'x-ms-region', b'East US 2'), (b'x-ratelimit-remaining-tokens', b'118839'), (b'x-ratelimit-limit-tokens', b'120000'), (b'x-request-id', b'be9118a0-36ca-4b0e-8a3e-00370e5bfc72'), (b'azureml-model-session', b'd018-20250616081935'), (b'x-envoy-upstream-service-time', b'134'), (b'x-ms-client-request-id', b'c3353b9e-b523-4ce8-86c9-275c34aade02'), (b'x-ms-deployment-name', b'text-embedding-3-small'), (b'Date', b'Sat, 02 Aug 2025 14:22:29 GMT')])\n",
      "2025-08-02 09:22:30,111 - httpx - INFO - HTTP Request: POST https://aoai-zvbgv7oohofri.cognitiveservices.azure.com/openai/deployments/text-embedding-3-small/embeddings?api-version=2024-12-01-preview \"HTTP/1.1 200 OK\"\n",
      "2025-08-02 09:22:30,111 - httpcore.http11 - DEBUG - receive_response_body.started request=<Request [b'POST']>\n",
      "2025-08-02 09:22:30,548 - httpcore.http11 - DEBUG - receive_response_body.complete\n",
      "2025-08-02 09:22:30,548 - httpcore.http11 - DEBUG - response_closed.started\n",
      "2025-08-02 09:22:30,548 - httpcore.http11 - DEBUG - response_closed.complete\n",
      "2025-08-02 09:22:30,548 - openai._base_client - DEBUG - HTTP Response: POST https://aoai-zvbgv7oohofri.cognitiveservices.azure.com/openai/deployments/text-embedding-3-small/embeddings?api-version=2024-12-01-preview \"200 OK\" Headers({'content-length': '629036', 'content-type': 'application/json', 'access-control-allow-origin': '*', 'apim-request-id': 'c3353b9e-b523-4ce8-86c9-275c34aade02', 'strict-transport-security': 'max-age=31536000; includeSubDomains; preload', 'x-content-type-options': 'nosniff', 'x-ms-region': 'East US 2', 'x-ratelimit-remaining-tokens': '118839', 'x-ratelimit-limit-tokens': '120000', 'x-request-id': 'be9118a0-36ca-4b0e-8a3e-00370e5bfc72', 'azureml-model-session': 'd018-20250616081935', 'x-envoy-upstream-service-time': '134', 'x-ms-client-request-id': 'c3353b9e-b523-4ce8-86c9-275c34aade02', 'x-ms-deployment-name': 'text-embedding-3-small', 'date': 'Sat, 02 Aug 2025 14:22:29 GMT'})\n",
      "2025-08-02 09:22:30,557 - openai._base_client - DEBUG - request_id: be9118a0-36ca-4b0e-8a3e-00370e5bfc72\n"
     ]
    },
    {
     "name": "stdout",
     "output_type": "stream",
     "text": [
      "Successfully upserted 76 names into the names ChromaDB collection.\n",
      "Names collection now contains 76 contents.\n"
     ]
    }
   ],
   "source": [
    "# Prepare data for ChromaDB insertion\n",
    "names_contents = []\n",
    "names_metadatas = []\n",
    "names_ids = []\n",
    "\n",
    "for name_data in names_data:\n",
    "    # Create a content string that includes all information about the name\n",
    "    content_text = f\"ID: {name_data['id']}, Name: {name_data['name']}, Category: {name_data['category']}, Popularity: {name_data['popularity']}/10\"\n",
    "    \n",
    "    # Create metadata with id, category and popularity\n",
    "    metadata = {\n",
    "        'id': name_data['id'],\n",
    "        'name': name_data['name'],\n",
    "        'category': name_data['category'],\n",
    "        'popularity': name_data['popularity']\n",
    "    }\n",
    "    \n",
    "    names_contents.append(content_text)\n",
    "    names_metadatas.append(metadata)\n",
    "    names_ids.append(str(name_data['id']))  # Use the id field as ChromaDB content ID\n",
    "\n",
    "# Insert data into ChromaDB names collection\n",
    "names_collection.upsert(\n",
    "    documents=names_contents,\n",
    "    metadatas=names_metadatas,\n",
    "    ids=names_ids\n",
    ")\n",
    "\n",
    "print(f\"Successfully upserted {len(names_contents)} names into the names ChromaDB collection.\")\n",
    "print(f\"Names collection now contains {names_collection.count()} contents.\")"
   ]
  },
  {
   "cell_type": "markdown",
   "id": "874205b8",
   "metadata": {},
   "source": [
    "Let's do a chroma search"
   ]
  },
  {
   "cell_type": "code",
   "execution_count": 8,
   "id": "cb13cd11",
   "metadata": {},
   "outputs": [
    {
     "name": "stderr",
     "output_type": "stream",
     "text": [
      "2025-08-02 09:22:30,839 - openai._base_client - DEBUG - Request options: {'method': 'post', 'url': '/embeddings', 'headers': {'api-key': '<redacted>'}, 'files': None, 'idempotency_key': 'stainless-python-retry-b4b5edf0-1318-4e88-847c-9fd0241fabc4', 'post_parser': <function Embeddings.create.<locals>.parser at 0x00000154DF653880>, 'json_data': {'input': ['What are the most popular names?'], 'model': 'text-embedding-3-small', 'encoding_format': 'base64'}}\n",
      "2025-08-02 09:22:30,841 - openai._base_client - DEBUG - Sending HTTP Request: POST https://aoai-zvbgv7oohofri.cognitiveservices.azure.com/openai/deployments/text-embedding-3-small/embeddings?api-version=2024-12-01-preview\n",
      "2025-08-02 09:22:30,842 - httpcore.http11 - DEBUG - send_request_headers.started request=<Request [b'POST']>\n",
      "2025-08-02 09:22:30,843 - httpcore.http11 - DEBUG - send_request_headers.complete\n",
      "2025-08-02 09:22:30,844 - httpcore.http11 - DEBUG - send_request_body.started request=<Request [b'POST']>\n",
      "2025-08-02 09:22:30,844 - httpcore.http11 - DEBUG - send_request_body.complete\n",
      "2025-08-02 09:22:30,844 - httpcore.http11 - DEBUG - receive_response_headers.started request=<Request [b'POST']>\n",
      "2025-08-02 09:22:30,981 - httpcore.http11 - DEBUG - receive_response_headers.complete return_value=(b'HTTP/1.1', 200, b'OK', [(b'Content-Length', b'8414'), (b'Content-Type', b'application/json'), (b'access-control-allow-origin', b'*'), (b'apim-request-id', b'107602e7-280e-4ea3-969c-d23611052268'), (b'Strict-Transport-Security', b'max-age=31536000; includeSubDomains; preload'), (b'x-content-type-options', b'nosniff'), (b'x-ms-region', b'East US 2'), (b'x-ratelimit-remaining-tokens', b'118831'), (b'x-ratelimit-limit-tokens', b'120000'), (b'x-request-id', b'8de35f7b-54fb-4bf7-be18-f9cea5e53800'), (b'azureml-model-session', b'd019-20250616081935'), (b'x-envoy-upstream-service-time', b'25'), (b'x-ms-client-request-id', b'107602e7-280e-4ea3-969c-d23611052268'), (b'x-ms-deployment-name', b'text-embedding-3-small'), (b'Date', b'Sat, 02 Aug 2025 14:22:30 GMT')])\n",
      "2025-08-02 09:22:30,981 - httpx - INFO - HTTP Request: POST https://aoai-zvbgv7oohofri.cognitiveservices.azure.com/openai/deployments/text-embedding-3-small/embeddings?api-version=2024-12-01-preview \"HTTP/1.1 200 OK\"\n",
      "2025-08-02 09:22:30,981 - httpcore.http11 - DEBUG - receive_response_body.started request=<Request [b'POST']>\n",
      "2025-08-02 09:22:30,981 - httpcore.http11 - DEBUG - receive_response_body.complete\n",
      "2025-08-02 09:22:30,985 - httpcore.http11 - DEBUG - response_closed.started\n",
      "2025-08-02 09:22:30,985 - httpcore.http11 - DEBUG - response_closed.complete\n",
      "2025-08-02 09:22:30,985 - openai._base_client - DEBUG - HTTP Response: POST https://aoai-zvbgv7oohofri.cognitiveservices.azure.com/openai/deployments/text-embedding-3-small/embeddings?api-version=2024-12-01-preview \"200 OK\" Headers({'content-length': '8414', 'content-type': 'application/json', 'access-control-allow-origin': '*', 'apim-request-id': '107602e7-280e-4ea3-969c-d23611052268', 'strict-transport-security': 'max-age=31536000; includeSubDomains; preload', 'x-content-type-options': 'nosniff', 'x-ms-region': 'East US 2', 'x-ratelimit-remaining-tokens': '118831', 'x-ratelimit-limit-tokens': '120000', 'x-request-id': '8de35f7b-54fb-4bf7-be18-f9cea5e53800', 'azureml-model-session': 'd019-20250616081935', 'x-envoy-upstream-service-time': '25', 'x-ms-client-request-id': '107602e7-280e-4ea3-969c-d23611052268', 'x-ms-deployment-name': 'text-embedding-3-small', 'date': 'Sat, 02 Aug 2025 14:22:30 GMT'})\n",
      "2025-08-02 09:22:30,985 - openai._base_client - DEBUG - request_id: 8de35f7b-54fb-4bf7-be18-f9cea5e53800\n"
     ]
    },
    {
     "name": "stdout",
     "output_type": "stream",
     "text": [
      "###############################\n",
      "🔍 Search Results:\n",
      "Query: What are the most popular names?\n",
      "ChromaDB Info: {'db_path': 'c:\\\\Users\\\\aprilhazel\\\\Source\\\\sk_mcp_demo\\\\mcp_rag\\\\data\\\\chroma_db\\\\chroma_db', 'collection_name': 'names_collection', 'collection_count': 76}\n",
      "Found 5 results\n",
      "\n",
      "--- Result #1 ---\n",
      "content: ID: 9, Name: Benjamin, Category: people, Popularity: 7/10...\n",
      "Citation: [Source: ChromaDB | Path: c:\\Users\\aprilhazel\\Source\\sk_mcp_demo\\mcp_rag\\data\\chroma_db\\chroma_db | Collection: names_collection | content ID: 9]\n",
      "--- Result #2 ---\n",
      "content: ID: 1, Name: Alexander, Category: people, Popularity: 9/10...\n",
      "Citation: [Source: ChromaDB | Path: c:\\Users\\aprilhazel\\Source\\sk_mcp_demo\\mcp_rag\\data\\chroma_db\\chroma_db | Collection: names_collection | content ID: 1]\n",
      "--- Result #3 ---\n",
      "content: ID: 4, Name: Olivia, Category: people, Popularity: 9/10...\n",
      "Citation: [Source: ChromaDB | Path: c:\\Users\\aprilhazel\\Source\\sk_mcp_demo\\mcp_rag\\data\\chroma_db\\chroma_db | Collection: names_collection | content ID: 4]\n",
      "--- Result #4 ---\n",
      "content: ID: 12, Name: Amelia, Category: people, Popularity: 6/10...\n",
      "Citation: [Source: ChromaDB | Path: c:\\Users\\aprilhazel\\Source\\sk_mcp_demo\\mcp_rag\\data\\chroma_db\\chroma_db | Collection: names_collection | content ID: 12]\n",
      "--- Result #5 ---\n",
      "content: ID: 11, Name: Theodore, Category: people, Popularity: 6/10...\n",
      "Citation: [Source: ChromaDB | Path: c:\\Users\\aprilhazel\\Source\\sk_mcp_demo\\mcp_rag\\data\\chroma_db\\chroma_db | Collection: names_collection | content ID: 11]\n"
     ]
    },
    {
     "name": "stderr",
     "output_type": "stream",
     "text": [
      "2025-08-02 09:22:31,125 - urllib3.connectionpool - DEBUG - https://us.i.posthog.com:443 \"POST /batch/ HTTP/1.1\" 200 15\n"
     ]
    }
   ],
   "source": [
    "def search_chroma(collection, query, n_results=5):\n",
    "    \"\"\"Search the ChromaDB collection for the given query.\"\"\"\n",
    "    try:\n",
    "        # Get ChromaDB information\n",
    "        chroma_info = {\n",
    "            'db_path': str(chroma_db_path),\n",
    "            'collection_name': collection.name,\n",
    "            'collection_count': collection.count()\n",
    "        }\n",
    "\n",
    "        # Search the collection with the query\n",
    "        search_results = collection.query(\n",
    "            query_texts=[query],\n",
    "            n_results=n_results,\n",
    "            include=['documents', 'metadatas', 'distances']\n",
    "        )\n",
    "        \n",
    "        # Format the retrieved context\n",
    "        context_contents = search_results['documents'][0] if search_results['documents'] else []\n",
    "        context_metadata = search_results['metadatas'][0] if search_results['metadatas'] else []\n",
    "        # Get IDs separately - ChromaDB always returns IDs\n",
    "        context_ids = search_results.get('ids', [[]])[0] if 'ids' in search_results else []\n",
    "        \n",
    "        # If no IDs in search results, we need to get them differently\n",
    "        if not context_ids and context_contents:\n",
    "            # Use index-based IDs as fallback\n",
    "            context_ids = [f\"doc_{i}\" for i in range(len(context_contents))]\n",
    "\n",
    "        structured_context = []\n",
    "        \n",
    "        if context_contents:  # Only build if we have contents\n",
    "            for i, (doc, metadata) in enumerate(zip(context_contents, context_metadata)):\n",
    "                # Get content ID, using index as fallback\n",
    "                doc_id = context_ids[i] if i < len(context_ids) else f\"doc_{i}\"\n",
    "                \n",
    "                # Create formatted citation\n",
    "                citation = f\"[Source: ChromaDB | Path: {chroma_info['db_path']} | Collection: {chroma_info['collection_name']} | content ID: {doc_id}]\"\n",
    "                \n",
    "                # Create structured result object\n",
    "                result_obj = {\n",
    "                    'search_order': i + 1,\n",
    "                    'content': doc,\n",
    "                    'citation': citation,\n",
    "                    'metadata': metadata,\n",
    "                    'context_id': doc_id\n",
    "                }\n",
    "                structured_context.append(result_obj)\n",
    "\n",
    "        return structured_context, chroma_info\n",
    "        \n",
    "    except Exception as e:\n",
    "        # Always return a tuple to avoid unpacking errors\n",
    "        return [], {'error': str(e)}\n",
    "    \n",
    "# Test the search function\n",
    "search_query = \"What are the most popular names?\"\n",
    "search_results, chroma_info = search_chroma(names_collection, search_query, n_results=5)\n",
    "print(\"###############################\")\n",
    "print(\"🔍 Search Results:\")\n",
    "print(f\"Query: {search_query}\")\n",
    "print(f\"ChromaDB Info: {chroma_info}\")\n",
    "\n",
    "if len(search_results) >= 0:\n",
    "    print(f\"Found {len(search_results)} results\\n\")\n",
    "    for result in search_results:\n",
    "        print(f\"--- Result #{result['search_order']} ---\")\n",
    "        print(f\"content: {result['content'][:100]}...\")\n",
    "        print(f\"Citation: {result['citation']}\")\n",
    "else:\n",
    "    print(f\"Error or no results: {search_results}\")"
   ]
  }
 ],
 "metadata": {
  "kernelspec": {
   "display_name": "mcp-rag-server-py3.12",
   "language": "python",
   "name": "python3"
  },
  "language_info": {
   "codemirror_mode": {
    "name": "ipython",
    "version": 3
   },
   "file_extension": ".py",
   "mimetype": "text/x-python",
   "name": "python",
   "nbconvert_exporter": "python",
   "pygments_lexer": "ipython3",
   "version": "3.12.10"
  }
 },
 "nbformat": 4,
 "nbformat_minor": 5
}
