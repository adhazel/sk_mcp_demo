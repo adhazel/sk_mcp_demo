{
 "cells": [
  {
   "cell_type": "code",
   "execution_count": 1,
   "id": "9f61877f",
   "metadata": {},
   "outputs": [
    {
     "name": "stderr",
     "output_type": "stream",
     "text": [
      "2025-08-02 09:23:07,530 - root - INFO - ✅ Loaded environment file for 'local' environment\n",
      "2025-08-02 09:23:07,530 - root - INFO - 🔧 Logging configured at level: DEBUG\n",
      "2025-08-02 09:23:07,530 - root - INFO - ✅ All required configuration loaded for 'local' environment\n"
     ]
    },
    {
     "name": "stdout",
     "output_type": "stream",
     "text": [
      "Config(log_level='DEBUG', environment='local', openai_api_key=None, openai_model=None, openai_api_type='azure', azure_openai_endpoint='https://aoai-zvbgv7oohofri.cognitiveservices.azure.com/', azure_openai_api_key=***, azure_openai_model='gpt-4o', azure_openai_deployment='gpt-4o', azure_openai_api_version='2024-12-01-preview', azure_openai_embedding_endpoint='https://aoai-zvbgv7oohofri.cognitiveservices.azure.com/', azure_openai_embedding_api_key=***, azure_openai_embedding_model='text-embedding-3-small', azure_openai_embedding_deployment='text-embedding-3-small', azure_openai_embedding_api_version='2024-12-01-preview', chroma_db_path='/data/chroma_db', serp_api_key=***, project_root=WindowsPath('c:/Users/aprilhazel/Source/sk_mcp_demo/mcp_rag'))\n"
     ]
    }
   ],
   "source": [
    "import sys\n",
    "import os\n",
    "from pathlib import Path\n",
    "\n",
    "# Add src directory to path\n",
    "project_root = os.path.join(str(Path.cwd().parent ),'src')\n",
    "sys.path.insert(0, project_root)\n",
    "\n",
    "# config\n",
    "from utils import Config\n",
    "config = Config(environment = \"local\")\n",
    "print(config)"
   ]
  },
  {
   "cell_type": "markdown",
   "id": "79bb0a76",
   "metadata": {},
   "source": [
    "Creating the ChromaDB vector database, embedding, and storing data"
   ]
  },
  {
   "cell_type": "code",
   "execution_count": 2,
   "id": "5fe6523d",
   "metadata": {},
   "outputs": [],
   "source": [
    "import chromadb\n",
    "from chromadb.utils import embedding_functions\n",
    "\n",
    "# ChromaDB embeding_function\n",
    "aoai_embedding_function = embedding_functions.OpenAIEmbeddingFunction(\n",
    "    api_key=config.azure_openai_embedding_api_key,\n",
    "    api_base=config.azure_openai_embedding_endpoint,\n",
    "    api_type=config.openai_api_type,\n",
    "    api_version=config.azure_openai_embedding_api_version,\n",
    "    model_name=config.azure_openai_embedding_model,\n",
    "    deployment_id=config.azure_openai_embedding_deployment\n",
    ")"
   ]
  },
  {
   "cell_type": "code",
   "execution_count": 3,
   "id": "0c604c45",
   "metadata": {},
   "outputs": [
    {
     "name": "stderr",
     "output_type": "stream",
     "text": [
      "2025-08-02 09:23:15,759 - chromadb.telemetry.product.posthog - INFO - Anonymized telemetry enabled. See                     https://docs.trychroma.com/telemetry for more information.\n",
      "2025-08-02 09:23:16,228 - chromadb.config - DEBUG - Starting component System\n",
      "2025-08-02 09:23:16,228 - chromadb.config - DEBUG - Starting component Posthog\n"
     ]
    },
    {
     "name": "stdout",
     "output_type": "stream",
     "text": [
      "ChromaDB path: c:\\Users\\aprilhazel\\Source\\sk_mcp_demo\\mcp_rag\\data\\chroma_db\\chroma_db\n"
     ]
    }
   ],
   "source": [
    "from pathlib import Path\n",
    "\n",
    "chroma_db_path = Path(config.project_root/config.chroma_db_path.lstrip('./')/'chroma_db')\n",
    "chroma_client = chromadb.PersistentClient(path=str(chroma_db_path))\n",
    "print(f\"ChromaDB path: {chroma_db_path}\")"
   ]
  },
  {
   "cell_type": "markdown",
   "id": "ecb3d47f",
   "metadata": {},
   "source": [
    "Create and a collection within the db"
   ]
  },
  {
   "cell_type": "code",
   "execution_count": 4,
   "id": "33a4dae3",
   "metadata": {},
   "outputs": [
    {
     "data": {
      "text/plain": [
       "[Collection(name=names_collection), Collection(name=product_collection)]"
      ]
     },
     "execution_count": 4,
     "metadata": {},
     "output_type": "execute_result"
    }
   ],
   "source": [
    "# Create or get the collection\n",
    "try:\n",
    "    products_collection = chroma_client.get_or_create_collection (\n",
    "        name=\"product_collection\", embedding_function=aoai_embedding_function)\n",
    "except Exception as e:\n",
    "    raise e\n",
    "\n",
    "chroma_client.list_collections()"
   ]
  },
  {
   "cell_type": "code",
   "execution_count": 5,
   "id": "901c7f68",
   "metadata": {},
   "outputs": [],
   "source": [
    "# Delete data (if you want to start fresh)\n",
    "products_collection.delete(\n",
    "    where={\"name\": {\"$ne\": \"\"}}\n",
    ")"
   ]
  },
  {
   "cell_type": "code",
   "execution_count": 6,
   "id": "e5fc0cde",
   "metadata": {},
   "outputs": [
    {
     "data": {
      "text/plain": [
       "{'ids': [],\n",
       " 'embeddings': array([], dtype=float64),\n",
       " 'documents': [],\n",
       " 'uris': None,\n",
       " 'included': ['metadatas', 'documents', 'embeddings'],\n",
       " 'data': None,\n",
       " 'metadatas': []}"
      ]
     },
     "execution_count": 6,
     "metadata": {},
     "output_type": "execute_result"
    }
   ],
   "source": [
    "# https://docs.trychroma.com/docs/collections/manage-collections\n",
    "# See the top 10 records\n",
    "products_collection.peek()"
   ]
  },
  {
   "cell_type": "markdown",
   "id": "9c71a308",
   "metadata": {},
   "source": [
    "Import contoso products (csv source: https://github.com/Azure-Samples/contoso-chat/blob/main/data/product_info/products.csv)"
   ]
  },
  {
   "cell_type": "code",
   "execution_count": 7,
   "id": "ea46eef2",
   "metadata": {},
   "outputs": [
    {
     "name": "stderr",
     "output_type": "stream",
     "text": [
      "2025-08-02 09:23:16,750 - urllib3.connectionpool - DEBUG - Starting new HTTPS connection (1): us.i.posthog.com:443\n",
      "2025-08-02 09:23:16,921 - urllib3.connectionpool - DEBUG - https://us.i.posthog.com:443 \"POST /batch/ HTTP/1.1\" 200 15\n",
      "2025-08-02 09:23:28,599 - openai._base_client - DEBUG - Request options: {'method': 'post', 'url': '/embeddings', 'headers': {'api-key': '<redacted>'}, 'files': None, 'idempotency_key': 'stainless-python-retry-cb156f6b-736b-4dca-930a-e760589f1630', 'post_parser': <function Embeddings.create.<locals>.parser at 0x00000259AE5276A0>, 'json_data': {'input': ['ID: 1, Name: TrailMaster X4 Tent, Price: $250.0, Category: Tents, Brand: OutdoorLiving, Description: Unveiling the TrailMaster X4 Tent from OutdoorLiving, your home away from home for your next camping adventure. Crafted from durable polyester, this tent boasts a spacious interior perfect for four occupants. It ensures your dryness under drizzly skies thanks to its water-resistant construction, and the accompanying rainfly adds an extra layer of weather protection. It offers refreshing airflow and bug defence, courtesy of its mesh panels. Accessibility is not an issue with its multiple doors and interior pockets that keep small items tidy. Reflective guy lines grant better visibility at night, and the freestanding design simplifies setup and relocation. With the included carry bag, transporting this convenient abode becomes a breeze. Be it an overnight getaway or a week-long nature escapade, the TrailMaster X4 Tent provides comfort, convenience, and concord with the great outdoors. Comes with a two-year limited warranty to ensure customer satisfaction.', \"ID: 2, Name: Adventurer Pro Backpack, Price: $90.0, Category: Backpacks, Brand: HikeMate, Description: Venture into the wilderness with the HikeMate's Adventurer Pro Backpack! Uniquely designed with ergonomic comfort in mind, this backpack ensures a steadfast journey no matter the mileage. It boasts a generous 40L capacity wrapped up in durable nylon fabric ensuring its long-lasting performance on even the most rugged pursuits. It's meticulously fashioned with multiple compartments and pockets for organized storage, hydration system compatibility, and adjustable padded shoulder straps all in a lightweight construction. The added features of a sternum strap and hip belt enhance stability without compromising on comfort. The Adventurer Pro Backpack also prioritizes your safety with its reflective accents for when night falls. This buoyant beauty does more than carry your essentials; it carries the promise of a stress-free adventure!\", \"ID: 3, Name: Summit Breeze Jacket, Price: $120.0, Category: Hiking Clothing, Brand: MountainStyle, Description: Discover the joy of hiking with MountainStyle's Summit Breeze Jacket. This lightweight jacket is your perfect companion for outdoor adventures. Sporting a trail-ready, windproof design and a water-resistant fabric, it's ready to withstand any weather. The breathable polyester material and adjustable cuffs keep you comfortable, whether you're ascending a mountain or strolling through a park. And its sleek black color adds style to function. The jacket features a full-zip front closure, adjustable hood, and secure zippered pockets. Experience the comfort of its inner lining and the convenience of its packable design. Crafted for night trekkers too, the jacket has reflective accents for enhanced visibility. Rugged yet chic, the Summit Breeze Jacket is more than a hiking essential, it's the gear that inspires you to reach new heights. Choose adventure, choose the Summit Breeze Jacket.\", \"ID: 4, Name: TrekReady Hiking Boots, Price: $140.0, Category: Hiking Footwear, Brand: TrekReady, Description: Introducing the TrekReady Hiking Boots - stepping up your hiking game, one footprint at a time! Crafted from leather, these stylistic Trailmates are made to last. TrekReady infuses durability with its reinforced stitching and toe protection, making sure your journey is never stopped short. Comfort? They have that covered too! The boots are a haven with their breathable materials, cushioned insole, with padded collar and tongue; all nestled neatly within their lightweight design. As they say, it's what's inside that counts - so inside you'll find a moisture-wicking lining that quarantines stank and keeps your feet fresh as that mountaintop breeze. Remember the fear of slippery surfaces? With these boots, you can finally tell it to 'take a hike'! Their shock-absorbing midsoles and excellent traction capabilities promise stability at your every step. Beautifully finished in a traditional lace-up system, every adventurer deserves a pair of TrekReady Hiking Boots. Hike more, worry less!\", \"ID: 5, Name: BaseCamp Folding Table, Price: $60.0, Category: Camping Tables, Brand: CampBuddy, Description: CampBuddy's BaseCamp Folding Table is an adventurer's best friend. Lightweight yet powerful, the table is a testament to fun-meets-function and will elevate any outing to new heights. Crafted from resilient, rust-resistant aluminum, the table boasts a generously sized 48 x 24 inches tabletop, perfect for meal times, games and more. The foldable design is a godsend for on-the-go explorers. Adjustable legs rise to the occasion to conquer uneven terrains and offer height versatility, while the built-in handle simplifies transportation. Additional features like non-slip feet, integrated cup holders and mesh pockets add a pinch of finesse. Quick to set up without the need for extra tools, this table is a silent yet indispensable sidekick during camping, picnics, and other outdoor events. Don't miss out on the opportunity to take your outdoor experiences to a new level with the BaseCamp Folding Table. Get yours today and embark on new adventures tomorrow! \", \"ID: 6, Name: EcoFire Camping Stove, Price: $80.0, Category: Camping Stoves, Brand: EcoFire, Description: Introducing EcoFire's Camping Stove, your ultimate companion for every outdoor adventure! This portable wonder is precision-engineered with a lightweight and compact design, perfect for capturing that spirit of wanderlust. Made from high-quality stainless steel, it promises durability and steadfast performance. This stove is not only fuel-efficient but also offers an easy, intuitive operation that ensures hassle-free cooking. Plus, it's flexible, accommodating a variety of cooking methods whether you're boiling, grilling, or simmering under the starry sky. Its stable construction, quick setup, and adjustable flame control make cooking a breeze, while safety features protect you from any potential mishaps. And did we mention it also includes an effective wind protector and a carry case for easy transportation? But that's not all! The EcoFire Camping Stove is eco-friendly, designed to minimize environmental impact. So get ready to enhance your camping experience and enjoy delicious outdoor feasts with this unique, versatile stove!\", \"ID: 7, Name: CozyNights Sleeping Bag, Price: $100.0, Category: Sleeping Bags, Brand: CozyNights, Description: Embrace the great outdoors in any season with the lightweight CozyNights Sleeping Bag! This durable three-season bag is superbly designed to give hikers, campers, and backpackers comfort and warmth during spring, summer, and fall. With a compact design that folds down into a convenient stuff sack, you can whisk it away on any adventure without a hitch. The sleeping bag takes comfort seriously, featuring a handy hood, ample room and padding, and a reliable temperature rating. Crafted from high-quality polyester, it ensures long-lasting use and can even be zipped together with another bag for shared comfort. Whether you're gazing at stars or catching a quick nap between trails, the CozyNights Sleeping Bag makes it a treat. Don't just sleep— dream with CozyNights.\", \"ID: 8, Name: Alpine Explorer Tent, Price: $350.0, Category: Tents, Brand: AlpineGear, Description: Welcome to the joy of camping with the Alpine Explorer Tent! This robust, 8-person, 3-season marvel is from the responsible hands of the AlpineGear brand. Promising an enviable setup that is as straightforward as counting sheep, your camping experience is transformed into a breezy pastime. Looking for privacy? The detachable divider provides separate spaces at a moment's notice. Love a tent that breathes? The numerous mesh windows and adjustable vents fend off any condensation dragon trying to dampen your adventure fun. The waterproof assurance keeps you worry-free during unexpected rain dances. With a built-in gear loft to stash away your outdoor essentials, the Alpine Explorer Tent emerges as a smooth balance of privacy, comfort, and convenience. Simply put, this tent isn't just a shelter - it's your second home in the heart of nature! Whether you're a seasoned camper or a nature-loving novice, this tent makes exploring the outdoors a joyous journey.\", \"ID: 9, Name: SummitClimber Backpack, Price: $120.0, Category: Backpacks, Brand: HikeMate, Description: Adventure waits for no one! Introducing the HikeMate SummitClimber Backpack, your reliable partner for every exhilarating journey. With a generous 60-liter capacity and multiple compartments and pockets, packing is a breeze. Every feature points to comfort and convenience; the ergonomic design and adjustable hip belt ensure a pleasantly personalized fit, while padded shoulder straps protect you from the burden of carrying. Venturing into wet weather? Fear not! The integrated rain cover has your back, literally. Stay hydrated thanks to the backpack's hydration system compatibility. Travelling during twilight? Reflective accents keep you visible in low-light conditions. The SummitClimber Backpack isn't merely a carrier; it's a wearable base camp constructed from ruggedly durable nylon and thoughtfully designed for the great outdoors adventurer, promising to withstand tough conditions and provide years of service. So, set off on that quest - the wild beckons! The SummitClimber Backpack - your hearty companion on every expedition!\", \"ID: 10, Name: TrailBlaze Hiking Pants, Price: $75.0, Category: Hiking Clothing, Brand: MountainStyle, Description: Meet the TrailBlaze Hiking Pants from MountainStyle, the stylish khaki champions of the trails. These are not just pants; they're your passport to outdoor adventure. Crafted from high-quality nylon fabric, these dapper troopers are lightweight and fast-drying, with a water-resistant armor that laughs off light rain. Their breathable design whisks away sweat while their articulated knees grant you the flexibility of a mountain goat. Zippered pockets guard your essentials, making them a hiker's best ally. Designed with durability for all your trekking trials, these pants come with a comfortable, ergonomic fit that will make you forget you're wearing them. Sneak a peek, and you are sure to be tempted by the sleek allure that is the TrailBlaze Hiking Pants. Your outdoors wardrobe wouldn't be quite complete without them.\", \"ID: 11, Name: TrailWalker Hiking Shoes, Price: $110.0, Category: Hiking Footwear, Brand: TrekReady, Description: Meet the TrekReady TrailWalker Hiking Shoes, the ideal companion for all your outdoor adventures. Constructed with synthetic leather and breathable mesh, these shoes are tough as nails yet surprisingly airy. Their cushioned insoles offer fabulous comfort for long hikes, while the supportive midsoles and traction outsoles with multidirectional lugs ensure stability and excellent grip. A quick-lace system, padded collar and tongue, and reflective accents make these shoes a dream to wear. From combating rough terrain with the reinforced toe cap and heel, to keeping off trail debris with the protective mudguard, the TrailWalker Hiking Shoes have you covered. These waterproof warriors are made to endure all weather conditions. But they're not just about being rugged, they're light as a feather too, minimizing fatigue during epic hikes. Each pair can be customized for a perfect fit with removable insoles and availability in multiple sizes and widths. Navigate hikes comfortably and confidently with the TrailWalker Hiking Shoes. Adventure, here you come!\", \"ID: 12, Name: TrekMaster Camping Chair, Price: $50.0, Category: Camping Tables, Brand: CampBuddy, Description: Gravitate towards comfort with the TrekMaster Camping Chair from CampBuddy. This trusty outdoor companion boasts sturdy construction using high-quality materials that promise durability and enjoyment for seasons to come. Impeccably lightweight and portable, it's designed to be your go-to seat whether you're camping, at a picnic, cheering at a sporting event, or simply relishing in your backyard pleasures. Beyond its foldable design ensuring compact storage and easy transportation, its ergonomic magic is in the details. An adjustable recline, padded seat and backrest, integrated cup holder, and side pockets ensure the greatest outdoor comfort. Weather resistant, easy to clean, and capable of supporting diverse body types, this versatile chair also comes with a carry bag, ready for your next adventure.\", \"ID: 13, Name: PowerBurner Camping Stove, Price: $100.0, Category: Camping Stoves, Brand: PowerBurner, Description: Unleash your inner explorer with the PowerBurner Dual Burner Camping Stove. It's designed for the adventurous heart, with sturdy construction and a high heat output that makes boiling and cooking a breeze. This stove isn't just about strength—it's got finesse too. With adjustable flame control, you can simmer, sauté, or sizzle with absolute precision. Its compact design and integrated carrying handle make transportation effortless. Moreover, it's crafted to defy the elements, boasting a wind-resistant exterior and piezo ignition system for quick, reliable starts. And when the cooking's done, its removable grates make cleanup swift and easy. Rugged, versatile and reliable, the PowerBurner marks a perfect blend of practicality and performance. So, why wait? Let's turn up the heat on your outdoor culinary adventures today.\", \"ID: 14, Name: MountainDream Sleeping Bag, Price: $130.0, Category: Sleeping Bags, Brand: MountainDream, Description: Meet the MountainDream Sleeping Bag: your new must-have companion for every outdoor adventure. Designed to handle 3-season camping with ease, it comes equipped with a premium synthetic insulation that will keep you cozy even when temperatures fall down to 15°F! Sporting a durable water-resistant nylon shell and soft breathable polyester lining, this bag doesn't sacrifice comfort for toughness. The star of the show is the contoured mummy shape that not only provides optimal heat retention but also cuts down on the weight. A smooth, snag-free YKK zipper with a unique anti-snag design allows for hassle-free operation, while the adjustable hood and full-length zipper baffle work together to ensure you stay warm all night long. Need to bring along some essentials? Not to worry! There's an interior pocket just for that. And when it's time to pack up? Just slip it into the included compression sack for easy storage and transport. Whether you're a backpacking pro or a camping novice, the MountainDream Sleeping Bag is the perfect blend of durability, warmth, and comfort that you've been looking for.\", \"ID: 15, Name: SkyView 2-Person Tent, Price: $200.0, Category: Tents, Brand: OutdoorLiving, Description: Introducing the OutdoorLiving SkyView 2-Person Tent, a perfect companion for your camping and hiking adventures. This tent offers a spacious interior that houses two people comfortably, with room to spare. Crafted from durable waterproof materials to shield you from the elements, it is the fortress you need in the wild. Setup is a breeze thanks to its intuitive design and color-coded poles, while two large doors allow for easy access. Stay organized with interior pockets, and store additional gear in its two vestibules. The tent also features mesh panels for effective ventilation, and it comes with a rainfly for extra weather protection. Light enough for on-the-go adventurers, it packs compactly into a carrying bag for seamless transportation. Reflective guy lines ensure visibility at night for added safety, and the tent stands freely for versatile placement. Experience the reliability of double-stitched seams that guarantee increased durability, and rest easy under the stars with OutdoorLiving's SkyView 2-Person Tent. It's not just a tent; it's your home away from home.\", \"ID: 16, Name: TrailLite Daypack, Price: $60.0, Category: Backpacks, Brand: HikeMate, Description: Step up your hiking game with HikeMate's TrailLite Daypack. Built for comfort and efficiency, this lightweight and durable backpack offers a spacious main compartment, multiple pockets, and organization-friendly features all in one sleek package. The adjustable shoulder straps and padded back panel ensure optimal comfort during those long exhilarating treks. Course through nature without worry as the daypack's water-resistant fabric protects your essentials from unexpected showers. Plus, never run dry with the integrated hydration system. And did we mention it comes in a plethora of colors and designs? So you can choose one that truly speaks to your outdoorsy soul! Keeping your visibility in mind, we've added reflective accents that light up in low-light conditions. Don't just carry a backpack, adorn a companion that takes you a step ahead in your adventures. Trust the TrailLite Daypack for a hassle-free, enjoyable hiking experience.\", \"ID: 17, Name: RainGuard Hiking Jacket, Price: $110.0, Category: Hiking Clothing, Brand: MountainStyle, Description: Introducing the MountainStyle RainGuard Hiking Jacket - the ultimate solution for weatherproof comfort during your outdoor undertakings! Designed with waterproof, breathable fabric, this jacket promises an outdoor experience that's as dry as it is comfortable. The rugged construction assures durability, while the adjustable hood provides a customizable fit against wind and rain. Featuring multiple pockets for safe, convenient storage and adjustable cuffs and hem, you can tailor the jacket to suit your needs on-the-go. And, don't worry about overheating during intense activities - it's equipped with ventilation zippers for increased airflow. Reflective details ensure visibility even during low-light conditions, making it perfect for evening treks. With its lightweight, packable design, carrying it inside your backpack requires minimal effort. With options for men and women, the RainGuard Hiking Jacket is perfect for hiking, camping, trekking and countless other outdoor adventures. Don't let the weather stand in your way - embrace the outdoors with MountainStyle RainGuard Hiking Jacket!\", 'ID: 18, Name: TrekStar Hiking Sandals, Price: $70.0, Category: Hiking Footwear, Brand: TrekReady, Description: Meet the TrekStar Hiking Sandals from TrekReady - the ultimate trail companion for your feet. Designed for comfort and durability, these lightweight sandals are perfect for those who prefer to see the world from a hiking trail. They feature adjustable straps for a snug, secure fit, perfect for adapting to the contours of your feet. With a breathable design, your feet will stay cool and dry, escaping the discomfort of sweaty hiking boots on long summer treks. The deep tread rubber outsole ensures excellent traction on any terrain, while the cushioned footbed promises enhanced comfort with every step. For those wild and unpredictable trails, the added toe protection and shock-absorbing midsole protect your feet from rocky surprises. Ingeniously, the removable insole makes for easy cleaning and maintenance, extending the lifespan of your sandals. Available in various sizes and a handsome brown color, the versatile TrekStar Hiking Sandals are just as comfortable on a casual walk in the park as they are navigating rocky slopes. Explore more with TrekReady!', \"ID: 19, Name: Adventure Dining Table, Price: $90.0, Category: Camping Tables, Brand: CampBuddy, Description: Discover the joy of outdoor adventures with the CampBuddy Adventure Dining Table. This feature-packed camping essential brings both comfort and convenience to your memorable trips. Made from high-quality aluminum, it promises long-lasting performance, weather resistance, and easy maintenance - all key for the great outdoors! It's light, portable, and comes with adjustable height settings to suit various seating arrangements and the spacious surface comfortably accommodates meals, drinks, and other essentials. The sturdy yet lightweight frame holds food, dishes, and utensils with ease. When it's time to pack up, it fold and stows away with no fuss, ready for the next adventure!  Perfect for camping, picnics, barbecues, and beach outings - its versatility shines as brightly as the summer sun! Durable, sturdy and a breeze to set up, the Adventure Dining Table will be a loyal companion on every trip. Embark on your next adventure and make lifetime memories with CampBuddy. As with all good experiences, it'll leave you wanting more! \", \"ID: 20, Name: CompactCook Camping Stove, Price: $60.0, Category: Camping Stoves, Brand: CompactCook, Description: Step into the great outdoors with the CompactCook Camping Stove, a convenient, lightweight companion perfect for all your culinary camping needs. Boasting a robust design built for harsh environments, you can whip up meals anytime, anywhere. Its wind-resistant and fuel-versatile features coupled with an efficient cooking performance, ensures you won't have to worry about the elements or helpless taste buds while on adventures. The easy ignition technology and adjustable flame control make cooking as easy as a walk in the park, while its compact, foldable design makes packing a breeze. Whether you're camping with family or hiking solo, this reliable, portable stove is an essential addition to your gear. With its sturdy construction and safety-focused design, the CompactCook Camping Stove is a step above the rest, providing durability, quality, and peace of mind. Be wild, be free, be cooked for with the CompactCook Camping Stove!\"], 'model': 'text-embedding-3-small', 'encoding_format': 'base64'}}\n",
      "2025-08-02 09:23:28,602 - openai._base_client - DEBUG - Sending HTTP Request: POST https://aoai-zvbgv7oohofri.cognitiveservices.azure.com/openai/deployments/text-embedding-3-small/embeddings?api-version=2024-12-01-preview\n",
      "2025-08-02 09:23:28,604 - httpcore.connection - DEBUG - connect_tcp.started host='aoai-zvbgv7oohofri.cognitiveservices.azure.com' port=443 local_address=None timeout=5.0 socket_options=None\n",
      "2025-08-02 09:23:28,772 - httpcore.connection - DEBUG - connect_tcp.complete return_value=<httpcore._backends.sync.SyncStream object at 0x00000259ADD15A30>\n",
      "2025-08-02 09:23:28,774 - httpcore.connection - DEBUG - start_tls.started ssl_context=<ssl.SSLContext object at 0x00000259AC5502D0> server_hostname='aoai-zvbgv7oohofri.cognitiveservices.azure.com' timeout=5.0\n",
      "2025-08-02 09:23:28,957 - httpcore.connection - DEBUG - start_tls.complete return_value=<httpcore._backends.sync.SyncStream object at 0x00000259AE503B00>\n",
      "2025-08-02 09:23:28,959 - httpcore.http11 - DEBUG - send_request_headers.started request=<Request [b'POST']>\n",
      "2025-08-02 09:23:28,961 - httpcore.http11 - DEBUG - send_request_headers.complete\n",
      "2025-08-02 09:23:28,962 - httpcore.http11 - DEBUG - send_request_body.started request=<Request [b'POST']>\n",
      "2025-08-02 09:23:28,964 - httpcore.http11 - DEBUG - send_request_body.complete\n",
      "2025-08-02 09:23:28,965 - httpcore.http11 - DEBUG - receive_response_headers.started request=<Request [b'POST']>\n",
      "2025-08-02 09:23:29,289 - httpcore.http11 - DEBUG - receive_response_headers.complete return_value=(b'HTTP/1.1', 200, b'OK', [(b'Content-Length', b'165636'), (b'Content-Type', b'application/json'), (b'access-control-allow-origin', b'*'), (b'apim-request-id', b'94655974-5cff-4ca3-a05d-0c549bd0de0c'), (b'Strict-Transport-Security', b'max-age=31536000; includeSubDomains; preload'), (b'x-content-type-options', b'nosniff'), (b'x-ms-region', b'East US 2'), (b'x-ratelimit-remaining-tokens', b'113452'), (b'x-ratelimit-limit-tokens', b'120000'), (b'x-request-id', b'b6d3930d-f3b4-48a9-b8a5-ab3a4a1957cc'), (b'azureml-model-session', b'd018-20250616081935'), (b'x-envoy-upstream-service-time', b'106'), (b'x-ms-client-request-id', b'94655974-5cff-4ca3-a05d-0c549bd0de0c'), (b'x-ms-deployment-name', b'text-embedding-3-small'), (b'Date', b'Sat, 02 Aug 2025 14:23:29 GMT')])\n",
      "2025-08-02 09:23:29,292 - httpx - INFO - HTTP Request: POST https://aoai-zvbgv7oohofri.cognitiveservices.azure.com/openai/deployments/text-embedding-3-small/embeddings?api-version=2024-12-01-preview \"HTTP/1.1 200 OK\"\n",
      "2025-08-02 09:23:29,292 - httpcore.http11 - DEBUG - receive_response_body.started request=<Request [b'POST']>\n",
      "2025-08-02 09:23:29,518 - httpcore.http11 - DEBUG - receive_response_body.complete\n",
      "2025-08-02 09:23:29,520 - httpcore.http11 - DEBUG - response_closed.started\n",
      "2025-08-02 09:23:29,521 - httpcore.http11 - DEBUG - response_closed.complete\n",
      "2025-08-02 09:23:29,524 - openai._base_client - DEBUG - HTTP Response: POST https://aoai-zvbgv7oohofri.cognitiveservices.azure.com/openai/deployments/text-embedding-3-small/embeddings?api-version=2024-12-01-preview \"200 OK\" Headers({'content-length': '165636', 'content-type': 'application/json', 'access-control-allow-origin': '*', 'apim-request-id': '94655974-5cff-4ca3-a05d-0c549bd0de0c', 'strict-transport-security': 'max-age=31536000; includeSubDomains; preload', 'x-content-type-options': 'nosniff', 'x-ms-region': 'East US 2', 'x-ratelimit-remaining-tokens': '113452', 'x-ratelimit-limit-tokens': '120000', 'x-request-id': 'b6d3930d-f3b4-48a9-b8a5-ab3a4a1957cc', 'azureml-model-session': 'd018-20250616081935', 'x-envoy-upstream-service-time': '106', 'x-ms-client-request-id': '94655974-5cff-4ca3-a05d-0c549bd0de0c', 'x-ms-deployment-name': 'text-embedding-3-small', 'date': 'Sat, 02 Aug 2025 14:23:29 GMT'})\n",
      "2025-08-02 09:23:29,524 - openai._base_client - DEBUG - request_id: b6d3930d-f3b4-48a9-b8a5-ab3a4a1957cc\n"
     ]
    },
    {
     "name": "stdout",
     "output_type": "stream",
     "text": [
      "Successfully upserted 20 products into the ChromaDB collection.\n",
      "Collection now contains 20 contents.\n"
     ]
    }
   ],
   "source": [
    "import pandas as pd\n",
    "\n",
    "# Read the CSV file\n",
    "products_df = pd.read_csv('products.csv')\n",
    "\n",
    "# Prepare data for ChromaDB insertion\n",
    "contents = []\n",
    "metadatas = []\n",
    "ids = []\n",
    "\n",
    "for _, row in products_df.iterrows():\n",
    "    # Create a string that includes all column information\n",
    "    content = {\n",
    "        'id': row['id'],\n",
    "        'name': row['name'],\n",
    "        'price': row['price'],\n",
    "        'category': row['category'],\n",
    "        'brand': row['brand'],\n",
    "        'description': row['description']\n",
    "    }\n",
    "    \n",
    "    # Convert the dictionary to a string for ChromaDB\n",
    "    content_text = f\"ID: {row['id']}, Name: {row['name']}, Price: ${row['price']}, Category: {row['category']}, Brand: {row['brand']}, Description: {row['description']}\"\n",
    "    \n",
    "    # Create metadata with id, name, price, category, and brand\n",
    "    metadata = {\n",
    "        'id': str(row['id']),  # Convert to string for metadata\n",
    "        'name': row['name'],\n",
    "        'price': float(row['price']),\n",
    "        'category': row['category'],\n",
    "        'brand': row['brand']\n",
    "    }\n",
    "    \n",
    "    contents.append(content_text)\n",
    "    metadatas.append(metadata)\n",
    "    ids.append(str(row['id']))  # Use the id column as ChromaDB id\n",
    "\n",
    "# Upsert data into ChromaDB collection\n",
    "products_collection.upsert(\n",
    "    documents=contents,\n",
    "    metadatas=metadatas,\n",
    "    ids=ids\n",
    ")\n",
    "\n",
    "print(f\"Successfully upserted {len(contents)} products into the ChromaDB collection.\")\n",
    "print(f\"Collection now contains {products_collection.count()} contents.\")"
   ]
  },
  {
   "cell_type": "markdown",
   "id": "1774cd02",
   "metadata": {},
   "source": [
    "Take a peek"
   ]
  },
  {
   "cell_type": "code",
   "execution_count": 8,
   "id": "b734ef85",
   "metadata": {},
   "outputs": [
    {
     "data": {
      "text/plain": [
       "{'ids': ['1', '2', '3', '4', '5', '6', '7', '8', '9', '10'],\n",
       " 'embeddings': array([[ 1.41727021e-02,  1.49021791e-02,  1.75986402e-02, ...,\n",
       "         -3.55945830e-03,  1.71296895e-02, -5.08524954e-06],\n",
       "        [ 2.44422704e-02, -4.82865900e-04,  1.69588719e-02, ...,\n",
       "         -2.43603578e-03, -1.88854206e-02, -1.77452192e-02],\n",
       "        [ 8.51014908e-03,  1.44666352e-03, -2.56910156e-02, ...,\n",
       "         -1.57975033e-02,  2.48387661e-02,  1.56492870e-02],\n",
       "        ...,\n",
       "        [ 1.25831766e-02, -1.96192153e-02,  2.62994990e-02, ...,\n",
       "         -1.26358811e-02, -5.32314507e-03,  2.76961643e-02],\n",
       "        [-4.46882518e-03,  9.49968025e-03,  7.98494089e-03, ...,\n",
       "         -1.32762492e-02, -1.66004524e-02, -1.12474570e-02],\n",
       "        [ 1.46424361e-02,  2.95980796e-02, -3.25996466e-02, ...,\n",
       "         -4.83122095e-02, -4.44525824e-04, -3.22342403e-02]],\n",
       "       shape=(10, 1536)),\n",
       " 'documents': ['ID: 1, Name: TrailMaster X4 Tent, Price: $250.0, Category: Tents, Brand: OutdoorLiving, Description: Unveiling the TrailMaster X4 Tent from OutdoorLiving, your home away from home for your next camping adventure. Crafted from durable polyester, this tent boasts a spacious interior perfect for four occupants. It ensures your dryness under drizzly skies thanks to its water-resistant construction, and the accompanying rainfly adds an extra layer of weather protection. It offers refreshing airflow and bug defence, courtesy of its mesh panels. Accessibility is not an issue with its multiple doors and interior pockets that keep small items tidy. Reflective guy lines grant better visibility at night, and the freestanding design simplifies setup and relocation. With the included carry bag, transporting this convenient abode becomes a breeze. Be it an overnight getaway or a week-long nature escapade, the TrailMaster X4 Tent provides comfort, convenience, and concord with the great outdoors. Comes with a two-year limited warranty to ensure customer satisfaction.',\n",
       "  \"ID: 2, Name: Adventurer Pro Backpack, Price: $90.0, Category: Backpacks, Brand: HikeMate, Description: Venture into the wilderness with the HikeMate's Adventurer Pro Backpack! Uniquely designed with ergonomic comfort in mind, this backpack ensures a steadfast journey no matter the mileage. It boasts a generous 40L capacity wrapped up in durable nylon fabric ensuring its long-lasting performance on even the most rugged pursuits. It's meticulously fashioned with multiple compartments and pockets for organized storage, hydration system compatibility, and adjustable padded shoulder straps all in a lightweight construction. The added features of a sternum strap and hip belt enhance stability without compromising on comfort. The Adventurer Pro Backpack also prioritizes your safety with its reflective accents for when night falls. This buoyant beauty does more than carry your essentials; it carries the promise of a stress-free adventure!\",\n",
       "  \"ID: 3, Name: Summit Breeze Jacket, Price: $120.0, Category: Hiking Clothing, Brand: MountainStyle, Description: Discover the joy of hiking with MountainStyle's Summit Breeze Jacket. This lightweight jacket is your perfect companion for outdoor adventures. Sporting a trail-ready, windproof design and a water-resistant fabric, it's ready to withstand any weather. The breathable polyester material and adjustable cuffs keep you comfortable, whether you're ascending a mountain or strolling through a park. And its sleek black color adds style to function. The jacket features a full-zip front closure, adjustable hood, and secure zippered pockets. Experience the comfort of its inner lining and the convenience of its packable design. Crafted for night trekkers too, the jacket has reflective accents for enhanced visibility. Rugged yet chic, the Summit Breeze Jacket is more than a hiking essential, it's the gear that inspires you to reach new heights. Choose adventure, choose the Summit Breeze Jacket.\",\n",
       "  \"ID: 4, Name: TrekReady Hiking Boots, Price: $140.0, Category: Hiking Footwear, Brand: TrekReady, Description: Introducing the TrekReady Hiking Boots - stepping up your hiking game, one footprint at a time! Crafted from leather, these stylistic Trailmates are made to last. TrekReady infuses durability with its reinforced stitching and toe protection, making sure your journey is never stopped short. Comfort? They have that covered too! The boots are a haven with their breathable materials, cushioned insole, with padded collar and tongue; all nestled neatly within their lightweight design. As they say, it's what's inside that counts - so inside you'll find a moisture-wicking lining that quarantines stank and keeps your feet fresh as that mountaintop breeze. Remember the fear of slippery surfaces? With these boots, you can finally tell it to 'take a hike'! Their shock-absorbing midsoles and excellent traction capabilities promise stability at your every step. Beautifully finished in a traditional lace-up system, every adventurer deserves a pair of TrekReady Hiking Boots. Hike more, worry less!\",\n",
       "  \"ID: 5, Name: BaseCamp Folding Table, Price: $60.0, Category: Camping Tables, Brand: CampBuddy, Description: CampBuddy's BaseCamp Folding Table is an adventurer's best friend. Lightweight yet powerful, the table is a testament to fun-meets-function and will elevate any outing to new heights. Crafted from resilient, rust-resistant aluminum, the table boasts a generously sized 48 x 24 inches tabletop, perfect for meal times, games and more. The foldable design is a godsend for on-the-go explorers. Adjustable legs rise to the occasion to conquer uneven terrains and offer height versatility, while the built-in handle simplifies transportation. Additional features like non-slip feet, integrated cup holders and mesh pockets add a pinch of finesse. Quick to set up without the need for extra tools, this table is a silent yet indispensable sidekick during camping, picnics, and other outdoor events. Don't miss out on the opportunity to take your outdoor experiences to a new level with the BaseCamp Folding Table. Get yours today and embark on new adventures tomorrow! \",\n",
       "  \"ID: 6, Name: EcoFire Camping Stove, Price: $80.0, Category: Camping Stoves, Brand: EcoFire, Description: Introducing EcoFire's Camping Stove, your ultimate companion for every outdoor adventure! This portable wonder is precision-engineered with a lightweight and compact design, perfect for capturing that spirit of wanderlust. Made from high-quality stainless steel, it promises durability and steadfast performance. This stove is not only fuel-efficient but also offers an easy, intuitive operation that ensures hassle-free cooking. Plus, it's flexible, accommodating a variety of cooking methods whether you're boiling, grilling, or simmering under the starry sky. Its stable construction, quick setup, and adjustable flame control make cooking a breeze, while safety features protect you from any potential mishaps. And did we mention it also includes an effective wind protector and a carry case for easy transportation? But that's not all! The EcoFire Camping Stove is eco-friendly, designed to minimize environmental impact. So get ready to enhance your camping experience and enjoy delicious outdoor feasts with this unique, versatile stove!\",\n",
       "  \"ID: 7, Name: CozyNights Sleeping Bag, Price: $100.0, Category: Sleeping Bags, Brand: CozyNights, Description: Embrace the great outdoors in any season with the lightweight CozyNights Sleeping Bag! This durable three-season bag is superbly designed to give hikers, campers, and backpackers comfort and warmth during spring, summer, and fall. With a compact design that folds down into a convenient stuff sack, you can whisk it away on any adventure without a hitch. The sleeping bag takes comfort seriously, featuring a handy hood, ample room and padding, and a reliable temperature rating. Crafted from high-quality polyester, it ensures long-lasting use and can even be zipped together with another bag for shared comfort. Whether you're gazing at stars or catching a quick nap between trails, the CozyNights Sleeping Bag makes it a treat. Don't just sleep— dream with CozyNights.\",\n",
       "  \"ID: 8, Name: Alpine Explorer Tent, Price: $350.0, Category: Tents, Brand: AlpineGear, Description: Welcome to the joy of camping with the Alpine Explorer Tent! This robust, 8-person, 3-season marvel is from the responsible hands of the AlpineGear brand. Promising an enviable setup that is as straightforward as counting sheep, your camping experience is transformed into a breezy pastime. Looking for privacy? The detachable divider provides separate spaces at a moment's notice. Love a tent that breathes? The numerous mesh windows and adjustable vents fend off any condensation dragon trying to dampen your adventure fun. The waterproof assurance keeps you worry-free during unexpected rain dances. With a built-in gear loft to stash away your outdoor essentials, the Alpine Explorer Tent emerges as a smooth balance of privacy, comfort, and convenience. Simply put, this tent isn't just a shelter - it's your second home in the heart of nature! Whether you're a seasoned camper or a nature-loving novice, this tent makes exploring the outdoors a joyous journey.\",\n",
       "  \"ID: 9, Name: SummitClimber Backpack, Price: $120.0, Category: Backpacks, Brand: HikeMate, Description: Adventure waits for no one! Introducing the HikeMate SummitClimber Backpack, your reliable partner for every exhilarating journey. With a generous 60-liter capacity and multiple compartments and pockets, packing is a breeze. Every feature points to comfort and convenience; the ergonomic design and adjustable hip belt ensure a pleasantly personalized fit, while padded shoulder straps protect you from the burden of carrying. Venturing into wet weather? Fear not! The integrated rain cover has your back, literally. Stay hydrated thanks to the backpack's hydration system compatibility. Travelling during twilight? Reflective accents keep you visible in low-light conditions. The SummitClimber Backpack isn't merely a carrier; it's a wearable base camp constructed from ruggedly durable nylon and thoughtfully designed for the great outdoors adventurer, promising to withstand tough conditions and provide years of service. So, set off on that quest - the wild beckons! The SummitClimber Backpack - your hearty companion on every expedition!\",\n",
       "  \"ID: 10, Name: TrailBlaze Hiking Pants, Price: $75.0, Category: Hiking Clothing, Brand: MountainStyle, Description: Meet the TrailBlaze Hiking Pants from MountainStyle, the stylish khaki champions of the trails. These are not just pants; they're your passport to outdoor adventure. Crafted from high-quality nylon fabric, these dapper troopers are lightweight and fast-drying, with a water-resistant armor that laughs off light rain. Their breathable design whisks away sweat while their articulated knees grant you the flexibility of a mountain goat. Zippered pockets guard your essentials, making them a hiker's best ally. Designed with durability for all your trekking trials, these pants come with a comfortable, ergonomic fit that will make you forget you're wearing them. Sneak a peek, and you are sure to be tempted by the sleek allure that is the TrailBlaze Hiking Pants. Your outdoors wardrobe wouldn't be quite complete without them.\"],\n",
       " 'uris': None,\n",
       " 'included': ['metadatas', 'documents', 'embeddings'],\n",
       " 'data': None,\n",
       " 'metadatas': [{'price': 250.0,\n",
       "   'category': 'Tents',\n",
       "   'name': 'TrailMaster X4 Tent',\n",
       "   'brand': 'OutdoorLiving',\n",
       "   'id': '1'},\n",
       "  {'category': 'Backpacks',\n",
       "   'name': 'Adventurer Pro Backpack',\n",
       "   'id': '2',\n",
       "   'brand': 'HikeMate',\n",
       "   'price': 90.0},\n",
       "  {'name': 'Summit Breeze Jacket',\n",
       "   'price': 120.0,\n",
       "   'category': 'Hiking Clothing',\n",
       "   'id': '3',\n",
       "   'brand': 'MountainStyle'},\n",
       "  {'price': 140.0,\n",
       "   'id': '4',\n",
       "   'category': 'Hiking Footwear',\n",
       "   'name': 'TrekReady Hiking Boots',\n",
       "   'brand': 'TrekReady'},\n",
       "  {'price': 60.0,\n",
       "   'id': '5',\n",
       "   'name': 'BaseCamp Folding Table',\n",
       "   'category': 'Camping Tables',\n",
       "   'brand': 'CampBuddy'},\n",
       "  {'id': '6',\n",
       "   'category': 'Camping Stoves',\n",
       "   'brand': 'EcoFire',\n",
       "   'name': 'EcoFire Camping Stove',\n",
       "   'price': 80.0},\n",
       "  {'id': '7',\n",
       "   'price': 100.0,\n",
       "   'category': 'Sleeping Bags',\n",
       "   'brand': 'CozyNights',\n",
       "   'name': 'CozyNights Sleeping Bag'},\n",
       "  {'brand': 'AlpineGear',\n",
       "   'price': 350.0,\n",
       "   'id': '8',\n",
       "   'name': 'Alpine Explorer Tent',\n",
       "   'category': 'Tents'},\n",
       "  {'id': '9',\n",
       "   'category': 'Backpacks',\n",
       "   'price': 120.0,\n",
       "   'name': 'SummitClimber Backpack',\n",
       "   'brand': 'HikeMate'},\n",
       "  {'id': '10',\n",
       "   'name': 'TrailBlaze Hiking Pants',\n",
       "   'brand': 'MountainStyle',\n",
       "   'price': 75.0,\n",
       "   'category': 'Hiking Clothing'}]}"
      ]
     },
     "execution_count": 8,
     "metadata": {},
     "output_type": "execute_result"
    }
   ],
   "source": [
    "# https://docs.trychroma.com/docs/collections/manage-collections\n",
    "# See the top 10 records\n",
    "products_collection.peek()"
   ]
  },
  {
   "cell_type": "markdown",
   "id": "95a52361",
   "metadata": {},
   "source": [
    "# Test cases using the product collection\n",
    "\n",
    "- **Test case 1**: User asks a question that goes beyond internal context: What is the best footwear I can buy for hiking?\n",
    "- **Test case 2**: User asks a specific question about internal data: Tell me more about our RainGuard Hiking Jacket product.\n"
   ]
  },
  {
   "cell_type": "code",
   "execution_count": 9,
   "id": "614fd0f1",
   "metadata": {},
   "outputs": [],
   "source": [
    "test1_user_query = \"What is the best footwear I can buy for hiking?\"\n",
    "test2_user_query = \"Tell me more about our RainGuard Hiking Jacket product.\""
   ]
  },
  {
   "cell_type": "markdown",
   "id": "874205b8",
   "metadata": {},
   "source": [
    "Let's do a chroma search"
   ]
  },
  {
   "cell_type": "code",
   "execution_count": 10,
   "id": "cb13cd11",
   "metadata": {},
   "outputs": [
    {
     "name": "stderr",
     "output_type": "stream",
     "text": [
      "2025-08-02 09:23:29,829 - openai._base_client - DEBUG - Request options: {'method': 'post', 'url': '/embeddings', 'headers': {'api-key': '<redacted>'}, 'files': None, 'idempotency_key': 'stainless-python-retry-4c8617b3-f7c2-43c8-b9a0-c2703e02041a', 'post_parser': <function Embeddings.create.<locals>.parser at 0x00000259AC2A9080>, 'json_data': {'input': ['What is the best footwear I can buy for hiking?'], 'model': 'text-embedding-3-small', 'encoding_format': 'base64'}}\n",
      "2025-08-02 09:23:29,831 - openai._base_client - DEBUG - Sending HTTP Request: POST https://aoai-zvbgv7oohofri.cognitiveservices.azure.com/openai/deployments/text-embedding-3-small/embeddings?api-version=2024-12-01-preview\n",
      "2025-08-02 09:23:29,831 - httpcore.http11 - DEBUG - send_request_headers.started request=<Request [b'POST']>\n",
      "2025-08-02 09:23:29,834 - httpcore.http11 - DEBUG - send_request_headers.complete\n",
      "2025-08-02 09:23:29,834 - httpcore.http11 - DEBUG - send_request_body.started request=<Request [b'POST']>\n",
      "2025-08-02 09:23:29,834 - httpcore.http11 - DEBUG - send_request_body.complete\n",
      "2025-08-02 09:23:29,836 - httpcore.http11 - DEBUG - receive_response_headers.started request=<Request [b'POST']>\n",
      "2025-08-02 09:23:29,943 - httpcore.http11 - DEBUG - receive_response_headers.complete return_value=(b'HTTP/1.1', 200, b'OK', [(b'Content-Length', b'8416'), (b'Content-Type', b'application/json'), (b'access-control-allow-origin', b'*'), (b'apim-request-id', b'6021d805-0f32-4d26-9378-93db91f6479d'), (b'Strict-Transport-Security', b'max-age=31536000; includeSubDomains; preload'), (b'x-content-type-options', b'nosniff'), (b'x-ms-region', b'East US 2'), (b'x-ratelimit-remaining-tokens', b'113440'), (b'x-ratelimit-limit-tokens', b'120000'), (b'x-request-id', b'bdd7cf74-053f-4d43-9947-0695efa8a167'), (b'azureml-model-session', b'd019-20250616081935'), (b'x-envoy-upstream-service-time', b'24'), (b'x-ms-client-request-id', b'6021d805-0f32-4d26-9378-93db91f6479d'), (b'x-ms-deployment-name', b'text-embedding-3-small'), (b'Date', b'Sat, 02 Aug 2025 14:23:30 GMT')])\n",
      "2025-08-02 09:23:29,943 - httpx - INFO - HTTP Request: POST https://aoai-zvbgv7oohofri.cognitiveservices.azure.com/openai/deployments/text-embedding-3-small/embeddings?api-version=2024-12-01-preview \"HTTP/1.1 200 OK\"\n",
      "2025-08-02 09:23:29,945 - httpcore.http11 - DEBUG - receive_response_body.started request=<Request [b'POST']>\n",
      "2025-08-02 09:23:29,945 - httpcore.http11 - DEBUG - receive_response_body.complete\n",
      "2025-08-02 09:23:29,945 - httpcore.http11 - DEBUG - response_closed.started\n",
      "2025-08-02 09:23:29,948 - httpcore.http11 - DEBUG - response_closed.complete\n",
      "2025-08-02 09:23:29,948 - openai._base_client - DEBUG - HTTP Response: POST https://aoai-zvbgv7oohofri.cognitiveservices.azure.com/openai/deployments/text-embedding-3-small/embeddings?api-version=2024-12-01-preview \"200 OK\" Headers({'content-length': '8416', 'content-type': 'application/json', 'access-control-allow-origin': '*', 'apim-request-id': '6021d805-0f32-4d26-9378-93db91f6479d', 'strict-transport-security': 'max-age=31536000; includeSubDomains; preload', 'x-content-type-options': 'nosniff', 'x-ms-region': 'East US 2', 'x-ratelimit-remaining-tokens': '113440', 'x-ratelimit-limit-tokens': '120000', 'x-request-id': 'bdd7cf74-053f-4d43-9947-0695efa8a167', 'azureml-model-session': 'd019-20250616081935', 'x-envoy-upstream-service-time': '24', 'x-ms-client-request-id': '6021d805-0f32-4d26-9378-93db91f6479d', 'x-ms-deployment-name': 'text-embedding-3-small', 'date': 'Sat, 02 Aug 2025 14:23:30 GMT'})\n",
      "2025-08-02 09:23:29,948 - openai._base_client - DEBUG - request_id: bdd7cf74-053f-4d43-9947-0695efa8a167\n"
     ]
    },
    {
     "name": "stdout",
     "output_type": "stream",
     "text": [
      "###############################\n",
      "🔍 Search Results:\n",
      "Query: What are the most popular names?\n",
      "ChromaDB Info: {'db_path': 'c:\\\\Users\\\\aprilhazel\\\\Source\\\\sk_mcp_demo\\\\mcp_rag\\\\data\\\\chroma_db\\\\chroma_db', 'collection_name': 'product_collection', 'collection_count': 20}\n",
      "Found 5 results\n",
      "\n",
      "--- Result #1 ---\n",
      "content: ID: 11, Name: TrailWalker Hiking Shoes, Price: $110.0, Category: Hiking Footwear, Brand: TrekReady, ...\n",
      "Citation: [Source: ChromaDB | Path: c:\\Users\\aprilhazel\\Source\\sk_mcp_demo\\mcp_rag\\data\\chroma_db\\chroma_db | Collection: product_collection | content ID: 11]\n",
      "--- Result #2 ---\n",
      "content: ID: 4, Name: TrekReady Hiking Boots, Price: $140.0, Category: Hiking Footwear, Brand: TrekReady, Des...\n",
      "Citation: [Source: ChromaDB | Path: c:\\Users\\aprilhazel\\Source\\sk_mcp_demo\\mcp_rag\\data\\chroma_db\\chroma_db | Collection: product_collection | content ID: 4]\n",
      "--- Result #3 ---\n",
      "content: ID: 18, Name: TrekStar Hiking Sandals, Price: $70.0, Category: Hiking Footwear, Brand: TrekReady, De...\n",
      "Citation: [Source: ChromaDB | Path: c:\\Users\\aprilhazel\\Source\\sk_mcp_demo\\mcp_rag\\data\\chroma_db\\chroma_db | Collection: product_collection | content ID: 18]\n",
      "--- Result #4 ---\n",
      "content: ID: 10, Name: TrailBlaze Hiking Pants, Price: $75.0, Category: Hiking Clothing, Brand: MountainStyle...\n",
      "Citation: [Source: ChromaDB | Path: c:\\Users\\aprilhazel\\Source\\sk_mcp_demo\\mcp_rag\\data\\chroma_db\\chroma_db | Collection: product_collection | content ID: 10]\n",
      "--- Result #5 ---\n",
      "content: ID: 16, Name: TrailLite Daypack, Price: $60.0, Category: Backpacks, Brand: HikeMate, Description: St...\n",
      "Citation: [Source: ChromaDB | Path: c:\\Users\\aprilhazel\\Source\\sk_mcp_demo\\mcp_rag\\data\\chroma_db\\chroma_db | Collection: product_collection | content ID: 16]\n"
     ]
    }
   ],
   "source": [
    "def search_chroma(collection, query, n_results=5):\n",
    "    \"\"\"Search the ChromaDB collection for the given query.\"\"\"\n",
    "    try:\n",
    "        # Get ChromaDB information\n",
    "        chroma_info = {\n",
    "            'db_path': str(chroma_db_path),\n",
    "            'collection_name': collection.name,\n",
    "            'collection_count': collection.count()\n",
    "        }\n",
    "\n",
    "        # Search the collection with the query\n",
    "        search_results = collection.query(\n",
    "            query_texts=[query],\n",
    "            n_results=n_results,\n",
    "            include=['documents', 'metadatas', 'distances']\n",
    "        )\n",
    "        \n",
    "        # Format the retrieved context\n",
    "        context_contents = search_results['documents'][0] if search_results['documents'] else []\n",
    "        context_metadata = search_results['metadatas'][0] if search_results['metadatas'] else []\n",
    "        # Get IDs separately - ChromaDB always returns IDs\n",
    "        context_ids = search_results.get('ids', [[]])[0] if 'ids' in search_results else []\n",
    "        \n",
    "        # If no IDs in search results, we need to get them differently\n",
    "        if not context_ids and context_contents:\n",
    "            # Use index-based IDs as fallback\n",
    "            context_ids = [f\"doc_{i}\" for i in range(len(context_contents))]\n",
    "\n",
    "        structured_context = []\n",
    "        \n",
    "        if context_contents:  # Only build if we have contents\n",
    "            for i, (doc, metadata) in enumerate(zip(context_contents, context_metadata)):\n",
    "                # Get content ID, using index as fallback\n",
    "                doc_id = context_ids[i] if i < len(context_ids) else f\"doc_{i}\"\n",
    "                \n",
    "                # Create formatted citation\n",
    "                citation = f\"[Source: ChromaDB | Path: {chroma_info['db_path']} | Collection: {chroma_info['collection_name']} | content ID: {doc_id}]\"\n",
    "                \n",
    "                # Create structured result object\n",
    "                result_obj = {\n",
    "                    'search_order': i + 1,\n",
    "                    'content': doc,\n",
    "                    'citation': citation,\n",
    "                    'metadata': metadata,\n",
    "                    'content_id': doc_id\n",
    "                }\n",
    "                structured_context.append(result_obj)\n",
    "\n",
    "        return structured_context, chroma_info\n",
    "        \n",
    "    except Exception as e:\n",
    "        # Always return a tuple to avoid unpacking errors\n",
    "        return [], {'error': str(e)}\n",
    "    \n",
    "# Test the search function\n",
    "search_query = \"What are the most popular names?\"\n",
    "search_results, chroma_info = search_chroma(products_collection, test1_user_query, n_results=5)\n",
    "print(\"###############################\")\n",
    "print(\"🔍 Search Results:\")\n",
    "print(f\"Query: {search_query}\")\n",
    "print(f\"ChromaDB Info: {chroma_info}\")\n",
    "\n",
    "if len(search_results) >= 0:\n",
    "    print(f\"Found {len(search_results)} results\\n\")\n",
    "    for result in search_results:\n",
    "        print(f\"--- Result #{result['search_order']} ---\")\n",
    "        print(f\"content: {result['content'][:100]}...\")\n",
    "        print(f\"Citation: {result['citation']}\")\n",
    "else:\n",
    "    print(f\"Error or no results: {search_results}\")"
   ]
  }
 ],
 "metadata": {
  "kernelspec": {
   "display_name": "mcp-rag-server-py3.12",
   "language": "python",
   "name": "python3"
  },
  "language_info": {
   "codemirror_mode": {
    "name": "ipython",
    "version": 3
   },
   "file_extension": ".py",
   "mimetype": "text/x-python",
   "name": "python",
   "nbconvert_exporter": "python",
   "pygments_lexer": "ipython3",
   "version": "3.12.10"
  }
 },
 "nbformat": 4,
 "nbformat_minor": 5
}
