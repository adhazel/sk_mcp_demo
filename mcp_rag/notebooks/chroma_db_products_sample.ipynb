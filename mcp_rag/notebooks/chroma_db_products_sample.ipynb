{
 "cells": [
  {
   "cell_type": "markdown",
   "id": "59702d49",
   "metadata": {},
   "source": [
    "Set path (to work when running from ./sk_mcp_demo or ./sk_mcp_demo/mcp_rag)"
   ]
  },
  {
   "cell_type": "code",
   "execution_count": 3,
   "id": "63ac3718",
   "metadata": {},
   "outputs": [],
   "source": [
    "import sys\n",
    "import os\n",
    "import asyncio\n",
    "import time\n",
    "from pathlib import Path\n",
    "# Detect and set up proper path to src directory\n",
    "current_dir = Path.cwd()\n",
    "# Check if we're in the root folder\n",
    "if 'mcp_rag' in os.listdir(current_dir):\n",
    "    # Running from root folder (sk_mcp_demo)\n",
    "    project_root = os.path.join(str(current_dir), 'mcp_rag', 'src')\n",
    "else:\n",
    "    # Running from mcp_rag folder or subfolder\n",
    "    mcp_rag_dir = current_dir\n",
    "    while mcp_rag_dir.name != 'mcp_rag' and mcp_rag_dir != mcp_rag_dir.parent:\n",
    "        mcp_rag_dir = mcp_rag_dir.parent\n",
    "    project_root = os.path.join(str(mcp_rag_dir), 'src')\n",
    "\n",
    "# Add src directory to path if it's not already there\n",
    "if project_root not in sys.path:\n",
    "    sys.path.insert(0, project_root)\n",
    "    print(f\"Added {project_root} to Python path\")"
   ]
  },
  {
   "cell_type": "code",
   "execution_count": 4,
   "id": "9f61877f",
   "metadata": {},
   "outputs": [
    {
     "name": "stderr",
     "output_type": "stream",
     "text": [
      "2025-08-08 08:24:48,449 - root - INFO - ✅ Loaded environment file for 'local': c:\\Users\\aprilhazel\\Source\\sk_mcp_demo\\mcp_rag\\.env.local\n"
     ]
    },
    {
     "name": "stdout",
     "output_type": "stream",
     "text": [
      "Config(log_level='WARNING', environment='local', openai_api_key=None, openai_model=None, openai_api_type='azure', azure_openai_endpoint='https://aoai-zvbgv7oohofri.cognitiveservices.azure.com/', azure_openai_api_key=***, azure_openai_model='gpt-4o', azure_openai_deployment='gpt-4o', azure_openai_api_version='2024-12-01-preview', azure_openai_embedding_endpoint='https://aoai-zvbgv7oohofri.cognitiveservices.azure.com/', azure_openai_embedding_api_key=***, azure_openai_embedding_model='text-embedding-3-small', azure_openai_embedding_deployment='text-embedding-3-small', azure_openai_embedding_api_version='2024-12-01-preview', chroma_db_path='/data/chroma_db', serp_api_key=***, project_root=WindowsPath('c:/Users/aprilhazel/Source/sk_mcp_demo/mcp_rag'), mcp_port='8002', mcp_host='127.0.0.1', mcp_url='127.0.0.1:8002')\n"
     ]
    }
   ],
   "source": [
    "# config\n",
    "from utils import McpConfig\n",
    "config = McpConfig(environment = \"local\")\n",
    "print(config)"
   ]
  },
  {
   "cell_type": "markdown",
   "id": "79bb0a76",
   "metadata": {},
   "source": [
    "Creating the ChromaDB vector database, embedding, and storing data"
   ]
  },
  {
   "cell_type": "code",
   "execution_count": 5,
   "id": "5fe6523d",
   "metadata": {},
   "outputs": [],
   "source": [
    "import chromadb\n",
    "from chromadb.utils import embedding_functions\n",
    "\n",
    "# ChromaDB embeding_function\n",
    "aoai_embedding_function = embedding_functions.OpenAIEmbeddingFunction(\n",
    "    api_key=config.azure_openai_embedding_api_key,\n",
    "    api_base=config.azure_openai_embedding_endpoint,\n",
    "    api_type=config.openai_api_type,\n",
    "    api_version=config.azure_openai_embedding_api_version,\n",
    "    model_name=config.azure_openai_embedding_model,\n",
    "    deployment_id=config.azure_openai_embedding_deployment\n",
    ")"
   ]
  },
  {
   "cell_type": "code",
   "execution_count": 6,
   "id": "0c604c45",
   "metadata": {},
   "outputs": [
    {
     "name": "stdout",
     "output_type": "stream",
     "text": [
      "ChromaDB path: c:\\Users\\aprilhazel\\Source\\sk_mcp_demo\\mcp_rag\\data\\chroma_db\n"
     ]
    }
   ],
   "source": [
    "from pathlib import Path\n",
    "\n",
    "chroma_db_path = Path(config.project_root/config.chroma_db_path.lstrip('./'))\n",
    "chroma_client = chromadb.PersistentClient(path=str(chroma_db_path))\n",
    "print(f\"ChromaDB path: {chroma_db_path}\")"
   ]
  },
  {
   "cell_type": "markdown",
   "id": "ecb3d47f",
   "metadata": {},
   "source": [
    "Create and a collection within the db"
   ]
  },
  {
   "cell_type": "code",
   "execution_count": 7,
   "id": "33a4dae3",
   "metadata": {},
   "outputs": [
    {
     "data": {
      "text/plain": [
       "[Collection(name=product_collection)]"
      ]
     },
     "execution_count": 7,
     "metadata": {},
     "output_type": "execute_result"
    }
   ],
   "source": [
    "# Create or get the collection\n",
    "try:\n",
    "    products_collection = chroma_client.get_or_create_collection (\n",
    "        name=\"product_collection\", embedding_function=aoai_embedding_function)\n",
    "except Exception as e:\n",
    "    raise e\n",
    "\n",
    "chroma_client.list_collections()"
   ]
  },
  {
   "cell_type": "code",
   "execution_count": 8,
   "id": "901c7f68",
   "metadata": {},
   "outputs": [],
   "source": [
    "# Delete data (if you want to start fresh)\n",
    "products_collection.delete(\n",
    "    where={\"name\": {\"$ne\": \"\"}}\n",
    ")"
   ]
  },
  {
   "cell_type": "code",
   "execution_count": 9,
   "id": "e5fc0cde",
   "metadata": {},
   "outputs": [
    {
     "data": {
      "text/plain": [
       "{'ids': [],\n",
       " 'embeddings': array([], dtype=float64),\n",
       " 'documents': [],\n",
       " 'uris': None,\n",
       " 'included': ['metadatas', 'documents', 'embeddings'],\n",
       " 'data': None,\n",
       " 'metadatas': []}"
      ]
     },
     "execution_count": 9,
     "metadata": {},
     "output_type": "execute_result"
    }
   ],
   "source": [
    "# https://docs.trychroma.com/docs/collections/manage-collections\n",
    "# See the top 10 records\n",
    "products_collection.peek()"
   ]
  },
  {
   "cell_type": "markdown",
   "id": "9c71a308",
   "metadata": {},
   "source": [
    "Import contoso products (csv source: https://github.com/Azure-Samples/contoso-chat/blob/main/data/product_info/products.csv)"
   ]
  },
  {
   "cell_type": "code",
   "execution_count": 10,
   "id": "ea46eef2",
   "metadata": {},
   "outputs": [
    {
     "name": "stdout",
     "output_type": "stream",
     "text": [
      "Successfully upserted 20 products into the ChromaDB collection.\n",
      "Collection now contains 20 contents.\n"
     ]
    }
   ],
   "source": [
    "import pandas as pd\n",
    "\n",
    "# Read the CSV file\n",
    "products_df = pd.read_csv('products.csv')\n",
    "\n",
    "# Prepare data for ChromaDB insertion\n",
    "contents = []\n",
    "metadatas = []\n",
    "ids = []\n",
    "\n",
    "for _, row in products_df.iterrows():\n",
    "    # Create a string that includes all column information\n",
    "    content = {\n",
    "        'id': row['id'],\n",
    "        'name': row['name'],\n",
    "        'price': row['price'],\n",
    "        'category': row['category'],\n",
    "        'brand': row['brand'],\n",
    "        'description': row['description']\n",
    "    }\n",
    "    \n",
    "    # Convert the dictionary to a string for ChromaDB\n",
    "    content_text = f\"ID: {row['id']}, Name: {row['name']}, Price: ${row['price']}, Category: {row['category']}, Brand: {row['brand']}, Description: {row['description']}\"\n",
    "    \n",
    "    # Create metadata with id, name, price, category, and brand\n",
    "    metadata = {\n",
    "        'id': str(row['id']),  # Convert to string for metadata\n",
    "        'name': row['name'],\n",
    "        'price': float(row['price']),\n",
    "        'category': row['category'],\n",
    "        'brand': row['brand']\n",
    "    }\n",
    "    \n",
    "    contents.append(content_text)\n",
    "    metadatas.append(metadata)\n",
    "    ids.append(str(row['id']))  # Use the id column as ChromaDB id\n",
    "\n",
    "# Upsert data into ChromaDB collection\n",
    "products_collection.upsert(\n",
    "    documents=contents,\n",
    "    metadatas=metadatas,\n",
    "    ids=ids\n",
    ")\n",
    "\n",
    "print(f\"Successfully upserted {len(contents)} products into the ChromaDB collection.\")\n",
    "print(f\"Collection now contains {products_collection.count()} contents.\")"
   ]
  },
  {
   "cell_type": "markdown",
   "id": "1774cd02",
   "metadata": {},
   "source": [
    "Take a peek"
   ]
  },
  {
   "cell_type": "code",
   "execution_count": 11,
   "id": "b734ef85",
   "metadata": {},
   "outputs": [
    {
     "data": {
      "text/plain": [
       "{'ids': ['1', '2', '3', '4', '5', '6', '7', '8', '9', '10'],\n",
       " 'embeddings': array([[ 1.42184244e-02,  1.49091445e-02,  1.76068656e-02, ...,\n",
       "         -3.54808965e-03,  1.70855671e-02, -5.18944262e-06],\n",
       "        [ 2.44422704e-02, -4.82865900e-04,  1.69588719e-02, ...,\n",
       "         -2.43603578e-03, -1.88854206e-02, -1.77452192e-02],\n",
       "        [ 8.51014908e-03,  1.44666352e-03, -2.56910156e-02, ...,\n",
       "         -1.57975033e-02,  2.48387661e-02,  1.56492870e-02],\n",
       "        ...,\n",
       "        [ 1.25831766e-02, -1.96192153e-02,  2.62994990e-02, ...,\n",
       "         -1.26358811e-02, -5.32314507e-03,  2.76961643e-02],\n",
       "        [-4.46882518e-03,  9.49968025e-03,  7.98494089e-03, ...,\n",
       "         -1.32762492e-02, -1.66004524e-02, -1.12474570e-02],\n",
       "        [ 1.46424361e-02,  2.95980796e-02, -3.25996466e-02, ...,\n",
       "         -4.83122095e-02, -4.44525824e-04, -3.22342403e-02]],\n",
       "       shape=(10, 1536)),\n",
       " 'documents': ['ID: 1, Name: TrailMaster X4 Tent, Price: $250.0, Category: Tents, Brand: OutdoorLiving, Description: Unveiling the TrailMaster X4 Tent from OutdoorLiving, your home away from home for your next camping adventure. Crafted from durable polyester, this tent boasts a spacious interior perfect for four occupants. It ensures your dryness under drizzly skies thanks to its water-resistant construction, and the accompanying rainfly adds an extra layer of weather protection. It offers refreshing airflow and bug defence, courtesy of its mesh panels. Accessibility is not an issue with its multiple doors and interior pockets that keep small items tidy. Reflective guy lines grant better visibility at night, and the freestanding design simplifies setup and relocation. With the included carry bag, transporting this convenient abode becomes a breeze. Be it an overnight getaway or a week-long nature escapade, the TrailMaster X4 Tent provides comfort, convenience, and concord with the great outdoors. Comes with a two-year limited warranty to ensure customer satisfaction.',\n",
       "  \"ID: 2, Name: Adventurer Pro Backpack, Price: $90.0, Category: Backpacks, Brand: HikeMate, Description: Venture into the wilderness with the HikeMate's Adventurer Pro Backpack! Uniquely designed with ergonomic comfort in mind, this backpack ensures a steadfast journey no matter the mileage. It boasts a generous 40L capacity wrapped up in durable nylon fabric ensuring its long-lasting performance on even the most rugged pursuits. It's meticulously fashioned with multiple compartments and pockets for organized storage, hydration system compatibility, and adjustable padded shoulder straps all in a lightweight construction. The added features of a sternum strap and hip belt enhance stability without compromising on comfort. The Adventurer Pro Backpack also prioritizes your safety with its reflective accents for when night falls. This buoyant beauty does more than carry your essentials; it carries the promise of a stress-free adventure!\",\n",
       "  \"ID: 3, Name: Summit Breeze Jacket, Price: $120.0, Category: Hiking Clothing, Brand: MountainStyle, Description: Discover the joy of hiking with MountainStyle's Summit Breeze Jacket. This lightweight jacket is your perfect companion for outdoor adventures. Sporting a trail-ready, windproof design and a water-resistant fabric, it's ready to withstand any weather. The breathable polyester material and adjustable cuffs keep you comfortable, whether you're ascending a mountain or strolling through a park. And its sleek black color adds style to function. The jacket features a full-zip front closure, adjustable hood, and secure zippered pockets. Experience the comfort of its inner lining and the convenience of its packable design. Crafted for night trekkers too, the jacket has reflective accents for enhanced visibility. Rugged yet chic, the Summit Breeze Jacket is more than a hiking essential, it's the gear that inspires you to reach new heights. Choose adventure, choose the Summit Breeze Jacket.\",\n",
       "  \"ID: 4, Name: TrekReady Hiking Boots, Price: $140.0, Category: Hiking Footwear, Brand: TrekReady, Description: Introducing the TrekReady Hiking Boots - stepping up your hiking game, one footprint at a time! Crafted from leather, these stylistic Trailmates are made to last. TrekReady infuses durability with its reinforced stitching and toe protection, making sure your journey is never stopped short. Comfort? They have that covered too! The boots are a haven with their breathable materials, cushioned insole, with padded collar and tongue; all nestled neatly within their lightweight design. As they say, it's what's inside that counts - so inside you'll find a moisture-wicking lining that quarantines stank and keeps your feet fresh as that mountaintop breeze. Remember the fear of slippery surfaces? With these boots, you can finally tell it to 'take a hike'! Their shock-absorbing midsoles and excellent traction capabilities promise stability at your every step. Beautifully finished in a traditional lace-up system, every adventurer deserves a pair of TrekReady Hiking Boots. Hike more, worry less!\",\n",
       "  \"ID: 5, Name: BaseCamp Folding Table, Price: $60.0, Category: Camping Tables, Brand: CampBuddy, Description: CampBuddy's BaseCamp Folding Table is an adventurer's best friend. Lightweight yet powerful, the table is a testament to fun-meets-function and will elevate any outing to new heights. Crafted from resilient, rust-resistant aluminum, the table boasts a generously sized 48 x 24 inches tabletop, perfect for meal times, games and more. The foldable design is a godsend for on-the-go explorers. Adjustable legs rise to the occasion to conquer uneven terrains and offer height versatility, while the built-in handle simplifies transportation. Additional features like non-slip feet, integrated cup holders and mesh pockets add a pinch of finesse. Quick to set up without the need for extra tools, this table is a silent yet indispensable sidekick during camping, picnics, and other outdoor events. Don't miss out on the opportunity to take your outdoor experiences to a new level with the BaseCamp Folding Table. Get yours today and embark on new adventures tomorrow! \",\n",
       "  \"ID: 6, Name: EcoFire Camping Stove, Price: $80.0, Category: Camping Stoves, Brand: EcoFire, Description: Introducing EcoFire's Camping Stove, your ultimate companion for every outdoor adventure! This portable wonder is precision-engineered with a lightweight and compact design, perfect for capturing that spirit of wanderlust. Made from high-quality stainless steel, it promises durability and steadfast performance. This stove is not only fuel-efficient but also offers an easy, intuitive operation that ensures hassle-free cooking. Plus, it's flexible, accommodating a variety of cooking methods whether you're boiling, grilling, or simmering under the starry sky. Its stable construction, quick setup, and adjustable flame control make cooking a breeze, while safety features protect you from any potential mishaps. And did we mention it also includes an effective wind protector and a carry case for easy transportation? But that's not all! The EcoFire Camping Stove is eco-friendly, designed to minimize environmental impact. So get ready to enhance your camping experience and enjoy delicious outdoor feasts with this unique, versatile stove!\",\n",
       "  \"ID: 7, Name: CozyNights Sleeping Bag, Price: $100.0, Category: Sleeping Bags, Brand: CozyNights, Description: Embrace the great outdoors in any season with the lightweight CozyNights Sleeping Bag! This durable three-season bag is superbly designed to give hikers, campers, and backpackers comfort and warmth during spring, summer, and fall. With a compact design that folds down into a convenient stuff sack, you can whisk it away on any adventure without a hitch. The sleeping bag takes comfort seriously, featuring a handy hood, ample room and padding, and a reliable temperature rating. Crafted from high-quality polyester, it ensures long-lasting use and can even be zipped together with another bag for shared comfort. Whether you're gazing at stars or catching a quick nap between trails, the CozyNights Sleeping Bag makes it a treat. Don't just sleep— dream with CozyNights.\",\n",
       "  \"ID: 8, Name: Alpine Explorer Tent, Price: $350.0, Category: Tents, Brand: AlpineGear, Description: Welcome to the joy of camping with the Alpine Explorer Tent! This robust, 8-person, 3-season marvel is from the responsible hands of the AlpineGear brand. Promising an enviable setup that is as straightforward as counting sheep, your camping experience is transformed into a breezy pastime. Looking for privacy? The detachable divider provides separate spaces at a moment's notice. Love a tent that breathes? The numerous mesh windows and adjustable vents fend off any condensation dragon trying to dampen your adventure fun. The waterproof assurance keeps you worry-free during unexpected rain dances. With a built-in gear loft to stash away your outdoor essentials, the Alpine Explorer Tent emerges as a smooth balance of privacy, comfort, and convenience. Simply put, this tent isn't just a shelter - it's your second home in the heart of nature! Whether you're a seasoned camper or a nature-loving novice, this tent makes exploring the outdoors a joyous journey.\",\n",
       "  \"ID: 9, Name: SummitClimber Backpack, Price: $120.0, Category: Backpacks, Brand: HikeMate, Description: Adventure waits for no one! Introducing the HikeMate SummitClimber Backpack, your reliable partner for every exhilarating journey. With a generous 60-liter capacity and multiple compartments and pockets, packing is a breeze. Every feature points to comfort and convenience; the ergonomic design and adjustable hip belt ensure a pleasantly personalized fit, while padded shoulder straps protect you from the burden of carrying. Venturing into wet weather? Fear not! The integrated rain cover has your back, literally. Stay hydrated thanks to the backpack's hydration system compatibility. Travelling during twilight? Reflective accents keep you visible in low-light conditions. The SummitClimber Backpack isn't merely a carrier; it's a wearable base camp constructed from ruggedly durable nylon and thoughtfully designed for the great outdoors adventurer, promising to withstand tough conditions and provide years of service. So, set off on that quest - the wild beckons! The SummitClimber Backpack - your hearty companion on every expedition!\",\n",
       "  \"ID: 10, Name: TrailBlaze Hiking Pants, Price: $75.0, Category: Hiking Clothing, Brand: MountainStyle, Description: Meet the TrailBlaze Hiking Pants from MountainStyle, the stylish khaki champions of the trails. These are not just pants; they're your passport to outdoor adventure. Crafted from high-quality nylon fabric, these dapper troopers are lightweight and fast-drying, with a water-resistant armor that laughs off light rain. Their breathable design whisks away sweat while their articulated knees grant you the flexibility of a mountain goat. Zippered pockets guard your essentials, making them a hiker's best ally. Designed with durability for all your trekking trials, these pants come with a comfortable, ergonomic fit that will make you forget you're wearing them. Sneak a peek, and you are sure to be tempted by the sleek allure that is the TrailBlaze Hiking Pants. Your outdoors wardrobe wouldn't be quite complete without them.\"],\n",
       " 'uris': None,\n",
       " 'included': ['metadatas', 'documents', 'embeddings'],\n",
       " 'data': None,\n",
       " 'metadatas': [{'brand': 'OutdoorLiving',\n",
       "   'category': 'Tents',\n",
       "   'name': 'TrailMaster X4 Tent',\n",
       "   'price': 250.0,\n",
       "   'id': '1'},\n",
       "  {'brand': 'HikeMate',\n",
       "   'price': 90.0,\n",
       "   'id': '2',\n",
       "   'name': 'Adventurer Pro Backpack',\n",
       "   'category': 'Backpacks'},\n",
       "  {'name': 'Summit Breeze Jacket',\n",
       "   'brand': 'MountainStyle',\n",
       "   'category': 'Hiking Clothing',\n",
       "   'id': '3',\n",
       "   'price': 120.0},\n",
       "  {'name': 'TrekReady Hiking Boots',\n",
       "   'id': '4',\n",
       "   'price': 140.0,\n",
       "   'category': 'Hiking Footwear',\n",
       "   'brand': 'TrekReady'},\n",
       "  {'id': '5',\n",
       "   'category': 'Camping Tables',\n",
       "   'price': 60.0,\n",
       "   'brand': 'CampBuddy',\n",
       "   'name': 'BaseCamp Folding Table'},\n",
       "  {'price': 80.0,\n",
       "   'id': '6',\n",
       "   'brand': 'EcoFire',\n",
       "   'category': 'Camping Stoves',\n",
       "   'name': 'EcoFire Camping Stove'},\n",
       "  {'name': 'CozyNights Sleeping Bag',\n",
       "   'id': '7',\n",
       "   'brand': 'CozyNights',\n",
       "   'price': 100.0,\n",
       "   'category': 'Sleeping Bags'},\n",
       "  {'price': 350.0,\n",
       "   'brand': 'AlpineGear',\n",
       "   'id': '8',\n",
       "   'name': 'Alpine Explorer Tent',\n",
       "   'category': 'Tents'},\n",
       "  {'brand': 'HikeMate',\n",
       "   'category': 'Backpacks',\n",
       "   'id': '9',\n",
       "   'price': 120.0,\n",
       "   'name': 'SummitClimber Backpack'},\n",
       "  {'brand': 'MountainStyle',\n",
       "   'category': 'Hiking Clothing',\n",
       "   'id': '10',\n",
       "   'name': 'TrailBlaze Hiking Pants',\n",
       "   'price': 75.0}]}"
      ]
     },
     "execution_count": 11,
     "metadata": {},
     "output_type": "execute_result"
    }
   ],
   "source": [
    "# https://docs.trychroma.com/docs/collections/manage-collections\n",
    "# See the top 10 records\n",
    "products_collection.peek()"
   ]
  },
  {
   "cell_type": "markdown",
   "id": "95a52361",
   "metadata": {},
   "source": [
    "# Test cases using the product collection\n",
    "\n",
    "- **Test case 1**: User asks a question that goes beyond internal context: What is the best footwear I can buy for hiking?\n",
    "- **Test case 2**: User asks a specific question about internal data: Tell me more about our RainGuard Hiking Jacket product.\n"
   ]
  },
  {
   "cell_type": "code",
   "execution_count": 12,
   "id": "614fd0f1",
   "metadata": {},
   "outputs": [],
   "source": [
    "test1_user_query = \"What is the best footwear I can buy for hiking?\"\n",
    "test2_user_query = \"Tell me more about our RainGuard Hiking Jacket product.\""
   ]
  },
  {
   "cell_type": "markdown",
   "id": "874205b8",
   "metadata": {},
   "source": [
    "Let's do a chroma search"
   ]
  },
  {
   "cell_type": "code",
   "execution_count": 13,
   "id": "cb13cd11",
   "metadata": {},
   "outputs": [
    {
     "name": "stdout",
     "output_type": "stream",
     "text": [
      "###############################\n",
      "🔍 Search Results:\n",
      "Query: What is the best footwear I can buy for hiking?\n",
      "ChromaDB Info: {'db_path': 'c:\\\\Users\\\\aprilhazel\\\\Source\\\\sk_mcp_demo\\\\mcp_rag\\\\data\\\\chroma_db', 'collection_name': 'product_collection', 'collection_count': 20}\n",
      "Found 5 results\n",
      "\n",
      "--- Result #1 ---\n",
      "content: ID: 11, Name: TrailWalker Hiking Shoes, Price: $110.0, Category: Hiking Footwear, Brand: TrekReady, ...\n",
      "Citation: [Source: ChromaDB | Path: c:\\Users\\aprilhazel\\Source\\sk_mcp_demo\\mcp_rag\\data\\chroma_db | Collection: product_collection | content ID: 11]\n",
      "--- Result #2 ---\n",
      "content: ID: 4, Name: TrekReady Hiking Boots, Price: $140.0, Category: Hiking Footwear, Brand: TrekReady, Des...\n",
      "Citation: [Source: ChromaDB | Path: c:\\Users\\aprilhazel\\Source\\sk_mcp_demo\\mcp_rag\\data\\chroma_db | Collection: product_collection | content ID: 4]\n",
      "--- Result #3 ---\n",
      "content: ID: 18, Name: TrekStar Hiking Sandals, Price: $70.0, Category: Hiking Footwear, Brand: TrekReady, De...\n",
      "Citation: [Source: ChromaDB | Path: c:\\Users\\aprilhazel\\Source\\sk_mcp_demo\\mcp_rag\\data\\chroma_db | Collection: product_collection | content ID: 18]\n",
      "--- Result #4 ---\n",
      "content: ID: 10, Name: TrailBlaze Hiking Pants, Price: $75.0, Category: Hiking Clothing, Brand: MountainStyle...\n",
      "Citation: [Source: ChromaDB | Path: c:\\Users\\aprilhazel\\Source\\sk_mcp_demo\\mcp_rag\\data\\chroma_db | Collection: product_collection | content ID: 10]\n",
      "--- Result #5 ---\n",
      "content: ID: 16, Name: TrailLite Daypack, Price: $60.0, Category: Backpacks, Brand: HikeMate, Description: St...\n",
      "Citation: [Source: ChromaDB | Path: c:\\Users\\aprilhazel\\Source\\sk_mcp_demo\\mcp_rag\\data\\chroma_db | Collection: product_collection | content ID: 16]\n"
     ]
    }
   ],
   "source": [
    "def search_chroma(collection, query, n_results=5):\n",
    "    \"\"\"Search the ChromaDB collection for the given query.\"\"\"\n",
    "    try:\n",
    "        # Get ChromaDB information\n",
    "        chroma_info = {\n",
    "            'db_path': str(chroma_db_path),\n",
    "            'collection_name': collection.name,\n",
    "            'collection_count': collection.count()\n",
    "        }\n",
    "\n",
    "        # Search the collection with the query\n",
    "        search_results = collection.query(\n",
    "            query_texts=[query],\n",
    "            n_results=n_results,\n",
    "            include=['documents', 'metadatas', 'distances']\n",
    "        )\n",
    "        \n",
    "        # Format the retrieved context\n",
    "        context_contents = search_results['documents'][0] if search_results['documents'] else []\n",
    "        context_metadata = search_results['metadatas'][0] if search_results['metadatas'] else []\n",
    "        # Get IDs separately - ChromaDB always returns IDs\n",
    "        context_ids = search_results.get('ids', [[]])[0] if 'ids' in search_results else []\n",
    "        \n",
    "        # If no IDs in search results, we need to get them differently\n",
    "        if not context_ids and context_contents:\n",
    "            # Use index-based IDs as fallback\n",
    "            context_ids = [f\"doc_{i}\" for i in range(len(context_contents))]\n",
    "\n",
    "        structured_context = []\n",
    "        \n",
    "        if context_contents:  # Only build if we have contents\n",
    "            for i, (doc, metadata) in enumerate(zip(context_contents, context_metadata)):\n",
    "                # Get content ID, using index as fallback\n",
    "                doc_id = context_ids[i] if i < len(context_ids) else f\"doc_{i}\"\n",
    "                \n",
    "                # Create formatted citation\n",
    "                citation = f\"[Source: ChromaDB | Path: {chroma_info['db_path']} | Collection: {chroma_info['collection_name']} | content ID: {doc_id}]\"\n",
    "                \n",
    "                # Create structured result object\n",
    "                result_obj = {\n",
    "                    'search_order': i + 1,\n",
    "                    'content': doc,\n",
    "                    'citation': citation,\n",
    "                    'metadata': metadata,\n",
    "                    'context_id': doc_id\n",
    "                }\n",
    "                structured_context.append(result_obj)\n",
    "\n",
    "        return structured_context, chroma_info\n",
    "        \n",
    "    except Exception as e:\n",
    "        # Always return a tuple to avoid unpacking errors\n",
    "        return [], {'error': str(e)}\n",
    "    \n",
    "# Test the search function\n",
    "search_query = test1_user_query\n",
    "search_results, chroma_info = search_chroma(products_collection, test1_user_query, n_results=5)\n",
    "print(\"###############################\")\n",
    "print(\"🔍 Search Results:\")\n",
    "print(f\"Query: {search_query}\")\n",
    "print(f\"ChromaDB Info: {chroma_info}\")\n",
    "\n",
    "if len(search_results) >= 0:\n",
    "    print(f\"Found {len(search_results)} results\\n\")\n",
    "    for result in search_results:\n",
    "        print(f\"--- Result #{result['search_order']} ---\")\n",
    "        print(f\"content: {result['content'][:100]}...\")\n",
    "        print(f\"Citation: {result['citation']}\")\n",
    "else:\n",
    "    print(f\"Error or no results: {search_results}\")"
   ]
  }
 ],
 "metadata": {
  "kernelspec": {
   "display_name": "sk-mcp-demo-py3.12",
   "language": "python",
   "name": "python3"
  },
  "language_info": {
   "codemirror_mode": {
    "name": "ipython",
    "version": 3
   },
   "file_extension": ".py",
   "mimetype": "text/x-python",
   "name": "python",
   "nbconvert_exporter": "python",
   "pygments_lexer": "ipython3",
   "version": "3.12.10"
  }
 },
 "nbformat": 4,
 "nbformat_minor": 5
}
