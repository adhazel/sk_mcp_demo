{
 "cells": [
  {
   "cell_type": "markdown",
   "id": "699d3861",
   "metadata": {},
   "source": [
    "# 🎯 RAG Demo: Retrieval-Augmented Generation\n",
    "\n",
    "This notebook demonstrates a complete RAG (Retrieval-Augmented Generation) pipeline that combines:\n",
    "- **Internal Knowledge**: ChromaDB with product catalog\n",
    "- **External Knowledge**: Web search via SerpAPI Bing\n",
    "- **AI Generation**: Azure OpenAI GPT-4\n",
    "- **Quality Evaluation**: Automated response accuracy assessment\n",
    "\n",
    "## 🏗️ Component Overview\n",
    "\n",
    "The RAG system intelligently combines internal company data with external web information to provide comprehensive, accurate responses.\n",
    "\n",
    "```mermaid\n",
    "graph LR\n",
    "    A[User Query] --> B[ChromaDB Search]\n",
    "    B --> C[Generate Web Queries]\n",
    "    A --> C[Generate Web Queries]\n",
    "    C --> D[SerpAPI Bing Search]\n",
    "    B --> E[Combine Context]\n",
    "    D --> E\n",
    "    E --> F[RAG: \n",
    "    Query + Context \n",
    "    -> LLM Response]\n",
    "    F --> G[LLM Evaluation]\n",
    "```"
   ]
  },
  {
   "cell_type": "markdown",
   "id": "58b9492a",
   "metadata": {},
   "source": [
    "Set path (to work when running from ./sk_mcp_demo or ./sk_mcp_demo/mcp_rag)"
   ]
  },
  {
   "cell_type": "code",
   "execution_count": 3,
   "id": "06742c11",
   "metadata": {},
   "outputs": [],
   "source": [
    "import sys\n",
    "import os\n",
    "import asyncio\n",
    "import time\n",
    "from pathlib import Path\n",
    "# Detect and set up proper path to src directory\n",
    "current_dir = Path.cwd()\n",
    "# Check if we're in the root folder\n",
    "if 'mcp_rag' in os.listdir(current_dir):\n",
    "    # Running from root folder (sk_mcp_demo)\n",
    "    project_root = os.path.join(str(current_dir), 'mcp_rag', 'src')\n",
    "else:\n",
    "    # Running from mcp_rag folder or subfolder\n",
    "    mcp_rag_dir = current_dir\n",
    "    while mcp_rag_dir.name != 'mcp_rag' and mcp_rag_dir != mcp_rag_dir.parent:\n",
    "        mcp_rag_dir = mcp_rag_dir.parent\n",
    "    project_root = os.path.join(str(mcp_rag_dir), 'src')\n",
    "\n",
    "# Add src directory to path if it's not already there\n",
    "if project_root not in sys.path:\n",
    "    sys.path.insert(0, project_root)\n",
    "    print(f\"Added {project_root} to Python path\")"
   ]
  },
  {
   "cell_type": "code",
   "execution_count": null,
   "id": "a862b981",
   "metadata": {},
   "outputs": [
    {
     "name": "stderr",
     "output_type": "stream",
     "text": [
      "2025-08-08 08:22:27,388 - root - INFO - ✅ Loaded environment file for 'local': c:\\Users\\aprilhazel\\Source\\sk_mcp_demo\\mcp_rag\\.env.local\n"
     ]
    },
    {
     "name": "stdout",
     "output_type": "stream",
     "text": [
      "✅ Configuration loaded: local\n",
      "Config(log_level='WARNING', environment='local', openai_api_key=None, openai_model=None, openai_api_type='azure', azure_openai_endpoint='https://aoai-zvbgv7oohofri.cognitiveservices.azure.com/', azure_openai_api_key=***, azure_openai_model='gpt-4o', azure_openai_deployment='gpt-4o', azure_openai_api_version='2024-12-01-preview', azure_openai_embedding_endpoint='https://aoai-zvbgv7oohofri.cognitiveservices.azure.com/', azure_openai_embedding_api_key=***, azure_openai_embedding_model='text-embedding-3-small', azure_openai_embedding_deployment='text-embedding-3-small', azure_openai_embedding_api_version='2024-12-01-preview', chroma_db_path='/data/chroma_db', serp_api_key=***, project_root=WindowsPath('c:/Users/aprilhazel/Source/sk_mcp_demo/mcp_rag'), mcp_port='8002', mcp_host='127.0.0.1', mcp_url='127.0.0.1:8002')\n"
     ]
    }
   ],
   "source": [
    "# Import RAG components\n",
    "from utils import McpConfig\n",
    "from tools.chroma_search import ChromaDBSearcher\n",
    "from tools.web_search import WebSearcher\n",
    "from tools.rag_generator import RAGResponseGenerator\n",
    "from tools.rag_evaluator import RAGEvaluator\n",
    "\n",
    "# Initialize configuration\n",
    "config = McpConfig(environment=\"local\")\n",
    "print(f\"✅ Configuration loaded: {config.environment}\")\n",
    "print(config)"
   ]
  },
  {
   "cell_type": "markdown",
   "id": "df514552",
   "metadata": {},
   "source": [
    "## 🧪 Demo Queries\n",
    "\n",
    "We'll test the RAG system with two different scenarios:\n",
    "1. **External Knowledge Needed**: \"What is the best footwear for hiking?\" - Requires web search\n",
    "2. **Internal Knowledge Sufficient**: \"Tell me about our RainGuard Hiking Jacket\" - Uses product catalog"
   ]
  },
  {
   "cell_type": "code",
   "execution_count": 5,
   "id": "7add08d8",
   "metadata": {},
   "outputs": [
    {
     "name": "stdout",
     "output_type": "stream",
     "text": [
      "🎯 Demo Queries:\n",
      "  1. What is the best footwear for hiking?\n",
      "  2. Tell me about our RainGuard Hiking Jacket product.\n",
      "\n",
      "🔧 RAG Components initialized successfully!\n"
     ]
    }
   ],
   "source": [
    "# Initialize RAG components\n",
    "chroma_searcher = ChromaDBSearcher(config)\n",
    "web_searcher = WebSearcher(config)\n",
    "rag_generator = RAGResponseGenerator(config)\n",
    "rag_evaluator = RAGEvaluator(config)\n",
    "\n",
    "# Define test queries\n",
    "test_queries = [\n",
    "    \"What is the best footwear for hiking?\",  # External knowledge needed\n",
    "    \"Tell me about our RainGuard Hiking Jacket product.\"  # Internal knowledge sufficient\n",
    "]\n",
    "\n",
    "print(\"🎯 Demo Queries:\")\n",
    "for i, query in enumerate(test_queries, 1):\n",
    "    print(f\"  {i}. {query}\")\n",
    "    \n",
    "print(f\"\\n🔧 RAG Components initialized successfully!\")"
   ]
  },
  {
   "cell_type": "markdown",
   "id": "b660c476",
   "metadata": {},
   "source": [
    "# Scenario Discussion\n",
    "\n",
    "- **Scenario 1** involves the user asking a generic question that `goes beyond the scope of the internal data` - a product catalog. In this scenario, external Web context may provide value; therefore relevant Web queries are generated to be executed and included in the context to answer the users question.\n",
    "\n",
    "- **Scenario 2** involves the user asking a question about a `specific product in the internal catalog`, the RainGuard Hiking Jacket. In this scenario, the system has been instructed to only answer questions from the internal product catalog about any internal products. No Web queries are generated. The RAG response will be limited to internal data sources."
   ]
  },
  {
   "cell_type": "markdown",
   "id": "79bb0a76",
   "metadata": {},
   "source": [
    "## 🔍 Internal Search - Chroma DB - Local File in MCP Server\n",
    "\n",
    "The below shows how each scenario performs when searching the local Chroma database. The Chroma database is local to the MCP server."
   ]
  },
  {
   "cell_type": "code",
   "execution_count": 6,
   "id": "5fe6523d",
   "metadata": {},
   "outputs": [
    {
     "name": "stdout",
     "output_type": "stream",
     "text": [
      "🔍 Searching INTERNAL DATA (ChromaDB). 20 documents ingested from https://github.com/Azure-Samples/contoso-chat/blob/main/data/product_info/products.csv)\n",
      "====================================================================================================\n",
      "==================== INTERNAL + EXTERNAL What is the best footwear for hiking? ====================\n",
      "====================================================================================================\n",
      "\n",
      "  1. Content: ID: 11, Name: TrailWalker Hiking Shoes, Price: $110.0, Category: Hiking Footwear, Brand: TrekReady, ...\n",
      "     Citation: [Source: ChromaDB | Collection: product_collection | ID: 11 | Similarity: 0.180]\n",
      "     Similarity: 0.18037378787994385\n",
      "\n",
      "  2. Content: ID: 4, Name: TrekReady Hiking Boots, Price: $140.0, Category: Hiking Footwear, Brand: TrekReady, Des...\n",
      "     Citation: [Source: ChromaDB | Collection: product_collection | ID: 4 | Similarity: 0.117]\n",
      "     Similarity: 0.11699259281158447\n",
      "====================================================================================================\n",
      "==================== INTERNAL ONLY Tell me about our RainGuard Hiking Jacket product. ====================\n",
      "====================================================================================================\n",
      "\n",
      "  1. Content: ID: 17, Name: RainGuard Hiking Jacket, Price: $110.0, Category: Hiking Clothing, Brand: MountainStyl...\n",
      "     Citation: [Source: ChromaDB | Collection: product_collection | ID: 17 | Similarity: 0.456]\n",
      "     Similarity: 0.4556226134300232\n",
      "\n",
      "  2. Content: ID: 3, Name: Summit Breeze Jacket, Price: $120.0, Category: Hiking Clothing, Brand: MountainStyle, D...\n",
      "     Citation: [Source: ChromaDB | Collection: product_collection | ID: 3 | Similarity: 0.047]\n",
      "     Similarity: 0.047222137451171875\n"
     ]
    }
   ],
   "source": [
    "# Demo 1: ChromaDB Internal Search\n",
    "collection_info = await chroma_searcher.get_collection_info()\n",
    "print(f\"🔍 Searching INTERNAL DATA (ChromaDB). {collection_info['document_count']} documents ingested from https://github.com/Azure-Samples/contoso-chat/blob/main/data/product_info/products.csv)\")\n",
    "\n",
    "internal_context0 = await chroma_searcher.search_chroma(\n",
    "    query=test_queries[0],\n",
    "    n_results=2\n",
    ")\n",
    "internal_context1 = await chroma_searcher.search_chroma(\n",
    "    query=test_queries[1],\n",
    "    n_results=2\n",
    ")\n",
    "\n",
    "print(\"=\"*100)\n",
    "print(f\"{'='*20} INTERNAL + EXTERNAL {test_queries[0]} {'='*20}\")\n",
    "print(\"=\"*100)\n",
    "\n",
    "for i, result in enumerate(internal_context0[:3], 1):\n",
    "    print(f\"\\n  {i}. Content: {result['content'][:100]}...\")\n",
    "    print(f\"     Citation: {result['citation']}\")\n",
    "    print(f\"     Similarity: {result['metadata'].get('similarity_score', 'N/A')}\")\n",
    "\n",
    "print(\"=\"*100)\n",
    "print(f\"{'='*20} INTERNAL ONLY {test_queries[1]} {'='*20}\")\n",
    "print(\"=\"*100)\n",
    "\n",
    "for i, result in enumerate(internal_context1[:3], 1):\n",
    "    print(f\"\\n  {i}. Content: {result['content'][:100]}...\")\n",
    "    print(f\"     Citation: {result['citation']}\")\n",
    "    print(f\"     Similarity: {result['metadata'].get('similarity_score', 'N/A')}\")"
   ]
  },
  {
   "cell_type": "code",
   "execution_count": 7,
   "id": "2925309d",
   "metadata": {},
   "outputs": [
    {
     "data": {
      "text/plain": [
       "[{'query': 'What is the best footwear for hiking?',\n",
       "  'content': \"ID: 11, Name: TrailWalker Hiking Shoes, Price: $110.0, Category: Hiking Footwear, Brand: TrekReady, Description: Meet the TrekReady TrailWalker Hiking Shoes, the ideal companion for all your outdoor adventures. Constructed with synthetic leather and breathable mesh, these shoes are tough as nails yet surprisingly airy. Their cushioned insoles offer fabulous comfort for long hikes, while the supportive midsoles and traction outsoles with multidirectional lugs ensure stability and excellent grip. A quick-lace system, padded collar and tongue, and reflective accents make these shoes a dream to wear. From combating rough terrain with the reinforced toe cap and heel, to keeping off trail debris with the protective mudguard, the TrailWalker Hiking Shoes have you covered. These waterproof warriors are made to endure all weather conditions. But they're not just about being rugged, they're light as a feather too, minimizing fatigue during epic hikes. Each pair can be customized for a perfect fit with removable insoles and availability in multiple sizes and widths. Navigate hikes comfortably and confidently with the TrailWalker Hiking Shoes. Adventure, here you come!\",\n",
       "  'citation': '[Source: ChromaDB | Collection: product_collection | ID: 11 | Similarity: 0.180]',\n",
       "  'metadata': {'collection': 'product_collection',\n",
       "   'document_id': '11',\n",
       "   'similarity_score': 0.18037378787994385,\n",
       "   'distance': 0.8196262121200562,\n",
       "   'brand': 'TrekReady',\n",
       "   'price': 110.0,\n",
       "   'category': 'Hiking Footwear',\n",
       "   'id': '11',\n",
       "   'name': 'TrailWalker Hiking Shoes'},\n",
       "  'context_id': 1,\n",
       "  'search_order': 1,\n",
       "  'source_type': 'internal'},\n",
       " {'query': 'What is the best footwear for hiking?',\n",
       "  'content': \"ID: 4, Name: TrekReady Hiking Boots, Price: $140.0, Category: Hiking Footwear, Brand: TrekReady, Description: Introducing the TrekReady Hiking Boots - stepping up your hiking game, one footprint at a time! Crafted from leather, these stylistic Trailmates are made to last. TrekReady infuses durability with its reinforced stitching and toe protection, making sure your journey is never stopped short. Comfort? They have that covered too! The boots are a haven with their breathable materials, cushioned insole, with padded collar and tongue; all nestled neatly within their lightweight design. As they say, it's what's inside that counts - so inside you'll find a moisture-wicking lining that quarantines stank and keeps your feet fresh as that mountaintop breeze. Remember the fear of slippery surfaces? With these boots, you can finally tell it to 'take a hike'! Their shock-absorbing midsoles and excellent traction capabilities promise stability at your every step. Beautifully finished in a traditional lace-up system, every adventurer deserves a pair of TrekReady Hiking Boots. Hike more, worry less!\",\n",
       "  'citation': '[Source: ChromaDB | Collection: product_collection | ID: 4 | Similarity: 0.117]',\n",
       "  'metadata': {'collection': 'product_collection',\n",
       "   'document_id': '4',\n",
       "   'similarity_score': 0.11699259281158447,\n",
       "   'distance': 0.8830074071884155,\n",
       "   'price': 140.0,\n",
       "   'category': 'Hiking Footwear',\n",
       "   'brand': 'TrekReady',\n",
       "   'id': '4',\n",
       "   'name': 'TrekReady Hiking Boots'},\n",
       "  'context_id': 2,\n",
       "  'search_order': 2,\n",
       "  'source_type': 'internal'}]"
      ]
     },
     "execution_count": 7,
     "metadata": {},
     "output_type": "execute_result"
    }
   ],
   "source": [
    "internal_context0"
   ]
  },
  {
   "cell_type": "markdown",
   "id": "3ec9f377",
   "metadata": {},
   "source": [
    "## 🌐 External Search - Bing via Serp API\n",
    "\n",
    "Execute the below block to see how each scenario is treated for external searching. \n",
    "\n",
    "- Scenario 1 has web search queries generated\n",
    "\n",
    "- Scenario 2 that is specific to an internal product does not have queries generated (this is by instruction to an LLM call that generates web queries based on the user's question and internal context provided)"
   ]
  },
  {
   "cell_type": "code",
   "execution_count": 8,
   "id": "5178d0c7",
   "metadata": {},
   "outputs": [
    {
     "name": "stdout",
     "output_type": "stream",
     "text": [
      "🌐 Searching EXTERNAL DATA (Bing) with Intelligent Web Query Generation...\n",
      "====================================================================================================\n",
      "==================== INTERNAL + EXTERNAL What is the best footwear for hiking? ====================\n",
      "====================================================================================================\n",
      "Generated 3 web queries:\n",
      "  Priority 1: best hiking footwear options 2025\n",
      "  Purpose: To identify the latest and most recommended hiking footwear available in 2025.\n",
      "\n",
      "  Priority 2: comparison of hiking boots and hiking shoes for trails\n",
      "  Purpose: To explore the differences and suitability of hiking boots versus hiking shoes for various terrains.\n",
      "\n",
      "  Priority 3: top-rated waterproof hiking footwear\n",
      "  Purpose: To find highly-rated waterproof hiking footwear options for challenging weather conditions.\n",
      "\n",
      "====================\n",
      "Executing generated queries asynchronously: 3 queries\n",
      "🔍 Executing Web Search...\n",
      "Returned web results (external context): 15 results:\n",
      "\n",
      "  1. Content: In this field‑tested roundup, you’ll discover top picks that excel in trail running scenarios, deliv...\n",
      "     Citation: [Source: Bing Search | Link: https://outdoortrekker.com/footwear/hiking-footwear/best-hiking-shoes/ | Position: 1]\n",
      "\n",
      "  2. Content: In this guide, we explain how different tread patterns are designed for different terrains and help ...\n",
      "     Citation: [Source: Bing Search | Link: https://www.cleverhiker.com/footwear/hiking-boot-shoe-soles-for-grip-traction-different-terrains/ | Position: 2]\n",
      "\n",
      "  3. Content: Our latest hiking shoe group test covers the best hiking shoes for different uses and terrains. Find...\n",
      "     Citation: [Source: Bing Search | Link: https://www.livefortheoutdoors.com/hiking/walking-boots/best-hiking-shoes-us/ | Position: 3]\n",
      "\n",
      "  4. Content: Top performers include the Theora Pro HF Ergonomic for wide feet, Merrell Moab 2 Vent for comfort, K...\n",
      "     Citation: [Source: Bing Search | Link: https://backpackingguys.com/best-shoes-for-hike/ | Position: 4]\n",
      "\n",
      "  5. Content: Since 2012, we have trail-tested hundreds of hiking shoes, with this review reflecting our top 12 fa...\n",
      "     Citation: [Source: Bing Search | Link: https://www.outdoorgearlab.com/topics/shoes-and-boots/best-hiking-shoes | Position: 5]\n",
      "\n",
      "  6. Content: comparison 和 contrast有什么区别? PS 该答主原先的问题是comparison与contract的区别，应该是将contrast与contract混淆了，故此修改问题。...\n",
      "     Citation: [Source: Bing Search | Link: https://www.zhihu.com/question/315758062 | Position: 1]\n",
      "\n",
      "  7. Content: 四、例句展示 以下是关于“comparison”和“contrast”的各三句例句，用于对比它们的用法和含义： Comparison 例句 In comparison with other cars,...\n",
      "     Citation: [Source: Bing Search | Link: https://www.zhihu.com/question/388349550 | Position: 2]\n",
      "\n",
      "  8. Content: Compare 有两大意思，一表示“对比”，一表示“比喻” 一、当表达“对比”时（即，表示“A和B对比”） 大部分情况下，compare to 和 compare with 通用。 值得注意的点： 美...\n",
      "     Citation: [Source: Bing Search | Link: https://www.zhihu.com/question/456216950 | Position: 3]\n",
      "\n",
      "  9. Content: 嗨，朋友，这真是个好问题。 在写作中，by contrast 和 by comparison是几乎没有区别的，如果不是特别咬文嚼字（非贬义）的人不知道其中区别。 根据这个链接： Difference ...\n",
      "     Citation: [Source: Bing Search | Link: https://www.zhihu.com/question/380741032 | Position: 4]\n",
      "\n",
      "  10. Content: make a comparison指的是比较两个事物的异同点。在这样做之前，作者并没有先入为主的观点，而是在进行比较之后才得出结论。 发布于 2015-08-29 14:21 云飞扬 讲故事的人...\n",
      "     Citation: [Source: Bing Search | Link: https://www.zhihu.com/question/35015212 | Position: 5]\n",
      "\n",
      "  11. Content: Choose from thousands of textbooks and course materials in the Top Hat Catalog, and collaborate in a...\n",
      "     Citation: [Source: Bing Search | Link: https://tophat.com/catalog/ | Position: 1]\n",
      "\n",
      "  12. Content: Product Overview Pricing Catalog Support Accessibility Resources Teaching Resources Blog Educator St...\n",
      "     Citation: [Source: Bing Search | Link: https://success.tophat.com/login?locale=us | Position: 2]\n",
      "\n",
      "  13. Content: Top Hat was created by students for students, with the goal of helping everyone succeed in higher ed...\n",
      "     Citation: [Source: Bing Search | Link: https://tophat.com/students/ | Position: 3]\n",
      "\n",
      "  14. Content: Welcome back to Top Hat. Students and Professors log in here to access your course....\n",
      "     Citation: [Source: Bing Search | Link: https://app.tophat.com/login | Position: 4]\n",
      "\n",
      "  15. Content: Ace, Top Hat’s AI-powered assistant, is designed to foster more impactful learning where it matters ...\n",
      "     Citation: [Source: Bing Search | Link: https://tophat.com/features/ace-ai/ | Position: 5]\n",
      "====================================================================================================\n",
      "==================== INTERNAL ONLY Tell me about our RainGuard Hiking Jacket product. ====================\n",
      "====================================================================================================\n",
      "Generated 0 web queries:\n",
      "⏭️ !!!! No search queries should be generated - internal context is sufficient !!!\n",
      "See the prompt in the web_search module for instructions that enforce this.\n"
     ]
    }
   ],
   "source": [
    "# Demo 2: Intelligent Web Search\n",
    "print(\"🌐 Searching EXTERNAL DATA (Bing) with Intelligent Web Query Generation...\")\n",
    "\n",
    "generated_queries0 = await web_searcher._get_web_search_queries(\n",
    "    user_query=test_queries[0],\n",
    "    internal_context=internal_context0  # Remove .to_list() - already a list\n",
    ")\n",
    "generated_queries1 = await web_searcher._get_web_search_queries(\n",
    "    user_query=test_queries[1],\n",
    "    internal_context=internal_context1  # Remove .to_list() - already a list\n",
    ")\n",
    "\n",
    "print(\"=\"*100)\n",
    "print(f\"{'='*20} INTERNAL + EXTERNAL {test_queries[0]} {'='*20}\")\n",
    "print(\"=\"*100)\n",
    "print(f\"Generated {len(generated_queries0)} web queries:\")  # generated_queries0 is a list\n",
    "for query in generated_queries0:  # Iterate directly over the list\n",
    "    print(f\"  Priority {query['priority_rank']}: {query['search_query']}\")\n",
    "    print(f\"  Purpose: {query['purpose']}\\n\")\n",
    "print(\"=\"*20)\n",
    "# Execute web search if queries were generated\n",
    "print(f\"Executing generated queries asynchronously: {len(generated_queries0)} queries\")\n",
    "if generated_queries0:  # Check if list is not empty\n",
    "    print(\"🔍 Executing Web Search...\")\n",
    "    web_results = await web_searcher.search_bing_with_chat_and_context(\n",
    "        user_query=test_queries[0],\n",
    "        internal_context=internal_context0 \n",
    "    )\n",
    "    print(f\"Returned web results (external context): {len(web_results)} results:\")\n",
    "    for i, result in enumerate(web_results, 1):  # web_results is a list, not SearchResults object\n",
    "        print(f\"\\n  {i}. Content: {result['content'][:100]}...\")\n",
    "        print(f\"     Citation: {result['citation']}\")\n",
    "\n",
    "print(\"=\"*100)\n",
    "print(f\"{'='*20} INTERNAL ONLY {test_queries[1]} {'='*20}\")\n",
    "print(\"=\"*100)\n",
    "print(f\"Generated {len(generated_queries1)} web queries:\")  # generated_queries1 is a list\n",
    "for query in generated_queries1:  # Iterate directly over the list\n",
    "    print(f\"  Priority {query['priority_rank']}: {query['search_query']}\")\n",
    "    print(f\"  Purpose: {query['purpose']}\\n\")\n",
    "print(\"⏭️ !!!! No search queries should be generated - internal context is sufficient !!!\")\n",
    "print(\"See the prompt in the web_search module for instructions that enforce this.\")"
   ]
  },
  {
   "cell_type": "markdown",
   "id": "6c689e7a",
   "metadata": {},
   "source": [
    "## 🤖 Explore the RAG Response\n",
    "\n",
    "- Execute the below cell, and then, explore each RAG response as you like. \n",
    "- Consider how applications might display the response and also the citations\n",
    "\n",
    "**🚨 Important:** The below will not use the above found context. Instead, it will perform the entire RAG response function end to end and may find new context."
   ]
  },
  {
   "cell_type": "code",
   "execution_count": 9,
   "id": "117979a1",
   "metadata": {},
   "outputs": [
    {
     "name": "stdout",
     "output_type": "stream",
     "text": [
      "🤖 Generating an LLM response to the test user queries ...\n",
      "\n",
      "====================================================================================================\n",
      "==================== INTERNAL + EXTERNAL What is the best footwear for hiking? ====================\n",
      "====================================================================================================\n",
      "🤖 Generated RAG response, use one of the below cells to evaluate the `rag_response0` varible\n",
      "The best footwear for hiking depends on several factors, including the type of terrain, weather conditions, and your personal comfort preferences. Here’s a breakdown of the options based on internal knowledge and external sources:\n",
      "\n",
      "### **1. Hiking Shoes**\n",
      "Hiking shoes, like the **TrailWalker Hiking Shoes** ($110.00), are ideal for moderate trails and day hikes. They offer:\n",
      "- **Lightweight design**: Reduces fatigue during long hikes.\n",
      "- **Breathability**: Keeps feet cool and dry.\n",
      "- **Traction and stability**: Multidirectional lugs on outsoles ensure grip on uneven terrain.\n",
      "- **Waterproofing**: Suitable for wet conditions.\n",
      "- **Customization**: Removable insoles and multiple size options for a perfect fit.\n",
      "These shoes are a great choice for hikers who want a balance of comfort, durability, and versatility. [Source: Internal Knowledge Base, ID: 11]\n",
      "\n",
      "### **2. Hiking Boots**\n",
      "For more rugged terrain or multi-day hikes, hiking boots like the **TrekReady Hiking Boots** ($140.00) are recommended. They provide:\n",
      "- **Durability**: Leather construction with reinforced stitching and toe protection.\n",
      "- **Ankle support**: Essential for uneven trails and heavy backpack loads.\n",
      "- **Traction**: Shock-absorbing midsoles and excellent grip for slippery surfaces.\n",
      "- **Comfort**: Padded collar and tongue, plus moisture-wicking lining to keep feet fresh.\n",
      "These boots are heavier than hiking shoes but offer superior protection and support for challenging hikes. [Source: Internal Knowledge Base, ID: 4]\n",
      "\n",
      "### **3. Hiking Sandals**\n",
      "For warm weather or light trails, hiking sandals like the **TrekStar Hiking Sandals** ($70.00) are a good choice. They feature:\n",
      "- **Breathable design**: Keeps feet cool during summer hikes.\n",
      "- **Adjustable straps**: Ensure a snug fit.\n",
      "- **Toe protection**: Shields feet from rocky terrain.\n",
      "- **Lightweight build**: Ideal for casual hikes or water crossings.\n",
      "Sandals are less protective than shoes or boots but are perfect for hikers prioritizing comfort and ventilation. [Source: Internal Knowledge Base, ID: 18]\n",
      "\n",
      "### **4. External Recommendations**\n",
      "External sources emphasize choosing footwear based on trail conditions and personal fit:\n",
      "- **Hiking Equipped** suggests trying on different types of footwear with hiking socks and testing them on varied terrain to find the best fit. [Source: External Web, Hiking Equipped]\n",
      "- **Outdoor Trekker** highlights the importance of durability and water resistance for creek crossings and loose terrain. [Source: External Web, Outdoor Trekker]\n",
      "\n",
      "### **Conclusion**\n",
      "If you’re hiking on moderate trails or in wet conditions, hiking shoes like the TrailWalker are a great choice. For rugged terrain or extended hikes, opt for hiking boots such as the TrekReady Hiking Boots. For warm weather or casual hikes, hiking sandals like the TrekStar are ideal. Ultimately, the best footwear is the one that fits your feet well and suits the trail conditions.\n",
      "\n",
      "If you need more specific advice, feel free to share details about your hiking plans!\n",
      "====================================================================================================\n",
      "==================== INTERNAL ONLY Tell me about our RainGuard Hiking Jacket product. ====================\n",
      "====================================================================================================\n",
      "🤖 Generated RAG response, use one of the below cells to evaluate the `rag_response1` varible\n",
      "The **RainGuard Hiking Jacket** is a premium outdoor gear designed by **MountainStyle** to provide comfort and protection during various outdoor activities such as hiking, camping, and trekking. Priced at **$110**, this jacket offers a combination of functionality, durability, and convenience.\n",
      "\n",
      "### Key Features:\n",
      "1. **Weatherproof Design**:\n",
      "   - Made with **waterproof and breathable fabric**, the RainGuard Hiking Jacket ensures you stay dry and comfortable even in rainy conditions.\n",
      "   - The adjustable hood provides a customizable fit to shield you from wind and rain.\n",
      "\n",
      "2. **Durability**:\n",
      "   - Its rugged construction guarantees long-lasting use, making it ideal for challenging environments.\n",
      "\n",
      "3. **Convenience**:\n",
      "   - Equipped with **multiple pockets**, it offers safe and convenient storage for your essentials.\n",
      "   - Adjustable cuffs and hem allow you to tailor the fit to your preference.\n",
      "\n",
      "4. **Ventilation**:\n",
      "   - To prevent overheating during intense activities, the jacket includes **ventilation zippers** for improved airflow.\n",
      "\n",
      "5. **Safety**:\n",
      "   - Reflective details enhance visibility in low-light conditions, making it suitable for evening treks.\n",
      "\n",
      "6. **Lightweight and Packable**:\n",
      "   - The jacket’s lightweight design ensures easy portability, allowing you to pack it in your backpack with minimal effort.\n",
      "\n",
      "### Target Audience:\n",
      "The RainGuard Hiking Jacket is available in options for both men and women, catering to outdoor enthusiasts who prioritize comfort and protection against unpredictable weather conditions.\n",
      "\n",
      "### Use Cases:\n",
      "This jacket is perfect for activities such as:\n",
      "- Hiking\n",
      "- Camping\n",
      "- Trekking\n",
      "- Other outdoor adventures\n",
      "\n",
      "With its thoughtful design and reliable performance, the RainGuard Hiking Jacket ensures that the weather never stands in your way of exploring the great outdoors.\n",
      "\n",
      "If you'd like more information or assistance with purchasing, feel free to ask!\n"
     ]
    }
   ],
   "source": [
    "print(\"🤖 Generating an LLM response to the test user queries ...\\n\")\n",
    "\n",
    "print(\"=\"*100)\n",
    "print(f\"{'='*20} INTERNAL + EXTERNAL {test_queries[0]} {'='*20}\")\n",
    "print(\"=\"*100)\n",
    "rag_response0 = await rag_generator.generate_chat_response(\n",
    "            user_query=test_queries[0],\n",
    "            n_chroma_results=3,\n",
    "            n_web_results=3\n",
    "        )\n",
    "print(\"🤖 Generated RAG response, use one of the below cells to evaluate the `rag_response0` varible\")\n",
    "print(rag_response0[\"response\"])\n",
    "\n",
    "print(\"=\"*100)\n",
    "print(f\"{'='*20} INTERNAL ONLY {test_queries[1]} {'='*20}\")\n",
    "print(\"=\"*100)\n",
    "rag_response1 = await rag_generator.generate_chat_response(\n",
    "            user_query=test_queries[1],\n",
    "            n_chroma_results=3,\n",
    "            n_web_results=3\n",
    "        )\n",
    "print(\"🤖 Generated RAG response, use one of the below cells to evaluate the `rag_response1` varible\")\n",
    "print(rag_response1[\"response\"])"
   ]
  },
  {
   "cell_type": "markdown",
   "id": "1007f2d0",
   "metadata": {},
   "source": [
    "Explore rag_response0 - INTERNAL + EXTERNAL What is the best footwear for hiking?"
   ]
  },
  {
   "cell_type": "code",
   "execution_count": 10,
   "id": "4f1f35fc",
   "metadata": {},
   "outputs": [
    {
     "data": {
      "text/plain": [
       "{'user_query': 'What is the best footwear for hiking?',\n",
       " 'response': 'The best footwear for hiking depends on several factors, including the type of terrain, weather conditions, and your personal comfort preferences. Here’s a breakdown of the options based on internal knowledge and external sources:\\n\\n### **1. Hiking Shoes**\\nHiking shoes, like the **TrailWalker Hiking Shoes** ($110.00), are ideal for moderate trails and day hikes. They offer:\\n- **Lightweight design**: Reduces fatigue during long hikes.\\n- **Breathability**: Keeps feet cool and dry.\\n- **Traction and stability**: Multidirectional lugs on outsoles ensure grip on uneven terrain.\\n- **Waterproofing**: Suitable for wet conditions.\\n- **Customization**: Removable insoles and multiple size options for a perfect fit.\\nThese shoes are a great choice for hikers who want a balance of comfort, durability, and versatility. [Source: Internal Knowledge Base, ID: 11]\\n\\n### **2. Hiking Boots**\\nFor more rugged terrain or multi-day hikes, hiking boots like the **TrekReady Hiking Boots** ($140.00) are recommended. They provide:\\n- **Durability**: Leather construction with reinforced stitching and toe protection.\\n- **Ankle support**: Essential for uneven trails and heavy backpack loads.\\n- **Traction**: Shock-absorbing midsoles and excellent grip for slippery surfaces.\\n- **Comfort**: Padded collar and tongue, plus moisture-wicking lining to keep feet fresh.\\nThese boots are heavier than hiking shoes but offer superior protection and support for challenging hikes. [Source: Internal Knowledge Base, ID: 4]\\n\\n### **3. Hiking Sandals**\\nFor warm weather or light trails, hiking sandals like the **TrekStar Hiking Sandals** ($70.00) are a good choice. They feature:\\n- **Breathable design**: Keeps feet cool during summer hikes.\\n- **Adjustable straps**: Ensure a snug fit.\\n- **Toe protection**: Shields feet from rocky terrain.\\n- **Lightweight build**: Ideal for casual hikes or water crossings.\\nSandals are less protective than shoes or boots but are perfect for hikers prioritizing comfort and ventilation. [Source: Internal Knowledge Base, ID: 18]\\n\\n### **4. External Recommendations**\\nExternal sources emphasize choosing footwear based on trail conditions and personal fit:\\n- **Hiking Equipped** suggests trying on different types of footwear with hiking socks and testing them on varied terrain to find the best fit. [Source: External Web, Hiking Equipped]\\n- **Outdoor Trekker** highlights the importance of durability and water resistance for creek crossings and loose terrain. [Source: External Web, Outdoor Trekker]\\n\\n### **Conclusion**\\nIf you’re hiking on moderate trails or in wet conditions, hiking shoes like the TrailWalker are a great choice. For rugged terrain or extended hikes, opt for hiking boots such as the TrekReady Hiking Boots. For warm weather or casual hikes, hiking sandals like the TrekStar are ideal. Ultimately, the best footwear is the one that fits your feet well and suits the trail conditions.\\n\\nIf you need more specific advice, feel free to share details about your hiking plans!',\n",
       " 'context_count': 8,\n",
       " 'citations': [{'source_type': 'internal',\n",
       "   'citation': '[Source: ChromaDB | Collection: product_collection | ID: 11 | Similarity: 0.180]',\n",
       "   'context_id': 1},\n",
       "  {'source_type': 'internal',\n",
       "   'citation': '[Source: ChromaDB | Collection: product_collection | ID: 4 | Similarity: 0.117]',\n",
       "   'context_id': 2},\n",
       "  {'source_type': 'internal',\n",
       "   'citation': '[Source: ChromaDB | Collection: product_collection | ID: 18 | Similarity: 0.061]',\n",
       "   'context_id': 3},\n",
       "  {'source_type': 'external',\n",
       "   'citation': '[Source: Bing Search | Link: https://outdoortrekker.com/footwear/hiking-footwear/best-hiking-shoes/ | Position: 1]',\n",
       "   'context_id': 1},\n",
       "  {'source_type': 'external',\n",
       "   'citation': '[Source: Bing Search | Link: https://hikingequipped.com/choosing-the-right-footwear-for-your-terrain/ | Position: 2]',\n",
       "   'context_id': 2},\n",
       "  {'source_type': 'external',\n",
       "   'citation': '[Source: Bing Search | Link: https://www.thegreatoutdoorsmag.com/skills/gear-skills/hiking-sandals-vs-boots-vs-trail-runners-find-your-perfect-fit-in-hiking-footwear/ | Position: 1]',\n",
       "   'context_id': 1},\n",
       "  {'source_type': 'external',\n",
       "   'citation': '[Source: Bing Search | Link: https://outdooradept.com/hiking-shoes-vs-hiking-sandals/ | Position: 2]',\n",
       "   'context_id': 2},\n",
       "  {'source_type': 'external',\n",
       "   'citation': '[Source: Bing Search | Link: https://gorp.com/hiking-shoes-vs-boots-vs-sandals-vs-trail-running-shoes/ | Position: 3]',\n",
       "   'context_id': 3}],\n",
       " 'formatted_context': \"\\n## INTERNAL KNOWLEDGE BASE:\\n\\n1. Content: ID: 11, Name: TrailWalker Hiking Shoes, Price: $110.0, Category: Hiking Footwear, Brand: TrekReady, Description: Meet the TrekReady TrailWalker Hiking Shoes, the ideal companion for all your outdoor adventures. Constructed with synthetic leather and breathable mesh, these shoes are tough as nails yet surprisingly airy. Their cushioned insoles offer fabulous comfort for long hikes, while the supportive midsoles and traction outsoles with multidirectional lugs ensure stability and excellent grip. A quick-lace system, padded collar and tongue, and reflective accents make these shoes a dream to wear. From combating rough terrain with the reinforced toe cap and heel, to keeping off trail debris with the protective mudguard, the TrailWalker Hiking Shoes have you covered. These waterproof warriors are made to endure all weather conditions. But they're not just about being rugged, they're light as a feather too, minimizing fatigue during epic hikes. Each pair can be customized for a perfect fit with removable insoles and availability in multiple sizes and widths. Navigate hikes comfortably and confidently with the TrailWalker Hiking Shoes. Adventure, here you come!\\n[Source: ChromaDB | Collection: product_collection | ID: 11 | Similarity: 0.180]\\nMetadata: {'collection': 'product_collection', 'document_id': '11', 'similarity_score': 0.18037378787994385, 'distance': 0.8196262121200562, 'category': 'Hiking Footwear', 'id': '11', 'name': 'TrailWalker Hiking Shoes', 'brand': 'TrekReady', 'price': 110.0}\\n\\n2. Content: ID: 4, Name: TrekReady Hiking Boots, Price: $140.0, Category: Hiking Footwear, Brand: TrekReady, Description: Introducing the TrekReady Hiking Boots - stepping up your hiking game, one footprint at a time! Crafted from leather, these stylistic Trailmates are made to last. TrekReady infuses durability with its reinforced stitching and toe protection, making sure your journey is never stopped short. Comfort? They have that covered too! The boots are a haven with their breathable materials, cushioned insole, with padded collar and tongue; all nestled neatly within their lightweight design. As they say, it's what's inside that counts - so inside you'll find a moisture-wicking lining that quarantines stank and keeps your feet fresh as that mountaintop breeze. Remember the fear of slippery surfaces? With these boots, you can finally tell it to 'take a hike'! Their shock-absorbing midsoles and excellent traction capabilities promise stability at your every step. Beautifully finished in a traditional lace-up system, every adventurer deserves a pair of TrekReady Hiking Boots. Hike more, worry less!\\n[Source: ChromaDB | Collection: product_collection | ID: 4 | Similarity: 0.117]\\nMetadata: {'collection': 'product_collection', 'document_id': '4', 'similarity_score': 0.11699259281158447, 'distance': 0.8830074071884155, 'name': 'TrekReady Hiking Boots', 'id': '4', 'category': 'Hiking Footwear', 'brand': 'TrekReady', 'price': 140.0}\\n\\n3. Content: ID: 18, Name: TrekStar Hiking Sandals, Price: $70.0, Category: Hiking Footwear, Brand: TrekReady, Description: Meet the TrekStar Hiking Sandals from TrekReady - the ultimate trail companion for your feet. Designed for comfort and durability, these lightweight sandals are perfect for those who prefer to see the world from a hiking trail. They feature adjustable straps for a snug, secure fit, perfect for adapting to the contours of your feet. With a breathable design, your feet will stay cool and dry, escaping the discomfort of sweaty hiking boots on long summer treks. The deep tread rubber outsole ensures excellent traction on any terrain, while the cushioned footbed promises enhanced comfort with every step. For those wild and unpredictable trails, the added toe protection and shock-absorbing midsole protect your feet from rocky surprises. Ingeniously, the removable insole makes for easy cleaning and maintenance, extending the lifespan of your sandals. Available in various sizes and a handsome brown color, the versatile TrekStar Hiking Sandals are just as comfortable on a casual walk in the park as they are navigating rocky slopes. Explore more with TrekReady!\\n[Source: ChromaDB | Collection: product_collection | ID: 18 | Similarity: 0.061]\\nMetadata: {'collection': 'product_collection', 'document_id': '18', 'similarity_score': 0.061225175857543945, 'distance': 0.938774824142456, 'id': '18', 'brand': 'TrekReady', 'category': 'Hiking Footwear', 'name': 'TrekStar Hiking Sandals', 'price': 70.0}\\n\\n## EXTERNAL WEB:\\n\\n1. Content: In this field‑tested roundup, you’ll discover top picks that excel in trail running scenarios, deliver unmatched durability on loose scree, and shrug off creek crossings without …\\n[Source: Bing Search | Link: https://outdoortrekker.com/footwear/hiking-footwear/best-hiking-shoes/ | Position: 1]\\nMetadata: {'title': 'Best Hiking Shoes for 2025 | Tested and Trusted', 'displayed_link': 'https://outdoortrekker.com › footwear › hiking...', 'snippet_highlighted_words': []}\\n\\n2. Content: Ultimately, the best hiking footwear is the one that fits your body, trail conditions, and experience level. Try on both types with your hiking socks, walk on varied terrain, and choose the pair that …\\n[Source: Bing Search | Link: https://hikingequipped.com/choosing-the-right-footwear-for-your-terrain/ | Position: 2]\\nMetadata: {'title': 'Choosing the Right Footwear for Your Terrain - Hiking Equipped', 'displayed_link': 'https://hikingequipped.com › choosing-the-right-footwear-for-your-terrain', 'snippet_highlighted_words': []}\\n\\n3. Content: If you’re thinking about trialling a new type of footwear for the outdoors, check out our advice on what to look for and some of our recommended makes and models in our …\\n[Source: Bing Search | Link: https://www.thegreatoutdoorsmag.com/skills/gear-skills/hiking-sandals-vs-boots-vs-trail-runners-find-your-perfect-fit-in-hiking-footwear/ | Position: 1]\\nMetadata: {'title': 'Hiking sandals vs boots vs trail runners: Find your perfect fit in ...', 'displayed_link': 'https://www.thegreatoutdoorsmag.com › skills › gear...', 'snippet_highlighted_words': []}\\n\\n4. Content: With that in mind, in this article, we’re going to discuss the differences between hiking shoes and hiking sandals, when you should choose one over the other, and whether …\\n[Source: Bing Search | Link: https://outdooradept.com/hiking-shoes-vs-hiking-sandals/ | Position: 2]\\nMetadata: {'title': 'Hiking Shoes vs Hiking Sandals (When to Use Each of Them)', 'displayed_link': 'https://outdooradept.com › hiking-shoes-vs-hiking-sandals', 'snippet_highlighted_words': []}\\n\\n5. Content: In this article, we will compare hiking shoes, hiking boots, hiking sandals, and trail running shoes to help you make a decision that your feet won’t regret. I always say “don’t …\\n[Source: Bing Search | Link: https://gorp.com/hiking-shoes-vs-boots-vs-sandals-vs-trail-running-shoes/ | Position: 3]\\nMetadata: {'title': 'HIking Shoes vs. Boots. vs. Sandals vs. Trail Running Shoes', 'displayed_link': 'https://gorp.com › hiking-shoes-vs-boots-vs-sandals...', 'snippet_highlighted_words': []}\\n\"}"
      ]
     },
     "execution_count": 10,
     "metadata": {},
     "output_type": "execute_result"
    }
   ],
   "source": [
    "rag_response0"
   ]
  },
  {
   "cell_type": "markdown",
   "id": "fa5dcb10",
   "metadata": {},
   "source": [
    "Explore rag_response1 - INTERNAL ONLY Tell me about our RainGuard Hiking Jacket product."
   ]
  },
  {
   "cell_type": "code",
   "execution_count": 11,
   "id": "e686d80d",
   "metadata": {},
   "outputs": [
    {
     "data": {
      "text/plain": [
       "{'user_query': 'Tell me about our RainGuard Hiking Jacket product.',\n",
       " 'response': \"The **RainGuard Hiking Jacket** is a premium outdoor gear designed by **MountainStyle** to provide comfort and protection during various outdoor activities such as hiking, camping, and trekking. Priced at **$110**, this jacket offers a combination of functionality, durability, and convenience.\\n\\n### Key Features:\\n1. **Weatherproof Design**:\\n   - Made with **waterproof and breathable fabric**, the RainGuard Hiking Jacket ensures you stay dry and comfortable even in rainy conditions.\\n   - The adjustable hood provides a customizable fit to shield you from wind and rain.\\n\\n2. **Durability**:\\n   - Its rugged construction guarantees long-lasting use, making it ideal for challenging environments.\\n\\n3. **Convenience**:\\n   - Equipped with **multiple pockets**, it offers safe and convenient storage for your essentials.\\n   - Adjustable cuffs and hem allow you to tailor the fit to your preference.\\n\\n4. **Ventilation**:\\n   - To prevent overheating during intense activities, the jacket includes **ventilation zippers** for improved airflow.\\n\\n5. **Safety**:\\n   - Reflective details enhance visibility in low-light conditions, making it suitable for evening treks.\\n\\n6. **Lightweight and Packable**:\\n   - The jacket’s lightweight design ensures easy portability, allowing you to pack it in your backpack with minimal effort.\\n\\n### Target Audience:\\nThe RainGuard Hiking Jacket is available in options for both men and women, catering to outdoor enthusiasts who prioritize comfort and protection against unpredictable weather conditions.\\n\\n### Use Cases:\\nThis jacket is perfect for activities such as:\\n- Hiking\\n- Camping\\n- Trekking\\n- Other outdoor adventures\\n\\nWith its thoughtful design and reliable performance, the RainGuard Hiking Jacket ensures that the weather never stands in your way of exploring the great outdoors.\\n\\nIf you'd like more information or assistance with purchasing, feel free to ask!\",\n",
       " 'context_count': 3,\n",
       " 'citations': [{'source_type': 'internal',\n",
       "   'citation': '[Source: ChromaDB | Collection: product_collection | ID: 17 | Similarity: 0.456]',\n",
       "   'context_id': 1},\n",
       "  {'source_type': 'internal',\n",
       "   'citation': '[Source: ChromaDB | Collection: product_collection | ID: 3 | Similarity: 0.047]',\n",
       "   'context_id': 2},\n",
       "  {'source_type': 'internal',\n",
       "   'citation': '[Source: ChromaDB | Collection: product_collection | ID: 9 | Similarity: -0.065]',\n",
       "   'context_id': 3}],\n",
       " 'formatted_context': \"\\n## INTERNAL KNOWLEDGE BASE:\\n\\n1. Content: ID: 17, Name: RainGuard Hiking Jacket, Price: $110.0, Category: Hiking Clothing, Brand: MountainStyle, Description: Introducing the MountainStyle RainGuard Hiking Jacket - the ultimate solution for weatherproof comfort during your outdoor undertakings! Designed with waterproof, breathable fabric, this jacket promises an outdoor experience that's as dry as it is comfortable. The rugged construction assures durability, while the adjustable hood provides a customizable fit against wind and rain. Featuring multiple pockets for safe, convenient storage and adjustable cuffs and hem, you can tailor the jacket to suit your needs on-the-go. And, don't worry about overheating during intense activities - it's equipped with ventilation zippers for increased airflow. Reflective details ensure visibility even during low-light conditions, making it perfect for evening treks. With its lightweight, packable design, carrying it inside your backpack requires minimal effort. With options for men and women, the RainGuard Hiking Jacket is perfect for hiking, camping, trekking and countless other outdoor adventures. Don't let the weather stand in your way - embrace the outdoors with MountainStyle RainGuard Hiking Jacket!\\n[Source: ChromaDB | Collection: product_collection | ID: 17 | Similarity: 0.456]\\nMetadata: {'collection': 'product_collection', 'document_id': '17', 'similarity_score': 0.4556226134300232, 'distance': 0.5443773865699768, 'id': '17', 'name': 'RainGuard Hiking Jacket', 'price': 110.0, 'brand': 'MountainStyle', 'category': 'Hiking Clothing'}\\n\\n2. Content: ID: 3, Name: Summit Breeze Jacket, Price: $120.0, Category: Hiking Clothing, Brand: MountainStyle, Description: Discover the joy of hiking with MountainStyle's Summit Breeze Jacket. This lightweight jacket is your perfect companion for outdoor adventures. Sporting a trail-ready, windproof design and a water-resistant fabric, it's ready to withstand any weather. The breathable polyester material and adjustable cuffs keep you comfortable, whether you're ascending a mountain or strolling through a park. And its sleek black color adds style to function. The jacket features a full-zip front closure, adjustable hood, and secure zippered pockets. Experience the comfort of its inner lining and the convenience of its packable design. Crafted for night trekkers too, the jacket has reflective accents for enhanced visibility. Rugged yet chic, the Summit Breeze Jacket is more than a hiking essential, it's the gear that inspires you to reach new heights. Choose adventure, choose the Summit Breeze Jacket.\\n[Source: ChromaDB | Collection: product_collection | ID: 3 | Similarity: 0.047]\\nMetadata: {'collection': 'product_collection', 'document_id': '3', 'similarity_score': 0.047222137451171875, 'distance': 0.9527778625488281, 'category': 'Hiking Clothing', 'brand': 'MountainStyle', 'name': 'Summit Breeze Jacket', 'price': 120.0, 'id': '3'}\\n\\n3. Content: ID: 9, Name: SummitClimber Backpack, Price: $120.0, Category: Backpacks, Brand: HikeMate, Description: Adventure waits for no one! Introducing the HikeMate SummitClimber Backpack, your reliable partner for every exhilarating journey. With a generous 60-liter capacity and multiple compartments and pockets, packing is a breeze. Every feature points to comfort and convenience; the ergonomic design and adjustable hip belt ensure a pleasantly personalized fit, while padded shoulder straps protect you from the burden of carrying. Venturing into wet weather? Fear not! The integrated rain cover has your back, literally. Stay hydrated thanks to the backpack's hydration system compatibility. Travelling during twilight? Reflective accents keep you visible in low-light conditions. The SummitClimber Backpack isn't merely a carrier; it's a wearable base camp constructed from ruggedly durable nylon and thoughtfully designed for the great outdoors adventurer, promising to withstand tough conditions and provide years of service. So, set off on that quest - the wild beckons! The SummitClimber Backpack - your hearty companion on every expedition!\\n[Source: ChromaDB | Collection: product_collection | ID: 9 | Similarity: -0.065]\\nMetadata: {'collection': 'product_collection', 'document_id': '9', 'similarity_score': -0.0648348331451416, 'distance': 1.0648348331451416, 'name': 'SummitClimber Backpack', 'price': 120.0, 'category': 'Backpacks', 'id': '9', 'brand': 'HikeMate'}\\n\\n## EXTERNAL WEB:\\n\"}"
      ]
     },
     "execution_count": 11,
     "metadata": {},
     "output_type": "execute_result"
    }
   ],
   "source": [
    "rag_response1"
   ]
  },
  {
   "cell_type": "markdown",
   "id": "2296cf70",
   "metadata": {},
   "source": [
    "## 👩‍🔬 Add Evaluations Logic\n",
    "\n",
    "- To right-size user expectations about accuracy, consider returning an accuracy score with results\n",
    "- Consider if every response should evaluated for accuracy; or, should users opt-in via the MCP dynamic tools?\n",
    "\n",
    "**🚨 Important:** The evaluation logic embedded in this solution is for demonstration purposes only. It is recommended to use a content moderation service provider, such as Azure AI Content Safety, that specializes in evaluations"
   ]
  },
  {
   "cell_type": "code",
   "execution_count": 12,
   "id": "aa958595",
   "metadata": {},
   "outputs": [
    {
     "name": "stdout",
     "output_type": "stream",
     "text": [
      "👩‍🔬 Generating RAG responses with integrated evaluation ...\n",
      "\n",
      "====================================================================================================\n",
      "==================== INTERNAL + EXTERNAL What is the best footwear for hiking? ====================\n",
      "====================================================================================================\n",
      "\n",
      "📈 Evaluation Results:\n",
      "   Accuracy Score: 0.90\n",
      "   Confidence: High\n",
      "   Supported Claims: 4\n",
      "   Unsupported Claims: 1\n",
      "====================================================================================================\n",
      "==================== INTERNAL ONLY Tell me about our RainGuard Hiking Jacket product. ====================\n",
      "====================================================================================================\n",
      "\n",
      "📈 Evaluation Results:\n",
      "   Accuracy Score: 1.00\n",
      "   Confidence: High\n",
      "   Supported Claims: 12\n",
      "   Unsupported Claims: 0\n"
     ]
    }
   ],
   "source": [
    "print(\"👩‍🔬 Generating RAG responses with integrated evaluation ...\\n\")\n",
    "\n",
    "print(\"=\"*100)\n",
    "print(f\"{'='*20} INTERNAL + EXTERNAL {test_queries[0]} {'='*20}\")\n",
    "print(\"=\"*100)\n",
    "\n",
    "try: \n",
    "    start = time.time()\n",
    "    evaluation0 = await rag_evaluator.evaluate_rag_response(\n",
    "            rag_response = rag_response0\n",
    "        )\n",
    "    elapsed = time.time() - start\n",
    "    print(f\"\\n📈 Evaluation Results:\")\n",
    "    print(f\"   Accuracy Score: {evaluation0['accuracy_score']:.2f}\")\n",
    "    print(f\"   Confidence: {evaluation0['confidence_level']}\")\n",
    "    print(f\"   Supported Claims: {len(evaluation0['supported_claims'])}\")\n",
    "    print(f\"   Unsupported Claims: {len(evaluation0['unsupported_claims'])}\")\n",
    "    \n",
    "except Exception as e:\n",
    "    print(f\"👩‍🔬❌ Error in RAG response with evaluation test: {e}\")\n",
    "\n",
    "print(\"=\"*100)\n",
    "print(f\"{'='*20} INTERNAL ONLY {test_queries[1]} {'='*20}\")\n",
    "print(\"=\"*100)\n",
    "\n",
    "try: \n",
    "    start = time.time()\n",
    "    evaluation1 = await rag_evaluator.evaluate_rag_response(\n",
    "        rag_response = rag_response1\n",
    "    )\n",
    "    elapsed = time.time() - start\n",
    "    print(f\"\\n📈 Evaluation Results:\")\n",
    "    print(f\"   Accuracy Score: {evaluation1['accuracy_score']:.2f}\")\n",
    "    print(f\"   Confidence: {evaluation1['confidence_level']}\")\n",
    "    print(f\"   Supported Claims: {len(evaluation1['supported_claims'])}\")\n",
    "    print(f\"   Unsupported Claims: {len(evaluation1['unsupported_claims'])}\")\n",
    "    \n",
    "except Exception as e:\n",
    "    print(f\"👩‍🔬❌ Error in RAG response with evaluation test: {e}\")"
   ]
  },
  {
   "cell_type": "code",
   "execution_count": 13,
   "id": "7c9cc7a8",
   "metadata": {},
   "outputs": [
    {
     "data": {
      "text/plain": [
       "{'accuracy_score': 0.9,\n",
       " 'evaluation_reasoning': 'The AI-generated answer is mostly supported by the provided context. It accurately describes the features and suitability of the TrailWalker Hiking Shoes, TrekReady Hiking Boots, and TrekStar Hiking Sandals based on the internal knowledge base. The external recommendations are general and align with the context provided, though they are not directly cited in detail.',\n",
       " 'supported_claims': ['TrailWalker Hiking Shoes are lightweight, breathable, have traction and stability, are waterproof, and customizable.',\n",
       "  'TrekReady Hiking Boots are durable, provide ankle support, have traction, and are comfortable.',\n",
       "  'TrekStar Hiking Sandals are breathable, have adjustable straps, toe protection, and are lightweight.',\n",
       "  'External sources emphasize choosing footwear based on trail conditions and personal fit.'],\n",
       " 'unsupported_claims': ['External sources highlight durability and water resistance for creek crossings and loose terrain (not directly cited in the context).'],\n",
       " 'confidence_level': 'High'}"
      ]
     },
     "execution_count": 13,
     "metadata": {},
     "output_type": "execute_result"
    }
   ],
   "source": [
    "evaluation0"
   ]
  },
  {
   "cell_type": "markdown",
   "id": "ec930347",
   "metadata": {},
   "source": [
    "## 🎮 Interactive Demo\n",
    "\n",
    "Try your own queries with the RAG system!"
   ]
  },
  {
   "cell_type": "code",
   "execution_count": 14,
   "id": "907d36eb",
   "metadata": {},
   "outputs": [
    {
     "name": "stdout",
     "output_type": "stream",
     "text": [
      "❓ Please enter your test question above\n"
     ]
    }
   ],
   "source": [
    "my_question = \"\"\n",
    "\n",
    "my_rag_response = None\n",
    "my_eval_outcome = None\n",
    "if my_question == \"\":\n",
    "    print(\"❓ Please enter your test question above\")\n",
    "\n",
    "else: \n",
    "    print(f\"🎮 Testing the end to end flow with my_question\")\n",
    "    print(\"=\"*100)\n",
    "    print(f\"{'='*20} My question: {my_question} {'='*20}\")\n",
    "    print(\"=\"*100)\n",
    "\n",
    "    my_rag_response = await rag_generator.generate_chat_response(\n",
    "            user_query=my_question,\n",
    "            n_chroma_results=3,\n",
    "            n_web_results=3\n",
    "        )\n",
    "    my_eval_outcome = await rag_evaluator.evaluate_rag_response(\n",
    "        rag_response = my_rag_response\n",
    "    )\n",
    "\n",
    "    # And, now, return the results\n",
    "    print(f\"\"\"The LLM''s response to my question: \n",
    "{my_rag_response['response']}\"\"\")\n",
    "\n",
    "    print(f\"\"\"!!!!! The accuracy score of the LLM's response: {my_eval_outcome['accuracy_score']:.2f} and the confidence level is {my_eval_outcome['confidence_level']}. \"\"\")"
   ]
  },
  {
   "cell_type": "markdown",
   "id": "951bb37f",
   "metadata": {},
   "source": [
    "Or, look at the entire contents of the output"
   ]
  },
  {
   "cell_type": "code",
   "execution_count": 15,
   "id": "af194a3f",
   "metadata": {},
   "outputs": [],
   "source": [
    "my_rag_response"
   ]
  },
  {
   "cell_type": "code",
   "execution_count": 16,
   "id": "0049dbfe",
   "metadata": {},
   "outputs": [],
   "source": [
    "my_eval_outcome"
   ]
  }
 ],
 "metadata": {
  "kernelspec": {
   "display_name": "sk-mcp-demo-py3.12",
   "language": "python",
   "name": "python3"
  },
  "language_info": {
   "codemirror_mode": {
    "name": "ipython",
    "version": 3
   },
   "file_extension": ".py",
   "mimetype": "text/x-python",
   "name": "python",
   "nbconvert_exporter": "python",
   "pygments_lexer": "ipython3",
   "version": "3.12.10"
  }
 },
 "nbformat": 4,
 "nbformat_minor": 5
}
