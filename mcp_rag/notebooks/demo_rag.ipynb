{
 "cells": [
  {
   "cell_type": "markdown",
   "id": "699d3861",
   "metadata": {},
   "source": [
    "# 🎯 RAG Demo: Retrieval-Augmented Generation\n",
    "\n",
    "This notebook demonstrates a complete RAG (Retrieval-Augmented Generation) pipeline that combines:\n",
    "- **Internal Knowledge**: ChromaDB with product catalog\n",
    "- **External Knowledge**: Web search via SerpAPI Bing\n",
    "- **AI Generation**: Azure OpenAI GPT-4\n",
    "- **Quality Evaluation**: Automated response accuracy assessment\n",
    "\n",
    "## 🏗️ Component Overview\n",
    "\n",
    "The RAG system intelligently combines internal company data with external web information to provide comprehensive, accurate responses.\n",
    "\n",
    "```mermaid\n",
    "graph LR\n",
    "    A[User Query] --> B[ChromaDB Search]\n",
    "    B --> C[Generate Web Queries]\n",
    "    A --> C[Generate Web Queries]\n",
    "    C --> D[SerpAPI Bing Search]\n",
    "    B --> E[Combine Context]\n",
    "    D --> E\n",
    "    E --> F[RAG: \n",
    "    Query + Context \n",
    "    -> LLM Response]\n",
    "    F --> G[LLM Evaluation]\n",
    "```"
   ]
  },
  {
   "cell_type": "code",
   "execution_count": 11,
   "id": "a862b981",
   "metadata": {},
   "outputs": [
    {
     "name": "stderr",
     "output_type": "stream",
     "text": [
      "2025-08-03 14:33:42,746 - root - INFO - ✅ Loaded environment file for 'local': c:\\Users\\aprilhazel\\Source\\sk_mcp_demo\\mcp_rag\\.env.local\n"
     ]
    },
    {
     "name": "stdout",
     "output_type": "stream",
     "text": [
      "✅ Configuration loaded: local\n"
     ]
    }
   ],
   "source": [
    "import sys\n",
    "import os\n",
    "import asyncio\n",
    "import time\n",
    "from pathlib import Path\n",
    "\n",
    "# Add src directory to path\n",
    "project_root = os.path.join(str(Path.cwd().parent), 'src')\n",
    "sys.path.insert(0, project_root)\n",
    "\n",
    "# Import RAG components\n",
    "from utils.mcp_config import Config\n",
    "from tools.chroma_search import ChromaDBSearcher\n",
    "from tools.web_search import WebSearcher\n",
    "from tools.rag_generator import RAGResponseGenerator\n",
    "\n",
    "# Initialize configuration\n",
    "config = Config(environment=\"local\")\n",
    "print(f\"✅ Configuration loaded: {config.environment}\")"
   ]
  },
  {
   "cell_type": "markdown",
   "id": "df514552",
   "metadata": {},
   "source": [
    "## 🧪 Demo Queries\n",
    "\n",
    "We'll test the RAG system with two different scenarios:\n",
    "1. **External Knowledge Needed**: \"What is the best footwear for hiking?\" - Requires web search\n",
    "2. **Internal Knowledge Sufficient**: \"Tell me about our RainGuard Hiking Jacket\" - Uses product catalog"
   ]
  },
  {
   "cell_type": "code",
   "execution_count": 2,
   "id": "7add08d8",
   "metadata": {},
   "outputs": [
    {
     "name": "stdout",
     "output_type": "stream",
     "text": [
      "🎯 Demo Queries:\n",
      "  1. What is the best footwear for hiking?\n",
      "  2. Tell me about our RainGuard Hiking Jacket product.\n",
      "\n",
      "🔧 RAG Components initialized successfully!\n"
     ]
    }
   ],
   "source": [
    "# Initialize RAG components\n",
    "chroma_searcher = ChromaDBSearcher(config)\n",
    "web_searcher = WebSearcher(config)\n",
    "rag_generator = RAGResponseGenerator(config)\n",
    "\n",
    "# Define test queries\n",
    "test_queries = [\n",
    "    \"What is the best footwear for hiking?\",  # External knowledge needed\n",
    "    \"Tell me about our RainGuard Hiking Jacket product.\"  # Internal knowledge sufficient\n",
    "]\n",
    "\n",
    "print(\"🎯 Demo Queries:\")\n",
    "for i, query in enumerate(test_queries, 1):\n",
    "    print(f\"  {i}. {query}\")\n",
    "    \n",
    "print(f\"\\n🔧 RAG Components initialized successfully!\")"
   ]
  },
  {
   "cell_type": "markdown",
   "id": "b660c476",
   "metadata": {},
   "source": [
    "# Scenario Discussion\n",
    "\n",
    "- **Scenario 1** involves the user asking a generic question that `goes beyond the scope of the internal data` - a product catalog. In this scenario, external Web context may provide value; therefore relevant Web queries are generated to be executed and included in the context to answer the users question.\n",
    "\n",
    "- **Scenario 2** involves the user asking a question about a `specific product in the internal catalog`, the RainGuard Hiking Jacket. In this scenario, the system has been instructed to only answer questions from the internal product catalog about any internal products. No Web queries are generated. The RAG response will be limited to internal data sources."
   ]
  },
  {
   "cell_type": "markdown",
   "id": "79bb0a76",
   "metadata": {},
   "source": [
    "## 🔍 Internal Search - Chroma DB - Local File in MCP Server\n",
    "\n",
    "The below shows how each scenario performs when searching the local Chroma database. The Chroma database is local to the MCP server."
   ]
  },
  {
   "cell_type": "code",
   "execution_count": null,
   "id": "5fe6523d",
   "metadata": {},
   "outputs": [
    {
     "name": "stdout",
     "output_type": "stream",
     "text": [
      "🔍 Searching INTERNAL DATA (ChromaDB). 20 documents ingested from https://github.com/Azure-Samples/contoso-chat/blob/main/data/product_info/products.csv)\n",
      "====================================================================================================\n",
      "==================== INTERNAL + EXTERNAL What is the best footwear for hiking? ====================\n",
      "====================================================================================================\n",
      "\n",
      "  1. Content: ID: 11, Name: TrailWalker Hiking Shoes, Price: $110.0, Category: Hiking Footwear, Brand: TrekReady, ...\n",
      "     Citation: [Source: ChromaDB | Collection: product_collection | ID: 11 | Similarity: 0.180]\n",
      "     Similarity: 0.18037372827529907\n",
      "\n",
      "  2. Content: ID: 4, Name: TrekReady Hiking Boots, Price: $140.0, Category: Hiking Footwear, Brand: TrekReady, Des...\n",
      "     Citation: [Source: ChromaDB | Collection: product_collection | ID: 4 | Similarity: 0.117]\n",
      "     Similarity: 0.11699265241622925\n",
      "====================================================================================================\n",
      "==================== INTERNAL ONLY Tell me about our RainGuard Hiking Jacket product. ====================\n",
      "====================================================================================================\n",
      "\n",
      "  1. Content: ID: 17, Name: RainGuard Hiking Jacket, Price: $110.0, Category: Hiking Clothing, Brand: MountainStyl...\n",
      "     Citation: [Source: ChromaDB | Collection: product_collection | ID: 17 | Similarity: 0.456]\n",
      "     Similarity: 0.4556225538253784\n",
      "\n",
      "  2. Content: ID: 3, Name: Summit Breeze Jacket, Price: $120.0, Category: Hiking Clothing, Brand: MountainStyle, D...\n",
      "     Citation: [Source: ChromaDB | Collection: product_collection | ID: 3 | Similarity: 0.047]\n",
      "     Similarity: 0.047222018241882324\n"
     ]
    }
   ],
   "source": [
    "# Demo 1: ChromaDB Internal Search\n",
    "collection_info = await chroma_searcher.get_collection_info()\n",
    "print(f\"🔍 Searching INTERNAL DATA (ChromaDB). {collection_info['document_count']} documents ingested from https://github.com/Azure-Samples/contoso-chat/blob/main/data/product_info/products.csv)\")\n",
    "\n",
    "internal_context0 = await chroma_searcher.search_chroma(\n",
    "    query=test_queries[0],\n",
    "    n_results=2\n",
    ")\n",
    "internal_context1 = await chroma_searcher.search_chroma(\n",
    "    query=test_queries[1],\n",
    "    n_results=2\n",
    ")\n",
    "\n",
    "print(\"=\"*100)\n",
    "print(f\"{'='*20} INTERNAL + EXTERNAL {test_queries[0]} {'='*20}\")\n",
    "print(\"=\"*100)\n",
    "\n",
    "for i, result in enumerate(internal_context0[:3], 1):\n",
    "    print(f\"\\n  {i}. Content: {result['content'][:100]}...\")\n",
    "    print(f\"     Citation: {result['citation']}\")\n",
    "    print(f\"     Similarity: {result['metadata'].get('similarity_score', 'N/A')}\")\n",
    "\n",
    "print(\"=\"*100)\n",
    "print(f\"{'='*20} INTERNAL ONLY {test_queries[1]} {'='*20}\")\n",
    "print(\"=\"*100)\n",
    "\n",
    "for i, result in enumerate(internal_context1[:3], 1):\n",
    "    print(f\"\\n  {i}. Content: {result['content'][:100]}...\")\n",
    "    print(f\"     Citation: {result['citation']}\")\n",
    "    print(f\"     Similarity: {result['metadata'].get('similarity_score', 'N/A')}\")"
   ]
  },
  {
   "cell_type": "code",
   "execution_count": 6,
   "id": "2925309d",
   "metadata": {},
   "outputs": [
    {
     "data": {
      "text/plain": [
       "[{'query': 'What is the best footwear for hiking?',\n",
       "  'content': \"ID: 11, Name: TrailWalker Hiking Shoes, Price: $110.0, Category: Hiking Footwear, Brand: TrekReady, Description: Meet the TrekReady TrailWalker Hiking Shoes, the ideal companion for all your outdoor adventures. Constructed with synthetic leather and breathable mesh, these shoes are tough as nails yet surprisingly airy. Their cushioned insoles offer fabulous comfort for long hikes, while the supportive midsoles and traction outsoles with multidirectional lugs ensure stability and excellent grip. A quick-lace system, padded collar and tongue, and reflective accents make these shoes a dream to wear. From combating rough terrain with the reinforced toe cap and heel, to keeping off trail debris with the protective mudguard, the TrailWalker Hiking Shoes have you covered. These waterproof warriors are made to endure all weather conditions. But they're not just about being rugged, they're light as a feather too, minimizing fatigue during epic hikes. Each pair can be customized for a perfect fit with removable insoles and availability in multiple sizes and widths. Navigate hikes comfortably and confidently with the TrailWalker Hiking Shoes. Adventure, here you come!\",\n",
       "  'citation': '[Source: ChromaDB | Collection: product_collection | ID: 11 | Similarity: 0.180]',\n",
       "  'metadata': {'collection': 'product_collection',\n",
       "   'document_id': '11',\n",
       "   'similarity_score': 0.18037372827529907,\n",
       "   'distance': 0.8196262717247009,\n",
       "   'price': 110.0,\n",
       "   'id': '11',\n",
       "   'category': 'Hiking Footwear',\n",
       "   'brand': 'TrekReady',\n",
       "   'name': 'TrailWalker Hiking Shoes'},\n",
       "  'context_id': 1,\n",
       "  'search_order': 1,\n",
       "  'source_type': 'internal'},\n",
       " {'query': 'What is the best footwear for hiking?',\n",
       "  'content': \"ID: 4, Name: TrekReady Hiking Boots, Price: $140.0, Category: Hiking Footwear, Brand: TrekReady, Description: Introducing the TrekReady Hiking Boots - stepping up your hiking game, one footprint at a time! Crafted from leather, these stylistic Trailmates are made to last. TrekReady infuses durability with its reinforced stitching and toe protection, making sure your journey is never stopped short. Comfort? They have that covered too! The boots are a haven with their breathable materials, cushioned insole, with padded collar and tongue; all nestled neatly within their lightweight design. As they say, it's what's inside that counts - so inside you'll find a moisture-wicking lining that quarantines stank and keeps your feet fresh as that mountaintop breeze. Remember the fear of slippery surfaces? With these boots, you can finally tell it to 'take a hike'! Their shock-absorbing midsoles and excellent traction capabilities promise stability at your every step. Beautifully finished in a traditional lace-up system, every adventurer deserves a pair of TrekReady Hiking Boots. Hike more, worry less!\",\n",
       "  'citation': '[Source: ChromaDB | Collection: product_collection | ID: 4 | Similarity: 0.117]',\n",
       "  'metadata': {'collection': 'product_collection',\n",
       "   'document_id': '4',\n",
       "   'similarity_score': 0.11699265241622925,\n",
       "   'distance': 0.8830073475837708,\n",
       "   'name': 'TrekReady Hiking Boots',\n",
       "   'price': 140.0,\n",
       "   'category': 'Hiking Footwear',\n",
       "   'id': '4',\n",
       "   'brand': 'TrekReady'},\n",
       "  'context_id': 2,\n",
       "  'search_order': 2,\n",
       "  'source_type': 'internal'}]"
      ]
     },
     "execution_count": 6,
     "metadata": {},
     "output_type": "execute_result"
    }
   ],
   "source": [
    "internal_context0"
   ]
  },
  {
   "cell_type": "markdown",
   "id": "3ec9f377",
   "metadata": {},
   "source": [
    "## 🌐 External Search - Bing via Serp API\n",
    "\n",
    "Execute the below block to see how each scenario is treated for external searching. \n",
    "\n",
    "- Scenario 1 has web search queries generated\n",
    "\n",
    "- Scenario 2 that is specific to an internal product does not have queries generated (this is by instruction to an LLM call that generates web queries based on the user's question and internal context provided)"
   ]
  },
  {
   "cell_type": "code",
   "execution_count": null,
   "id": "5178d0c7",
   "metadata": {},
   "outputs": [
    {
     "name": "stdout",
     "output_type": "stream",
     "text": [
      "🌐 Searching EXTERNAL DATA (Bing) with Intelligent Web Query Generation...\n",
      "====================================================================================================\n",
      "==================== INTERNAL + EXTERNAL What is the best footwear for hiking? ====================\n",
      "====================================================================================================\n",
      "Generated 2 web queries:\n",
      "  Priority 1: best hiking footwear for various terrains 2025\n",
      "  Purpose: To identify top-rated hiking footwear options for different terrains and conditions.\n",
      "\n",
      "  Priority 2: comparison of hiking shoes vs hiking boots benefits\n",
      "  Purpose: To understand the advantages and disadvantages of hiking shoes versus boots for hiking.\n",
      "\n",
      "====================\n",
      "Executing generated queries asynchronously: 2 queries\n",
      "🔍 Executing Web Search...\n",
      "Returned web results (external context): 2 results:\n",
      "\n",
      "  1. Content: To find the absolute best hiking shoes—lightweight backpacking footwear with rock‑solid grip, waterp...\n",
      "     Citation: [Source: Bing Search | Link: https://outdoortrekker.com/footwear/hiking-footwear/best-hiking-shoes/ | Position: 1]\n",
      "\n",
      "  2. Content: Today, a wide variety of hiking boots and hiking shoes share …...\n",
      "     Citation: [Source: Bing Search | Link: https://www.rei.com/learn/expert-advice/hiking-boots-hiking-shoes.html | Position: 1]\n",
      "====================================================================================================\n",
      "==================== INTERNAL ONLY Tell me about our RainGuard Hiking Jacket product. ====================\n",
      "====================================================================================================\n",
      "Generated 0 web queries:\n",
      "⏭️ !!!! No search queries should be generated - internal context is sufficient !!!\n",
      "See the prompt in the web_search module for instructions that enforce this.\n"
     ]
    }
   ],
   "source": [
    "# Demo 2: Intelligent Web Search\n",
    "print(\"🌐 Searching EXTERNAL DATA (Bing) with Intelligent Web Query Generation...\")\n",
    "\n",
    "generated_queries0 = await web_searcher._get_web_search_queries(\n",
    "    user_query=test_queries[0],\n",
    "    internal_context=internal_context0  # Remove .to_list() - already a list\n",
    ")\n",
    "generated_queries1 = await web_searcher._get_web_search_queries(\n",
    "    user_query=test_queries[1],\n",
    "    internal_context=internal_context1  # Remove .to_list() - already a list\n",
    ")\n",
    "\n",
    "print(\"=\"*100)\n",
    "print(f\"{'='*20} INTERNAL + EXTERNAL {test_queries[0]} {'='*20}\")\n",
    "print(\"=\"*100)\n",
    "print(f\"Generated {len(generated_queries0)} web queries:\")  # generated_queries0 is a list\n",
    "for query in generated_queries0:  # Iterate directly over the list\n",
    "    print(f\"  Priority {query['priority_rank']}: {query['search_query']}\")\n",
    "    print(f\"  Purpose: {query['purpose']}\\n\")\n",
    "print(\"=\"*20)\n",
    "# Execute web search if queries were generated\n",
    "print(f\"Executing generated queries asynchronously: {len(generated_queries0)} queries\")\n",
    "if generated_queries0:  # Check if list is not empty\n",
    "    print(\"🔍 Executing Web Search...\")\n",
    "    web_results = await web_searcher.search_serpapi_bing_with_generated_queries(\n",
    "        generated_queries=generated_queries0,\n",
    "        n_results=2\n",
    "    )\n",
    "    print(f\"Returned web results (external context): {len(web_results)} results:\")\n",
    "    for i, result in enumerate(web_results, 1):  # web_results is a list, not SearchResults object\n",
    "        print(f\"\\n  {i}. Content: {result['content'][:100]}...\")\n",
    "        print(f\"     Citation: {result['citation']}\")\n",
    "\n",
    "print(\"=\"*100)\n",
    "print(f\"{'='*20} INTERNAL ONLY {test_queries[1]} {'='*20}\")\n",
    "print(\"=\"*100)\n",
    "print(f\"Generated {len(generated_queries1)} web queries:\")  # generated_queries1 is a list\n",
    "for query in generated_queries1:  # Iterate directly over the list\n",
    "    print(f\"  Priority {query['priority_rank']}: {query['search_query']}\")\n",
    "    print(f\"  Purpose: {query['purpose']}\\n\")\n",
    "print(\"⏭️ !!!! No search queries should be generated - internal context is sufficient !!!\")\n",
    "print(\"See the prompt in the web_search module for instructions that enforce this.\")"
   ]
  },
  {
   "cell_type": "markdown",
   "id": "6c689e7a",
   "metadata": {},
   "source": [
    "## 🤖 Explore the RAG Response\n",
    "\n",
    "- Execute the below cell, and then, explore each RAG response as you like. \n",
    "- Consider how applications might display the response and also the citations\n",
    "\n",
    "**🚨 Important:** The below will not use the above found context. Instead, it will perform the entire RAG response function end to end and may find new context."
   ]
  },
  {
   "cell_type": "code",
   "execution_count": 8,
   "id": "117979a1",
   "metadata": {},
   "outputs": [
    {
     "name": "stdout",
     "output_type": "stream",
     "text": [
      "🤖 Generating an LLM response to the test user queries ...\n",
      "\n",
      "====================================================================================================\n",
      "==================== INTERNAL + EXTERNAL What is the best footwear for hiking? ====================\n",
      "====================================================================================================\n"
     ]
    },
    {
     "name": "stderr",
     "output_type": "stream",
     "text": [
      "2025-08-03 14:31:36,226 - src.tools.web_search - WARNING - Search timeout for query 'comparison of hiking shoes, boots, and sandals for...'\n"
     ]
    },
    {
     "name": "stdout",
     "output_type": "stream",
     "text": [
      "🤖 Generated RAG response, use one of the below cells to evaluate the `rag_response0` varible\n",
      "The best footwear for hiking depends on the type of terrain, weather conditions, and personal preferences. Here’s a breakdown of options based on internal knowledge and external sources:\n",
      "\n",
      "### **Internal Knowledge Base Recommendations**\n",
      "1. **TrailWalker Hiking Shoes ($110.0)**:\n",
      "   - **Features**: Lightweight, waterproof, breathable mesh, synthetic leather, cushioned insoles, multidirectional traction lugs, reinforced toe cap, and protective mudguard.\n",
      "   - **Best For**: Long hikes on varied terrain, especially where lightweight and waterproof features are essential.\n",
      "   - **Advantages**: Comfortable for extended use, customizable fit with removable insoles, and reflective accents for visibility.\n",
      "   - **Brand**: TrekReady.\n",
      "\n",
      "2. **TrekReady Hiking Boots ($140.0)**:\n",
      "   - **Features**: Leather construction, reinforced stitching, toe protection, moisture-wicking lining, shock-absorbing midsoles, and excellent traction.\n",
      "   - **Best For**: Rugged terrain and challenging trails where durability and stability are key.\n",
      "   - **Advantages**: Superior protection and comfort, traditional lace-up system, and lightweight design.\n",
      "   - **Brand**: TrekReady.\n",
      "\n",
      "3. **TrekStar Hiking Sandals ($70.0)**:\n",
      "   - **Features**: Adjustable straps, breathable design, cushioned footbed, toe protection, and shock-absorbing midsole.\n",
      "   - **Best For**: Summer hikes or casual trails where breathability and lightweight footwear are preferred.\n",
      "   - **Advantages**: Easy maintenance with removable insoles and excellent traction on moderate terrain.\n",
      "   - **Brand**: TrekReady.\n",
      "\n",
      "### **External Recommendations**\n",
      "1. **Merrell Moab 2 and KEEN Hightrail**:\n",
      "   - **Features**: Durable and waterproof, suitable for varied terrains.\n",
      "   - **Best For**: Hikers seeking reliable protection and comfort on moderate to challenging trails.\n",
      "   - **Source**: [Backpacking Guys](https://backpackingguys.com/best-shoes-for-hike/).\n",
      "\n",
      "2. **Barefoot Options (e.g., Theora Pro HF and Joomra)**:\n",
      "   - **Features**: Wide toe boxes for natural foot movement.\n",
      "   - **Best For**: Hikers who prefer minimalist footwear for moderate trails.\n",
      "   - **Source**: [Backpacking Guys](https://backpackingguys.com/best-shoes-for-hike/).\n",
      "\n",
      "### **Factors to Consider When Choosing Hiking Footwear**\n",
      "- **Terrain**: For rocky or uneven terrain, boots like TrekReady Hiking Boots or Merrell Moab 2 provide better ankle support and durability. For smoother trails, lightweight shoes or sandals like TrailWalker Hiking Shoes or TrekStar Hiking Sandals are ideal.\n",
      "- **Weather**: Waterproof options (e.g., TrailWalker Hiking Shoes, TrekReady Hiking Boots) are essential for wet conditions.\n",
      "- **Comfort**: Look for cushioned insoles, breathable materials, and adjustable features for a snug fit.\n",
      "- **Weight**: Lightweight footwear minimizes fatigue during long hikes.\n",
      "\n",
      "### **Conclusion**\n",
      "For rugged terrain and challenging hikes, **TrekReady Hiking Boots** or **Merrell Moab 2** are excellent choices. For lighter trails or summer hikes, **TrailWalker Hiking Shoes** or **TrekStar Hiking Sandals** offer comfort and breathability. If you prefer minimalist footwear, consider barefoot options like **Theora Pro HF**.\n",
      "\n",
      "Let me know if you'd like more details about any specific product!\n",
      "====================================================================================================\n",
      "==================== INTERNAL ONLY Tell me about our RainGuard Hiking Jacket product. ====================\n",
      "====================================================================================================\n",
      "🤖 Generated RAG response, use one of the below cells to evaluate the `rag_response1` varible\n",
      "The **RainGuard Hiking Jacket** is a versatile and high-performance outdoor jacket designed by **MountainStyle**, perfect for hiking, camping, trekking, and other outdoor adventures. Here are the key features of the product:\n",
      "\n",
      "### Features and Benefits:\n",
      "1. **Weatherproof Design**:\n",
      "   - Made with waterproof and breathable fabric to keep you dry and comfortable in wet conditions.\n",
      "   - Adjustable hood for a customizable fit against wind and rain.\n",
      "\n",
      "2. **Comfort and Durability**:\n",
      "   - Rugged construction ensures long-lasting durability.\n",
      "   - Adjustable cuffs and hem allow you to tailor the fit to your needs.\n",
      "\n",
      "3. **Convenience**:\n",
      "   - Multiple pockets provide safe and convenient storage for your essentials.\n",
      "   - Ventilation zippers are included to prevent overheating during intense activities.\n",
      "\n",
      "4. **Safety and Visibility**:\n",
      "   - Reflective details enhance visibility during low-light conditions, making it ideal for evening treks.\n",
      "\n",
      "5. **Lightweight and Packable**:\n",
      "   - The jacket is lightweight and packable, making it easy to carry in your backpack when not in use.\n",
      "\n",
      "6. **Unisex Options**:\n",
      "   - Available in options for both men and women, catering to a wide range of outdoor enthusiasts.\n",
      "\n",
      "### Price:\n",
      "The RainGuard Hiking Jacket is priced at **$110.00**.\n",
      "\n",
      "This jacket combines functionality, comfort, and safety, ensuring that weather conditions won't stand in the way of your outdoor adventures. Whether you're braving the rain or trekking under cloudy skies, the RainGuard Hiking Jacket is a reliable companion.\n",
      "\n",
      "Let me know if you'd like more details or assistance with purchasing!\n"
     ]
    }
   ],
   "source": [
    "print(\"🤖 Generating an LLM response to the test user queries ...\\n\")\n",
    "\n",
    "print(\"=\"*100)\n",
    "print(f\"{'='*20} INTERNAL + EXTERNAL {test_queries[0]} {'='*20}\")\n",
    "print(\"=\"*100)\n",
    "rag_response0 = await rag_generator.generate_chat_response(\n",
    "            user_query=test_queries[0],\n",
    "            n_chroma_results=3,\n",
    "            n_web_results=3\n",
    "        )\n",
    "print(\"🤖 Generated RAG response, use one of the below cells to evaluate the `rag_response0` varible\")\n",
    "print(rag_response0[\"response\"])\n",
    "\n",
    "print(\"=\"*100)\n",
    "print(f\"{'='*20} INTERNAL ONLY {test_queries[1]} {'='*20}\")\n",
    "print(\"=\"*100)\n",
    "rag_response1 = await rag_generator.generate_chat_response(\n",
    "            user_query=test_queries[1],\n",
    "            n_chroma_results=3,\n",
    "            n_web_results=3\n",
    "        )\n",
    "print(\"🤖 Generated RAG response, use one of the below cells to evaluate the `rag_response1` varible\")\n",
    "print(rag_response1[\"response\"])"
   ]
  },
  {
   "cell_type": "markdown",
   "id": "1007f2d0",
   "metadata": {},
   "source": [
    "Explore rag_response0 - INTERNAL + EXTERNAL What is the best footwear for hiking?"
   ]
  },
  {
   "cell_type": "code",
   "execution_count": 9,
   "id": "4f1f35fc",
   "metadata": {},
   "outputs": [
    {
     "data": {
      "text/plain": [
       "{'user_query': 'What is the best footwear for hiking?',\n",
       " 'response': \"The best footwear for hiking depends on the type of terrain, weather conditions, and personal preferences. Here’s a breakdown of options based on internal knowledge and external sources:\\n\\n### **Internal Knowledge Base Recommendations**\\n1. **TrailWalker Hiking Shoes ($110.0)**:\\n   - **Features**: Lightweight, waterproof, breathable mesh, synthetic leather, cushioned insoles, multidirectional traction lugs, reinforced toe cap, and protective mudguard.\\n   - **Best For**: Long hikes on varied terrain, especially where lightweight and waterproof features are essential.\\n   - **Advantages**: Comfortable for extended use, customizable fit with removable insoles, and reflective accents for visibility.\\n   - **Brand**: TrekReady.\\n\\n2. **TrekReady Hiking Boots ($140.0)**:\\n   - **Features**: Leather construction, reinforced stitching, toe protection, moisture-wicking lining, shock-absorbing midsoles, and excellent traction.\\n   - **Best For**: Rugged terrain and challenging trails where durability and stability are key.\\n   - **Advantages**: Superior protection and comfort, traditional lace-up system, and lightweight design.\\n   - **Brand**: TrekReady.\\n\\n3. **TrekStar Hiking Sandals ($70.0)**:\\n   - **Features**: Adjustable straps, breathable design, cushioned footbed, toe protection, and shock-absorbing midsole.\\n   - **Best For**: Summer hikes or casual trails where breathability and lightweight footwear are preferred.\\n   - **Advantages**: Easy maintenance with removable insoles and excellent traction on moderate terrain.\\n   - **Brand**: TrekReady.\\n\\n### **External Recommendations**\\n1. **Merrell Moab 2 and KEEN Hightrail**:\\n   - **Features**: Durable and waterproof, suitable for varied terrains.\\n   - **Best For**: Hikers seeking reliable protection and comfort on moderate to challenging trails.\\n   - **Source**: [Backpacking Guys](https://backpackingguys.com/best-shoes-for-hike/).\\n\\n2. **Barefoot Options (e.g., Theora Pro HF and Joomra)**:\\n   - **Features**: Wide toe boxes for natural foot movement.\\n   - **Best For**: Hikers who prefer minimalist footwear for moderate trails.\\n   - **Source**: [Backpacking Guys](https://backpackingguys.com/best-shoes-for-hike/).\\n\\n### **Factors to Consider When Choosing Hiking Footwear**\\n- **Terrain**: For rocky or uneven terrain, boots like TrekReady Hiking Boots or Merrell Moab 2 provide better ankle support and durability. For smoother trails, lightweight shoes or sandals like TrailWalker Hiking Shoes or TrekStar Hiking Sandals are ideal.\\n- **Weather**: Waterproof options (e.g., TrailWalker Hiking Shoes, TrekReady Hiking Boots) are essential for wet conditions.\\n- **Comfort**: Look for cushioned insoles, breathable materials, and adjustable features for a snug fit.\\n- **Weight**: Lightweight footwear minimizes fatigue during long hikes.\\n\\n### **Conclusion**\\nFor rugged terrain and challenging hikes, **TrekReady Hiking Boots** or **Merrell Moab 2** are excellent choices. For lighter trails or summer hikes, **TrailWalker Hiking Shoes** or **TrekStar Hiking Sandals** offer comfort and breathability. If you prefer minimalist footwear, consider barefoot options like **Theora Pro HF**.\\n\\nLet me know if you'd like more details about any specific product!\",\n",
       " 'context_count': 8,\n",
       " 'citations': [{'source_type': 'internal',\n",
       "   'citation': '[Source: ChromaDB | Collection: product_collection | ID: 11 | Similarity: 0.180]',\n",
       "   'context_id': 1},\n",
       "  {'source_type': 'internal',\n",
       "   'citation': '[Source: ChromaDB | Collection: product_collection | ID: 4 | Similarity: 0.117]',\n",
       "   'context_id': 2},\n",
       "  {'source_type': 'internal',\n",
       "   'citation': '[Source: ChromaDB | Collection: product_collection | ID: 18 | Similarity: 0.061]',\n",
       "   'context_id': 3},\n",
       "  {'source_type': 'external',\n",
       "   'citation': '[Source: Bing Search | Link: https://backpackingguys.com/best-shoes-for-hike/ | Position: 1]',\n",
       "   'context_id': 1},\n",
       "  {'source_type': 'external',\n",
       "   'citation': '[Source: Bing Search | Link: https://www.livefortheoutdoors.com/hiking/walking-boots/best-hiking-shoes-us/ | Position: 2]',\n",
       "   'context_id': 2},\n",
       "  {'source_type': 'external',\n",
       "   'citation': '[Source: Bing Search | Link: https://www.foxnews.com/ | Position: 1]',\n",
       "   'context_id': 1},\n",
       "  {'source_type': 'external',\n",
       "   'citation': '[Source: Bing Search | Link: https://www.cnn.com/ | Position: 2]',\n",
       "   'context_id': 2},\n",
       "  {'source_type': 'external',\n",
       "   'citation': '[Source: Bing Search | Link: https://www.bbc.com/news | Position: 3]',\n",
       "   'context_id': 3}]}"
      ]
     },
     "execution_count": 9,
     "metadata": {},
     "output_type": "execute_result"
    }
   ],
   "source": [
    "rag_response0"
   ]
  },
  {
   "cell_type": "markdown",
   "id": "fa5dcb10",
   "metadata": {},
   "source": [
    "Explore rag_response1 - INTERNAL ONLY Tell me about our RainGuard Hiking Jacket product."
   ]
  },
  {
   "cell_type": "code",
   "execution_count": 10,
   "id": "e686d80d",
   "metadata": {},
   "outputs": [
    {
     "data": {
      "text/plain": [
       "{'user_query': 'Tell me about our RainGuard Hiking Jacket product.',\n",
       " 'response': \"The **RainGuard Hiking Jacket** is a versatile and high-performance outdoor jacket designed by **MountainStyle**, perfect for hiking, camping, trekking, and other outdoor adventures. Here are the key features of the product:\\n\\n### Features and Benefits:\\n1. **Weatherproof Design**:\\n   - Made with waterproof and breathable fabric to keep you dry and comfortable in wet conditions.\\n   - Adjustable hood for a customizable fit against wind and rain.\\n\\n2. **Comfort and Durability**:\\n   - Rugged construction ensures long-lasting durability.\\n   - Adjustable cuffs and hem allow you to tailor the fit to your needs.\\n\\n3. **Convenience**:\\n   - Multiple pockets provide safe and convenient storage for your essentials.\\n   - Ventilation zippers are included to prevent overheating during intense activities.\\n\\n4. **Safety and Visibility**:\\n   - Reflective details enhance visibility during low-light conditions, making it ideal for evening treks.\\n\\n5. **Lightweight and Packable**:\\n   - The jacket is lightweight and packable, making it easy to carry in your backpack when not in use.\\n\\n6. **Unisex Options**:\\n   - Available in options for both men and women, catering to a wide range of outdoor enthusiasts.\\n\\n### Price:\\nThe RainGuard Hiking Jacket is priced at **$110.00**.\\n\\nThis jacket combines functionality, comfort, and safety, ensuring that weather conditions won't stand in the way of your outdoor adventures. Whether you're braving the rain or trekking under cloudy skies, the RainGuard Hiking Jacket is a reliable companion.\\n\\nLet me know if you'd like more details or assistance with purchasing!\",\n",
       " 'context_count': 3,\n",
       " 'citations': [{'source_type': 'internal',\n",
       "   'citation': '[Source: ChromaDB | Collection: product_collection | ID: 17 | Similarity: 0.456]',\n",
       "   'context_id': 1},\n",
       "  {'source_type': 'internal',\n",
       "   'citation': '[Source: ChromaDB | Collection: product_collection | ID: 3 | Similarity: 0.047]',\n",
       "   'context_id': 2},\n",
       "  {'source_type': 'internal',\n",
       "   'citation': '[Source: ChromaDB | Collection: product_collection | ID: 9 | Similarity: -0.065]',\n",
       "   'context_id': 3}]}"
      ]
     },
     "execution_count": 10,
     "metadata": {},
     "output_type": "execute_result"
    }
   ],
   "source": [
    "rag_response1"
   ]
  },
  {
   "cell_type": "markdown",
   "id": "2296cf70",
   "metadata": {},
   "source": [
    "## 👩‍🔬 Add Evaluations Logic\n",
    "\n",
    "- To right-size user expectations about accuracy, consider returning an accuracy score with results\n",
    "- Consider if every response should evaluated for accuracy; or, should users opt-in via the MCP dynamic tools?\n",
    "\n",
    "**🚨 Important:** The evaluation logic embedded in this solution is for demonstration purposes only. It is recommended to use a content moderation service provider, such as Azure AI Content Safety, that specializes in evaluations"
   ]
  },
  {
   "cell_type": "code",
   "execution_count": 19,
   "id": "aa958595",
   "metadata": {},
   "outputs": [
    {
     "name": "stdout",
     "output_type": "stream",
     "text": [
      "👩‍🔬 Generating RAG responses with integrated evaluation ...\n",
      "\n",
      "====================================================================================================\n",
      "==================== INTERNAL + EXTERNAL What is the best footwear for hiking? ====================\n",
      "====================================================================================================\n"
     ]
    },
    {
     "name": "stderr",
     "output_type": "stream",
     "text": [
      "2025-08-03 14:41:44,221 - src.tools.web_search - WARNING - Search timeout for query 'top-rated hiking shoes, boots, and sandals in 2025...'\n"
     ]
    },
    {
     "name": "stdout",
     "output_type": "stream",
     "text": [
      "👩‍🔬✅ RAG response with evaluation succeeded: evaluation score: 0.85 (Time: 20.94s)\n",
      "🤖 Generated RAG response (first 100 characters): The best footwear for hiking depends on your specific needs, preferences, and the type of terrain yo...\n",
      "\n",
      "📈 Evaluation Results:\n",
      "   Accuracy Score: 0.85\n",
      "   Confidence: High\n",
      "   Supported Claims: 4\n",
      "   Unsupported Claims: 2\n",
      "====================================================================================================\n",
      "==================== INTERNAL ONLY Tell me about our RainGuard Hiking Jacket product. ====================\n",
      "====================================================================================================\n",
      "👩‍🔬✅ RAG response with evaluation succeeded: evaluation score: 1.00 (Time: 8.34s)\n",
      "🤖 Generated RAG response (first 100 characters): The **MountainStyle RainGuard Hiking Jacket** is a versatile and high-performance piece of hiking cl...\n",
      "\n",
      "📈 Evaluation Results:\n",
      "   Accuracy Score: 1.00\n",
      "   Confidence: High\n",
      "   Supported Claims: 12\n",
      "   Unsupported Claims: 0\n"
     ]
    }
   ],
   "source": [
    "print(\"👩‍🔬 Generating RAG responses with integrated evaluation ...\\n\")\n",
    "\n",
    "print(\"=\"*100)\n",
    "print(f\"{'='*20} INTERNAL + EXTERNAL {test_queries[0]} {'='*20}\")\n",
    "print(\"=\"*100)\n",
    "\n",
    "try: \n",
    "    start = time.time()\n",
    "    rag_with_evaluation0 = await rag_generator.generate_evaluated_chat_response(\n",
    "        user_query=test_queries[0],\n",
    "        n_chroma_results=3,\n",
    "        n_web_results=3,\n",
    "        collection_name=\"product_collection\"\n",
    "    )\n",
    "    elapsed = time.time() - start\n",
    "    print(f\"👩‍🔬✅ RAG response with evaluation succeeded: evaluation score: {rag_with_evaluation0['evaluation']['accuracy_score']:.2f} (Time: {elapsed:.2f}s)\")\n",
    "    print(f\"🤖 Generated RAG response (first 100 characters): {rag_with_evaluation0['response'][:100]}...\")  # Print first 100 chars of response\n",
    "    print(f\"\\n📈 Evaluation Results:\")\n",
    "    evaluation0 = rag_with_evaluation0['evaluation']\n",
    "    print(f\"   Accuracy Score: {evaluation0['accuracy_score']:.2f}\")\n",
    "    print(f\"   Confidence: {evaluation0['confidence_level']}\")\n",
    "    print(f\"   Supported Claims: {len(evaluation0['supported_claims'])}\")\n",
    "    print(f\"   Unsupported Claims: {len(evaluation0['unsupported_claims'])}\")\n",
    "    \n",
    "except Exception as e:\n",
    "    print(f\"👩‍🔬❌ Error in RAG response with evaluation test: {e}\")\n",
    "\n",
    "print(\"=\"*100)\n",
    "print(f\"{'='*20} INTERNAL ONLY {test_queries[1]} {'='*20}\")\n",
    "print(\"=\"*100)\n",
    "\n",
    "try: \n",
    "    start = time.time()\n",
    "    rag_with_evaluation1 = await rag_generator.generate_evaluated_chat_response(\n",
    "        user_query=test_queries[1],\n",
    "        n_chroma_results=3,\n",
    "        n_web_results=3,\n",
    "        collection_name=\"product_collection\"\n",
    "    )\n",
    "    elapsed = time.time() - start\n",
    "    print(f\"👩‍🔬✅ RAG response with evaluation succeeded: evaluation score: {rag_with_evaluation1['evaluation']['accuracy_score']:.2f} (Time: {elapsed:.2f}s)\")\n",
    "    print(f\"🤖 Generated RAG response (first 100 characters): {rag_with_evaluation1['response'][:100]}...\")  # Print first 100 chars of response\n",
    "    print(f\"\\n📈 Evaluation Results:\")\n",
    "    evaluation1 = rag_with_evaluation1['evaluation']\n",
    "    print(f\"   Accuracy Score: {evaluation1['accuracy_score']:.2f}\")\n",
    "    print(f\"   Confidence: {evaluation1['confidence_level']}\")\n",
    "    print(f\"   Supported Claims: {len(evaluation1['supported_claims'])}\")\n",
    "    print(f\"   Unsupported Claims: {len(evaluation1['unsupported_claims'])}\")\n",
    "    \n",
    "except Exception as e:\n",
    "    print(f\"👩‍🔬❌ Error in RAG response with evaluation test: {e}\")"
   ]
  },
  {
   "cell_type": "code",
   "execution_count": 20,
   "id": "7c9cc7a8",
   "metadata": {},
   "outputs": [
    {
     "data": {
      "text/plain": [
       "{'user_query': 'What is the best footwear for hiking?',\n",
       " 'response': \"The best footwear for hiking depends on your specific needs, preferences, and the type of terrain you plan to tackle. Below, I’ll outline some options based on internal knowledge and external sources:\\n\\n---\\n\\n### **Internal Knowledge Recommendations**\\n1. **TrailWalker Hiking Shoes ($110.00)**  \\n   - **Best for:** Versatile hiking across various terrains.  \\n   - **Features:** Lightweight, waterproof, and breathable with synthetic leather and mesh construction. They offer excellent grip with multidirectional lugs, cushioned insoles for comfort, and a quick-lace system for convenience. They are ideal for long hikes and rough terrain due to their reinforced toe cap, heel, and protective mudguard.  \\n   - **Why Choose:** These shoes balance durability, comfort, and performance, making them a great all-around choice for hikers.  \\n\\n2. **TrekReady Hiking Boots ($140.00)**  \\n   - **Best for:** Rugged terrain and challenging hikes.  \\n   - **Features:** Made from leather with reinforced stitching, toe protection, and shock-absorbing midsoles. They are breathable, lightweight, and provide excellent traction. The moisture-wicking lining keeps feet fresh during extended use.  \\n   - **Why Choose:** These boots are perfect for hikers who need extra durability and stability on uneven or slippery surfaces.  \\n\\n3. **TrekStar Hiking Sandals ($70.00)**  \\n   - **Best for:** Summer hikes or casual trails.  \\n   - **Features:** Lightweight sandals with adjustable straps, breathable design, and deep tread rubber outsole for traction. They also offer toe protection and shock-absorbing midsoles.  \\n   - **Why Choose:** Ideal for hikers who prefer open footwear for hot weather or less demanding trails.\\n\\n---\\n\\n### **External Recommendations**\\n1. **La Sportiva Spire GTX (Women’s)**  \\n   - **Best for:** Dependable and long-lasting performance.  \\n   - **Features:** Waterproof membranes, rock-solid grip, and cushioning for extended hikes.  \\n   - **Why Choose:** Suitable for hikers who prioritize durability and advanced features.  \\n\\n2. **Columbia Crestwood Hiking Shoes**  \\n   - **Best for:** Casual day hikes.  \\n   - **Features:** Leather and mesh construction, stable and supportive design, and affordability.  \\n   - **Why Choose:** A budget-friendly option for hikers who don’t need advanced features.  \\n\\n(Source: [OutdoorGearLab](https://www.outdoorgearlab.com/topics/shoes-and-boots/best-hiking-shoes) and [OutdoorTrekker](https://outdoortrekker.com/footwear/hiking-footwear/best-hiking-shoes/))\\n\\n---\\n\\n### **Factors to Consider When Choosing Hiking Footwear**\\n- **Terrain:** For rugged terrain, boots like the TrekReady Hiking Boots are ideal. For casual or summer hikes, sandals like the TrekStar Hiking Sandals may suffice.  \\n- **Weather:** Waterproof shoes such as the TrailWalker Hiking Shoes are essential for wet conditions.  \\n- **Comfort:** Look for cushioned insoles, breathable materials, and lightweight designs to minimize fatigue.  \\n- **Durability:** Leather boots or shoes with reinforced stitching are better for long-term use.  \\n- **Budget:** Options range from $70 (sandals) to $140 (boots), depending on your needs.\\n\\n---\\n\\n### **Conclusion**\\nIf you’re looking for all-weather versatility, the **TrailWalker Hiking Shoes** are an excellent choice. For rugged terrain, the **TrekReady Hiking Boots** offer superior durability and support. For casual or summer hikes, the **TrekStar Hiking Sandals** provide comfort and breathability. External options like the **La Sportiva Spire GTX** and **Columbia Crestwood** are also worth considering for specific needs.\\n\\nLet me know if you'd like further assistance narrowing down your choice!\",\n",
       " 'context_count': 5,\n",
       " 'citations': [{'source_type': 'internal',\n",
       "   'citation': '[Source: ChromaDB | Collection: product_collection | ID: 11 | Similarity: 0.180]',\n",
       "   'context_id': 1},\n",
       "  {'source_type': 'internal',\n",
       "   'citation': '[Source: ChromaDB | Collection: product_collection | ID: 4 | Similarity: 0.117]',\n",
       "   'context_id': 2},\n",
       "  {'source_type': 'internal',\n",
       "   'citation': '[Source: ChromaDB | Collection: product_collection | ID: 18 | Similarity: 0.061]',\n",
       "   'context_id': 3},\n",
       "  {'source_type': 'external',\n",
       "   'citation': '[Source: Bing Search | Link: https://www.outdoorgearlab.com/topics/shoes-and-boots/best-hiking-shoes | Position: 1]',\n",
       "   'context_id': 1},\n",
       "  {'source_type': 'external',\n",
       "   'citation': '[Source: Bing Search | Link: https://outdoortrekker.com/footwear/hiking-footwear/best-hiking-shoes/ | Position: 2]',\n",
       "   'context_id': 2}],\n",
       " 'evaluation': {'accuracy_score': 0.85,\n",
       "  'evaluation_reasoning': 'The AI-generated answer provides a detailed comparison of hiking footwear options, including internal knowledge base products and external sources. Most claims about the internal products are supported by the context provided, such as features and suitability for different terrains. However, some claims about external products and general advice are not directly supported by the context.',\n",
       "  'supported_claims': ['TrailWalker Hiking Shoes are versatile for various terrains, lightweight, waterproof, breathable, and have features like multidirectional lugs, cushioned insoles, and reinforced toe cap and heel.',\n",
       "   'TrekReady Hiking Boots are suitable for rugged terrain, made from leather, have reinforced stitching, toe protection, shock-absorbing midsoles, and moisture-wicking lining.',\n",
       "   'TrekStar Hiking Sandals are ideal for summer hikes or casual trails, lightweight, breathable, with adjustable straps, deep tread rubber outsole, toe protection, and shock-absorbing midsoles.',\n",
       "   'Factors to consider when choosing hiking footwear include terrain, weather, comfort, durability, and budget.'],\n",
       "  'unsupported_claims': ['Specific details about external products like La Sportiva Spire GTX and Columbia Crestwood are not supported by the provided context.',\n",
       "   'General advice about choosing hiking footwear, while reasonable, is not explicitly supported by the context.'],\n",
       "  'confidence_level': 'High'},\n",
       " 'success': True}"
      ]
     },
     "execution_count": 20,
     "metadata": {},
     "output_type": "execute_result"
    }
   ],
   "source": [
    "rag_with_evaluation0"
   ]
  },
  {
   "cell_type": "markdown",
   "id": "ec930347",
   "metadata": {},
   "source": [
    "## 🎮 Interactive Demo\n",
    "\n",
    "Try your own queries with the RAG system!"
   ]
  },
  {
   "cell_type": "code",
   "execution_count": 24,
   "id": "907d36eb",
   "metadata": {},
   "outputs": [
    {
     "name": "stdout",
     "output_type": "stream",
     "text": [
      "❓ Please enter your test question above\n"
     ]
    }
   ],
   "source": [
    "my_question = \"\"\n",
    "\n",
    "if my_question == \"\":\n",
    "    print(\"❓ Please enter your test question above\")\n",
    "\n",
    "else: \n",
    "      print(f\"🎮 Testing the end to end flow with my_question\")\n",
    "      print(\"=\"*100)\n",
    "      print(f\"{'='*20} My question: {my_question} {'='*20}\")\n",
    "      print(\"=\"*100)\n",
    "\n",
    "      my_test_response = await rag_generator.generate_evaluated_chat_response(\n",
    "        user_query=my_question,\n",
    "        n_chroma_results=10,\n",
    "        n_web_results=10\n",
    "    )\n",
    "\n",
    "      # And, now, return the results\n",
    "      print(f\"\"\"The LLM''s response to my question: \n",
    "{my_test_response['response']}\"\"\")\n",
    "      print(f\"\"\"!!!!! The accuracy score of the LLM's response: {my_test_response['evaluation']['accuracy_score']:.2f} and the confidence level is {my_test_response['evaluation']['confidence_level']}. \"\"\")"
   ]
  },
  {
   "cell_type": "markdown",
   "id": "951bb37f",
   "metadata": {},
   "source": [
    "Or, look at the entire contents of the output"
   ]
  },
  {
   "cell_type": "code",
   "execution_count": 29,
   "id": "af194a3f",
   "metadata": {},
   "outputs": [],
   "source": [
    "my_test_response"
   ]
  }
 ],
 "metadata": {
  "kernelspec": {
   "display_name": "mcp-rag-server-py3.12",
   "language": "python",
   "name": "python3"
  },
  "language_info": {
   "codemirror_mode": {
    "name": "ipython",
    "version": 3
   },
   "file_extension": ".py",
   "mimetype": "text/x-python",
   "name": "python",
   "nbconvert_exporter": "python",
   "pygments_lexer": "ipython3",
   "version": "3.12.10"
  }
 },
 "nbformat": 4,
 "nbformat_minor": 5
}
