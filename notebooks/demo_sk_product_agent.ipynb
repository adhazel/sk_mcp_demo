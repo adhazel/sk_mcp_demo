{
 "cells": [
  {
   "cell_type": "markdown",
   "id": "0b6b1289",
   "metadata": {},
   "source": [
    "# Demo Semantic Kernel Product Agent"
   ]
  },
  {
   "cell_type": "code",
   "execution_count": 14,
   "id": "e7231a2b",
   "metadata": {},
   "outputs": [
    {
     "name": "stderr",
     "output_type": "stream",
     "text": [
      "2025-08-08 09:22:49,896 - root - INFO - ✅ Loaded environment file for 'local': C:\\Users\\aprilhazel\\Source\\sk_mcp_demo\\.env.local\n",
      "2025-08-08 09:22:49,898 - root - INFO - 🔧 Logging configured at level: INFO\n",
      "2025-08-08 09:22:49,898 - root - INFO - ✅ All required configuration loaded for 'local' environment\n"
     ]
    },
    {
     "name": "stdout",
     "output_type": "stream",
     "text": [
      "Config(log_level='INFO', environment='local', openai_api_key=None, openai_model=None, openai_api_type='azure', azure_openai_endpoint='https://aoai-zvbgv7oohofri.cognitiveservices.azure.com/', azure_openai_api_key=***, azure_openai_model='gpt-4o', azure_openai_deployment='gpt-4o', azure_openai_api_version='2024-12-01-preview', azure_openai_embedding_endpoint='https://aoai-zvbgv7oohofri.cognitiveservices.azure.com/', azure_openai_embedding_api_key=***, azure_openai_embedding_model='text-embedding-3-small', azure_openai_embedding_deployment='text-embedding-3-small', azure_openai_embedding_api_version='2024-12-01-preview', chroma_db_path='/data/chroma_db', serp_api_key=***, mcp_server_url='http://127.0.0.1:8002', sk_planner_model=None, sk_max_iterations=10, sk_temperature=0.7, project_root=WindowsPath('C:/Users/aprilhazel/Source/sk_mcp_demo'))\n"
     ]
    }
   ],
   "source": [
    "import sys\n",
    "import os\n",
    "from pathlib import Path\n",
    "\n",
    "# Add src directory to path\n",
    "project_root = os.path.join(str(Path.cwd().parent ),'src')\n",
    "sys.path.insert(0, project_root)\n",
    "\n",
    "# config\n",
    "from src.utils import Config\n",
    "config = Config(environment = \"local\")\n",
    "print(config)"
   ]
  },
  {
   "cell_type": "code",
   "execution_count": 15,
   "id": "19567b34",
   "metadata": {},
   "outputs": [],
   "source": [
    "# Import necessary libraries\n",
    "import asyncio\n",
    "from src.agents.sk_product_chat_agent import ProductChatAgent"
   ]
  },
  {
   "cell_type": "code",
   "execution_count": 16,
   "id": "b2b7112a",
   "metadata": {},
   "outputs": [
    {
     "name": "stderr",
     "output_type": "stream",
     "text": [
      "2025-08-08 09:23:06,059 - root - INFO - ✅ Loaded environment file for 'local': C:\\Users\\aprilhazel\\Source\\sk_mcp_demo\\.env.local\n",
      "2025-08-08 09:23:06,060 - root - INFO - 🔧 Logging configured at level: INFO\n",
      "2025-08-08 09:23:06,061 - root - INFO - ✅ All required configuration loaded for 'local' environment\n"
     ]
    },
    {
     "name": "stdout",
     "output_type": "stream",
     "text": [
      "🚀 Initializing the Product Chat Agent...\n"
     ]
    },
    {
     "name": "stderr",
     "output_type": "stream",
     "text": [
      "2025-08-08 09:23:06,996 - src.agents.sk_product_chat_agent - INFO - ✅ AI services configured for azure\n",
      "2025-08-08 09:23:06,997 - src.agents.sk_product_chat_agent - INFO - ✅ Product Chat Agent initialized\n"
     ]
    }
   ],
   "source": [
    "print(\"🚀 Initializing the Product Chat Agent...\")\n",
    "# Initialize the agent with default config\n",
    "agent = ProductChatAgent()"
   ]
  },
  {
   "cell_type": "code",
   "execution_count": 17,
   "id": "3c3cc8b5",
   "metadata": {},
   "outputs": [
    {
     "name": "stderr",
     "output_type": "stream",
     "text": [
      "2025-08-08 09:23:17,801 - src.client.core.session - INFO - Initializing MCP session with http://127.0.0.1:8002\n",
      "2025-08-08 09:23:17,810 - src.client.core.session - INFO - MCP session initialized successfully: b9030df6fd0c4e1c9b592ea31e493826\n",
      "2025-08-08 09:23:17,814 - src.client.core.discovery - INFO - Discovered 1 resources\n",
      "2025-08-08 09:23:17,819 - src.client.core.discovery - INFO - Discovered 4 tools\n",
      "2025-08-08 09:23:17,823 - src.client.core.discovery - INFO - Discovered 0 prompts\n",
      "2025-08-08 09:23:17,824 - src.client.core.discovery - INFO - Discovered 5 MCP primitives total\n",
      "2025-08-08 09:23:17,824 - SimpleMCPPlugin - INFO - Plugin initialized with 5 primitives\n",
      "2025-08-08 09:23:17,825 - SimpleMCPPlugin - INFO - Registered 4 tools as kernel functions\n",
      "2025-08-08 09:23:17,828 - src.agents.sk_product_chat_agent - INFO - ✅ Chat Completion Agent created with custom MCP plugin\n"
     ]
    },
    {
     "name": "stdout",
     "output_type": "stream",
     "text": [
      "\n",
      "🔍 Checking available MCP functions...\n",
      "Status: available\n",
      "Function count: 8\n",
      "MCP Server URL: http://127.0.0.1:8002\n"
     ]
    }
   ],
   "source": [
    "# Check available functions to confirm connection to MCP server\n",
    "print(\"\\n🔍 Checking available MCP functions...\")\n",
    "functions = await agent.get_available_functions()\n",
    "print(f\"Status: {functions['status']}\")\n",
    "print(f\"Function count: {functions['function_count']}\")\n",
    "print(f\"MCP Server URL: {functions['mcp_server_url']}\")"
   ]
  },
  {
   "cell_type": "code",
   "execution_count": 18,
   "id": "1157d818",
   "metadata": {},
   "outputs": [
    {
     "name": "stdout",
     "output_type": "stream",
     "text": [
      "\n",
      "📊 Agent Status: ready\n",
      "Using AI Service: azure\n"
     ]
    }
   ],
   "source": [
    "# Get agent status\n",
    "status = agent.get_status()\n",
    "print(f\"\\n📊 Agent Status: {status['status']}\")\n",
    "print(f\"Using AI Service: {status['ai_service']}\")"
   ]
  },
  {
   "cell_type": "code",
   "execution_count": 19,
   "id": "17d8112f",
   "metadata": {},
   "outputs": [
    {
     "name": "stdout",
     "output_type": "stream",
     "text": [
      "\n",
      "💬 Starting a conversation...\n",
      "\n",
      "🧑‍💻 Question 1: What hiking boots do you recommend?\n",
      "⏳ Waiting for response...\n"
     ]
    },
    {
     "name": "stderr",
     "output_type": "stream",
     "text": [
      "2025-08-08 09:24:56,198 - httpx - INFO - HTTP Request: POST https://aoai-zvbgv7oohofri.cognitiveservices.azure.com/openai/deployments/gpt-4o/chat/completions?api-version=2024-12-01-preview \"HTTP/1.1 200 OK\"\n",
      "2025-08-08 09:24:56,221 - semantic_kernel.connectors.ai.open_ai.services.open_ai_handler - INFO - OpenAI usage: CompletionUsage(completion_tokens=102, prompt_tokens=824, total_tokens=926, completion_tokens_details=CompletionTokensDetails(accepted_prediction_tokens=0, audio_tokens=0, reasoning_tokens=0, rejected_prediction_tokens=0), prompt_tokens_details=PromptTokensDetails(audio_tokens=0, cached_tokens=0))\n",
      "2025-08-08 09:24:56,223 - semantic_kernel.connectors.ai.chat_completion_client_base - INFO - processing 2 tool calls in parallel.\n",
      "2025-08-08 09:24:56,224 - semantic_kernel.kernel - INFO - Calling SimpleMCPPlugin-call_mcp_tool function with args: {\"tool_name\": \"search_internal_products\", \"parameters\": \"{\\\"query\\\": \\\"hiking boots\\\", \\\"n_results\\\": 5}\"}\n",
      "2025-08-08 09:24:56,229 - semantic_kernel.functions.kernel_function - INFO - Function SimpleMCPPlugin-call_mcp_tool invoking.\n",
      "2025-08-08 09:24:56,232 - semantic_kernel.kernel - INFO - Calling SimpleMCPPlugin-call_mcp_tool function with args: {\"tool_name\": \"search_external_web\", \"parameters\": \"{\\\"user_query\\\": \\\"recommended hiking boots\\\", \\\"n_results_per_search\\\": 2}\"}\n",
      "2025-08-08 09:24:56,233 - semantic_kernel.functions.kernel_function - INFO - Function SimpleMCPPlugin-call_mcp_tool invoking.\n",
      "2025-08-08 09:24:56,504 - src.client.core.executor - INFO - Successfully executed tool 'search_internal_products'\n",
      "2025-08-08 09:24:56,506 - semantic_kernel.functions.kernel_function - INFO - Function SimpleMCPPlugin-call_mcp_tool succeeded.\n",
      "2025-08-08 09:24:56,508 - semantic_kernel.functions.kernel_function - INFO - Function completed. Duration: 0.277502s\n",
      "2025-08-08 09:25:05,165 - src.client.core.executor - INFO - Successfully executed tool 'search_external_web'\n",
      "2025-08-08 09:25:05,167 - semantic_kernel.functions.kernel_function - INFO - Function SimpleMCPPlugin-call_mcp_tool succeeded.\n",
      "2025-08-08 09:25:05,168 - semantic_kernel.functions.kernel_function - INFO - Function completed. Duration: 8.933191s\n",
      "2025-08-08 09:25:11,229 - httpx - INFO - HTTP Request: POST https://aoai-zvbgv7oohofri.cognitiveservices.azure.com/openai/deployments/gpt-4o/chat/completions?api-version=2024-12-01-preview \"HTTP/1.1 200 OK\"\n",
      "2025-08-08 09:25:11,231 - semantic_kernel.connectors.ai.open_ai.services.open_ai_handler - INFO - OpenAI usage: CompletionUsage(completion_tokens=595, prompt_tokens=4281, total_tokens=4876, completion_tokens_details=CompletionTokensDetails(accepted_prediction_tokens=0, audio_tokens=0, reasoning_tokens=0, rejected_prediction_tokens=0), prompt_tokens_details=PromptTokensDetails(audio_tokens=0, cached_tokens=0))\n"
     ]
    },
    {
     "name": "stdout",
     "output_type": "stream",
     "text": [
      "\n",
      "🤖 Response: Here are recommendations for hiking boots based on both internal product data and external web insights:\n",
      "\n",
      "---\n",
      "\n",
      "### **Internal Product Recommendations**\n",
      "The internal product catalog features top-rated hiking boots that focus on durability, comfort, and design:\n",
      "\n",
      "1. **TrekReady Hiking Boots ($140)**  \n",
      "   - **Description:** Crafted with reinforced stitching, toe protection, and breathable features, these boots are suitable for long treks. They include shock-absorbing midsoles and excellent traction capabilities, making them versatile for varying terrains.  \n",
      "   - **Highlights:** Lightweight design, moisture-wicking lining, lace-up closure, and padded collar ensure comfort and stability.  \n",
      "   - **Ideal For:** Adventurers looking for durable boots with great grip and comfort.  \n",
      "   - **Source:** Internal Product [ChromaDB | Collection: product_collection | ID: 4]\n",
      "\n",
      "2. **TrailWalker Hiking Shoes ($110)**  \n",
      "   - **Description:** Waterproof synthetic leather shoes with a supportive midsole, reinforced toe cap, and heel strengthen their durability. These are designed for rough terrains, and their light design reduces fatigue on long hikes.  \n",
      "   - **Highlights:** Quick-lace system and multidirectional lugs provide grip and comfort on various surfaces.  \n",
      "   - **Ideal For:** Hikers seeking lighter, waterproof hiking footwear.  \n",
      "   - **Source:** Internal Product [ChromaDB | Collection: product_collection | ID: 11]\n",
      "\n",
      "---\n",
      "\n",
      "### **External Insights on Hiking Boots**\n",
      "External web searches provide buyer guides and recommendations for hiking boots based on terrain, features, and user reviews:\n",
      "\n",
      "1. **Guide to Choosing Hiking Boots**  \n",
      "   - **Key Features in Top-Rated Boots:** Look for sturdy construction, waterproof materials, cushioned and shock-absorbing soles, and specialized traction for uneven terrains.  \n",
      "   - **Adaptability:** Different boots offer features tailored to rocky, muddy, or dry terrains.  \n",
      "   - **Source:** [Deseret | Guides](https://www.deseret.com/guides/2024/08/07/best-hiking-boots)\n",
      "\n",
      "2. **Buyer's Guides and Hiking Resources**  \n",
      "   - **Resources Overview:** Tools and trails reviews can assist you in finding boots suitable for unique hiking needs.  \n",
      "   - **Support:** Insights on making informed decisions include durability, ankle support, and waterproof benefits.  \n",
      "   - **Source:** [American Hiking Society | Hiking Resources](https://americanhiking.org/hiking-resources/)\n",
      "\n",
      "---\n",
      "\n",
      "### Enhanced Recommendation Summary\n",
      "By combining internal product listings with external advice:\n",
      "- **For Serious Trekkers:** Internally, TrekReady Hiking Boots stand out for professional-level durability and comfort. Externally, buyer guides reinforce the importance of these features for rugged terrains.  \n",
      "- **For Casual Hikers:** TrailWalker Hiking Shoes combine lightweight comfort with waterproof functionality. External resources help guide customization based on trail difficulty.\n",
      "\n",
      "If you'd like detailed comparisons or specific feature emphasis, let me know!\n",
      "\n",
      "🧹 Conversation thread cleaned up\n"
     ]
    }
   ],
   "source": [
    "# Start a conversation with a product question\n",
    "print(\"\\n💬 Starting a conversation...\")\n",
    "questions = [\n",
    "    \"What hiking boots do you recommend?\"\n",
    "]\n",
    "\n",
    "# Create a conversation thread\n",
    "thread = await agent.start_conversation()\n",
    "\n",
    "# Ask questions in sequence to maintain conversation context\n",
    "for i, question in enumerate(questions):\n",
    "    print(f\"\\n🧑‍💻 Question {i+1}: {question}\")\n",
    "    print(\"⏳ Waiting for response...\")\n",
    "    \n",
    "    # Continue the conversation with the current thread\n",
    "    response = await agent.continue_conversation(question, thread)\n",
    "    \n",
    "    if response[\"status\"] == \"success\":\n",
    "        print(f\"\\n🤖 Response: {response['response']['response']}\")\n",
    "    else:\n",
    "        print(f\"\\n❌ Error: {response.get('error', 'Unknown error')}\")\n",
    "\n",
    "# Clean up the conversation thread\n",
    "await agent.end_conversation(thread)\n",
    "print(\"\\n🧹 Conversation thread cleaned up\")"
   ]
  }
 ],
 "metadata": {
  "kernelspec": {
   "display_name": "sk-mcp-demo-py3.12",
   "language": "python",
   "name": "python3"
  },
  "language_info": {
   "codemirror_mode": {
    "name": "ipython",
    "version": 3
   },
   "file_extension": ".py",
   "mimetype": "text/x-python",
   "name": "python",
   "nbconvert_exporter": "python",
   "pygments_lexer": "ipython3",
   "version": "3.12.10"
  }
 },
 "nbformat": 4,
 "nbformat_minor": 5
}
