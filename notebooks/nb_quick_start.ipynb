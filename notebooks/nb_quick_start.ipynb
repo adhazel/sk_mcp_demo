{
 "cells": [
  {
   "cell_type": "markdown",
   "id": "0b6b1289",
   "metadata": {},
   "source": [
    "# Quick Start Notebook\n",
    "\n",
    "This notebook demonstrates the easiest way to get started with your sk_mcp_demo project configuration in a Jupyter notebook."
   ]
  },
  {
   "cell_type": "code",
   "execution_count": 1,
   "id": "e7231a2b",
   "metadata": {},
   "outputs": [
    {
     "name": "stderr",
     "output_type": "stream",
     "text": [
      "2025-08-08 09:11:53,016 - root - INFO - ✅ Loaded environment file for 'local': c:\\Users\\aprilhazel\\Source\\sk_mcp_demo\\.env.local\n",
      "2025-08-08 09:11:53,018 - root - INFO - 🔧 Logging configured at level: INFO\n",
      "2025-08-08 09:11:53,020 - root - INFO - ✅ All required configuration loaded for 'local' environment\n"
     ]
    },
    {
     "name": "stdout",
     "output_type": "stream",
     "text": [
      "Config(log_level='INFO', environment='local', openai_api_key=None, openai_model=None, openai_api_type='azure', azure_openai_endpoint='https://aoai-zvbgv7oohofri.cognitiveservices.azure.com/', azure_openai_api_key=***, azure_openai_model='gpt-4o', azure_openai_deployment='gpt-4o', azure_openai_api_version='2024-12-01-preview', azure_openai_embedding_endpoint='https://aoai-zvbgv7oohofri.cognitiveservices.azure.com/', azure_openai_embedding_api_key=***, azure_openai_embedding_model='text-embedding-3-small', azure_openai_embedding_deployment='text-embedding-3-small', azure_openai_embedding_api_version='2024-12-01-preview', chroma_db_path='/data/chroma_db', serp_api_key=***, mcp_server_url='http://127.0.0.1:8002', sk_planner_model=None, sk_max_iterations=10, sk_temperature=0.7, project_root=WindowsPath('c:/Users/aprilhazel/Source/sk_mcp_demo'))\n"
     ]
    }
   ],
   "source": [
    "import sys\n",
    "import os\n",
    "from pathlib import Path\n",
    "\n",
    "# Add src directory to path\n",
    "project_root = os.path.join(str(Path.cwd().parent ),'src')\n",
    "sys.path.insert(0, project_root)\n",
    "\n",
    "# config\n",
    "from utils import Config\n",
    "config = Config(environment = \"local\")\n",
    "print(config)"
   ]
  },
  {
   "cell_type": "code",
   "execution_count": 2,
   "id": "0699ee1c",
   "metadata": {},
   "outputs": [
    {
     "name": "stdout",
     "output_type": "stream",
     "text": [
      "OpenAI API Type: azure\n",
      "Log Level: INFO\n",
      "ChromaDB Path: /data/chroma_db\n"
     ]
    }
   ],
   "source": [
    "# Your config is ready to use\n",
    "print(f\"OpenAI API Type: {config.openai_api_type}\")\n",
    "print(f\"Log Level: {config.log_level}\")\n",
    "print(f\"ChromaDB Path: {config.chroma_db_path}\")"
   ]
  }
 ],
 "metadata": {
  "kernelspec": {
   "display_name": "sk-mcp-demo-py3.12",
   "language": "python",
   "name": "python3"
  },
  "language_info": {
   "codemirror_mode": {
    "name": "ipython",
    "version": 3
   },
   "file_extension": ".py",
   "mimetype": "text/x-python",
   "name": "python",
   "nbconvert_exporter": "python",
   "pygments_lexer": "ipython3",
   "version": "3.12.10"
  }
 },
 "nbformat": 4,
 "nbformat_minor": 5
}
