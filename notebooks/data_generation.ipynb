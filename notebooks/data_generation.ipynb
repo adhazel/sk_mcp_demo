{
 "cells": [
  {
   "cell_type": "code",
   "execution_count": 1,
   "id": "7ce91f26",
   "metadata": {},
   "outputs": [
    {
     "name": "stdout",
     "output_type": "stream",
     "text": [
      "🚀 Setting up notebook environment...\n",
      "✅ Already in Python path: C:\\Users\\aprilhazel\\Source\\sk_mcp_demo\n",
      "✅ Loaded environment file: C:\\Users\\aprilhazel\\Source\\sk_mcp_demo\\.env.local\n",
      "✅ All required configuration loaded for 'local' environment\n",
      "✅ Configuration loaded for 'local' environment\n",
      "✨ Notebook setup complete!\n",
      "   Project root: C:\\Users\\aprilhazel\\Source\\sk_mcp_demo\n",
      "   Environment: local\n",
      "   Config: Config(environment='local', openai_api_key=None, openai_model=None, openai_api_type='azure', azure_openai_endpoint='https://aoai-zvbgv7oohofri.cognitiveservices.azure.com/', azure_openai_api_key=***, azure_openai_model='gpt-4o', azure_openai_deployment='gpt-4o', azure_openai_api_version='2024-12-01-preview', azure_openai_embedding_endpoint='https://aoai-zvbgv7oohofri.cognitiveservices.azure.com/', azure_openai_embedding_api_key=***, azure_openai_embedding_model='text-embedding-3-small', azure_openai_embedding_deployment='text-embedding-3-small', azure_openai_embedding_api_version='2024-12-01-preview', chroma_db_path='/data/chroma_db', vector_collection_name='products', search_api_key=None, search_engine_id=None, log_level='DEBUG', debug=True, sk_log_level='DEBUG')\n"
     ]
    }
   ],
   "source": [
    "from notebook_utils import notebook_setup\n",
    "\n",
    "project_root, config = notebook_setup(environment=\"local\")"
   ]
  },
  {
   "cell_type": "code",
   "execution_count": 2,
   "id": "0a001c01",
   "metadata": {},
   "outputs": [],
   "source": [
    "import chromadb\n",
    "from chromadb.utils import embedding_functions"
   ]
  },
  {
   "cell_type": "code",
   "execution_count": 3,
   "id": "5fe6523d",
   "metadata": {},
   "outputs": [],
   "source": [
    "# ChromaDB embeding_function\n",
    "aoai_embedding_function = embedding_functions.OpenAIEmbeddingFunction(\n",
    "    api_key=config.azure_openai_embedding_api_key,\n",
    "    api_base=config.azure_openai_embedding_endpoint,\n",
    "    api_type=config.openai_api_type,\n",
    "    api_version=config.azure_openai_embedding_api_version,\n",
    "    model_name=config.azure_openai_embedding_model,\n",
    "    deployment_id=config.azure_openai_embedding_deployment\n",
    ")"
   ]
  },
  {
   "cell_type": "code",
   "execution_count": 10,
   "id": "0c604c45",
   "metadata": {},
   "outputs": [
    {
     "name": "stdout",
     "output_type": "stream",
     "text": [
      "ChromaDB path: /data/chroma_db\n",
      "Products ChromaDB: C:\\Users\\aprilhazel\\Source\\sk_mcp_demo\\data\\chroma_db\\products_chroma_db\n",
      "Names ChromaDB: C:\\Users\\aprilhazel\\Source\\sk_mcp_demo\\data\\chroma_db\\names_chroma_db\n"
     ]
    }
   ],
   "source": [
    "from pathlib import Path\n",
    "\n",
    "# Use pathlib for proper path handling across platforms\n",
    "products_chroma_db = Path(config.project_root/config.chroma_db_path.lstrip('./')/'products_chroma_db')\n",
    "names_chroma_db = Path(config.project_root/config.chroma_db_path.lstrip('./')/'names_chroma_db')\n",
    "\n",
    "print(f\"ChromaDB path: {config.chroma_db_path}\")\n",
    "print(f\"Products ChromaDB: {products_chroma_db}\")\n",
    "print(f\"Names ChromaDB: {names_chroma_db}\")"
   ]
  },
  {
   "cell_type": "code",
   "execution_count": 11,
   "id": "7650697b",
   "metadata": {},
   "outputs": [],
   "source": [
    "chrome_persistent_client_products = chromadb.PersistentClient(path=str(products_chroma_db))\n",
    "chrome_persistent_client_names = chromadb.PersistentClient(path=str(names_chroma_db))"
   ]
  },
  {
   "cell_type": "code",
   "execution_count": 17,
   "id": "fe3a7427",
   "metadata": {},
   "outputs": [],
   "source": [
    "# Create or get the collection\n",
    "try:\n",
    "    products_collection = chrome_persistent_client_products.get_or_create_collection (\n",
    "        name=\"product_collection\", embedding_function=aoai_embedding_function, \n",
    "\n",
    "    )\n",
    "except Exception as e:\n",
    "    raise e"
   ]
  },
  {
   "cell_type": "code",
   "execution_count": 18,
   "id": "28da9bbe",
   "metadata": {},
   "outputs": [
    {
     "data": {
      "text/plain": [
       "[Collection(name=product_collection)]"
      ]
     },
     "execution_count": 18,
     "metadata": {},
     "output_type": "execute_result"
    }
   ],
   "source": [
    "products_collections = chrome_persistent_client_products.list_collections()\n",
    "products_collections"
   ]
  },
  {
   "cell_type": "code",
   "execution_count": 20,
   "id": "1c1d7aa7",
   "metadata": {},
   "outputs": [
    {
     "data": {
      "text/plain": [
       "{'ids': [],\n",
       " 'embeddings': array([], dtype=float64),\n",
       " 'documents': [],\n",
       " 'uris': None,\n",
       " 'included': ['metadatas', 'documents', 'embeddings'],\n",
       " 'data': None,\n",
       " 'metadatas': []}"
      ]
     },
     "execution_count": 20,
     "metadata": {},
     "output_type": "execute_result"
    }
   ],
   "source": [
    "# https://docs.trychroma.com/docs/collections/manage-collections\n",
    "# See the top 10 records\n",
    "products_collection.peek()"
   ]
  },
  {
   "cell_type": "markdown",
   "id": "37fbd8c1",
   "metadata": {},
   "source": [
    "Import contoso products (csv source: https://github.com/Azure-Samples/contoso-chat/blob/main/data/product_info/products.csv)"
   ]
  },
  {
   "cell_type": "code",
   "execution_count": 21,
   "id": "7f80297c",
   "metadata": {},
   "outputs": [
    {
     "name": "stdout",
     "output_type": "stream",
     "text": [
      "Successfully upserted 20 products into the ChromaDB collection.\n",
      "Collection now contains 20 documents.\n"
     ]
    }
   ],
   "source": [
    "import pandas as pd\n",
    "\n",
    "# Read the CSV file\n",
    "products_df = pd.read_csv('products.csv')\n",
    "\n",
    "# Prepare data for ChromaDB insertion\n",
    "documents = []\n",
    "metadatas = []\n",
    "ids = []\n",
    "\n",
    "for _, row in products_df.iterrows():\n",
    "    # Create a document string that includes all column information\n",
    "    document = {\n",
    "        'id': row['id'],\n",
    "        'name': row['name'],\n",
    "        'price': row['price'],\n",
    "        'category': row['category'],\n",
    "        'brand': row['brand'],\n",
    "        'description': row['description']\n",
    "    }\n",
    "    \n",
    "    # Convert the document dictionary to a string for ChromaDB\n",
    "    document_text = f\"ID: {row['id']}, Name: {row['name']}, Price: ${row['price']}, Category: {row['category']}, Brand: {row['brand']}, Description: {row['description']}\"\n",
    "    \n",
    "    # Create metadata with id, name, price, category, and brand\n",
    "    metadata = {\n",
    "        'id': str(row['id']),  # Convert to string for metadata\n",
    "        'name': row['name'],\n",
    "        'price': float(row['price']),\n",
    "        'category': row['category'],\n",
    "        'brand': row['brand']\n",
    "    }\n",
    "    \n",
    "    documents.append(document_text)\n",
    "    metadatas.append(metadata)\n",
    "    ids.append(str(row['id']))  # Use the id column as ChromaDB id\n",
    "\n",
    "# Upsert data into ChromaDB collection\n",
    "products_collection.upsert(\n",
    "    documents=documents,\n",
    "    metadatas=metadatas,\n",
    "    ids=ids\n",
    ")\n",
    "\n",
    "print(f\"Successfully upserted {len(documents)} products into the ChromaDB collection.\")\n",
    "print(f\"Collection now contains {products_collection.count()} documents.\")"
   ]
  },
  {
   "cell_type": "markdown",
   "id": "ecb3d47f",
   "metadata": {},
   "source": [
    "Import a randomly generated list of names"
   ]
  },
  {
   "cell_type": "code",
   "execution_count": 23,
   "id": "ad9f9406",
   "metadata": {},
   "outputs": [],
   "source": [
    "# Create a list of names with categories and popularity\n",
    "names_data = [\n",
    "    # People - High Popularity\n",
    "    {\"id\": 1, \"name\": \"Alexander\", \"category\": \"people\", \"popularity\": 9},\n",
    "    {\"id\": 2, \"name\": \"Emma\", \"category\": \"people\", \"popularity\": 10},\n",
    "    {\"id\": 3, \"name\": \"William\", \"category\": \"people\", \"popularity\": 8},\n",
    "    {\"id\": 4, \"name\": \"Olivia\", \"category\": \"people\", \"popularity\": 9},\n",
    "    {\"id\": 5, \"name\": \"James\", \"category\": \"people\", \"popularity\": 8},\n",
    "    {\"id\": 6, \"name\": \"Sophia\", \"category\": \"people\", \"popularity\": 9},\n",
    "    {\"id\": 7, \"name\": \"Michael\", \"category\": \"people\", \"popularity\": 7},\n",
    "    {\"id\": 8, \"name\": \"Isabella\", \"category\": \"people\", \"popularity\": 8},\n",
    "    {\"id\": 9, \"name\": \"Benjamin\", \"category\": \"people\", \"popularity\": 7},\n",
    "    {\"id\": 10, \"name\": \"Charlotte\", \"category\": \"people\", \"popularity\": 8},\n",
    "    \n",
    "    # People - Medium Popularity\n",
    "    {\"id\": 11, \"name\": \"Theodore\", \"category\": \"people\", \"popularity\": 6},\n",
    "    {\"id\": 12, \"name\": \"Amelia\", \"category\": \"people\", \"popularity\": 6},\n",
    "    {\"id\": 13, \"name\": \"Sebastian\", \"category\": \"people\", \"popularity\": 5},\n",
    "    {\"id\": 14, \"name\": \"Penelope\", \"category\": \"people\", \"popularity\": 5},\n",
    "    {\"id\": 15, \"name\": \"Nathaniel\", \"category\": \"people\", \"popularity\": 4},\n",
    "    {\"id\": 16, \"name\": \"Genevieve\", \"category\": \"people\", \"popularity\": 4},\n",
    "    {\"id\": 17, \"name\": \"Maximilian\", \"category\": \"people\", \"popularity\": 3},\n",
    "    {\"id\": 18, \"name\": \"Evangeline\", \"category\": \"people\", \"popularity\": 3},\n",
    "    \n",
    "    # Places - High Popularity\n",
    "    {\"id\": 19, \"name\": \"New York\", \"category\": \"places\", \"popularity\": 10},\n",
    "    {\"id\": 20, \"name\": \"London\", \"category\": \"places\", \"popularity\": 9},\n",
    "    {\"id\": 21, \"name\": \"Paris\", \"category\": \"places\", \"popularity\": 9},\n",
    "    {\"id\": 22, \"name\": \"Tokyo\", \"category\": \"places\", \"popularity\": 8},\n",
    "    {\"id\": 23, \"name\": \"Sydney\", \"category\": \"places\", \"popularity\": 7},\n",
    "    {\"id\": 24, \"name\": \"Rome\", \"category\": \"places\", \"popularity\": 8},\n",
    "    {\"id\": 25, \"name\": \"Barcelona\", \"category\": \"places\", \"popularity\": 7},\n",
    "    {\"id\": 26, \"name\": \"Amsterdam\", \"category\": \"places\", \"popularity\": 6},\n",
    "    \n",
    "    # Places - Medium Popularity\n",
    "    {\"id\": 27, \"name\": \"Reykjavik\", \"category\": \"places\", \"popularity\": 4},\n",
    "    {\"id\": 28, \"name\": \"Budapest\", \"category\": \"places\", \"popularity\": 5},\n",
    "    {\"id\": 29, \"name\": \"Prague\", \"category\": \"places\", \"popularity\": 6},\n",
    "    {\"id\": 30, \"name\": \"Vienna\", \"category\": \"places\", \"popularity\": 5},\n",
    "    {\"id\": 31, \"name\": \"Stockholm\", \"category\": \"places\", \"popularity\": 4},\n",
    "    {\"id\": 32, \"name\": \"Copenhagen\", \"category\": \"places\", \"popularity\": 4},\n",
    "    {\"id\": 33, \"name\": \"Helsinki\", \"category\": \"places\", \"popularity\": 3},\n",
    "    {\"id\": 34, \"name\": \"Tallinn\", \"category\": \"places\", \"popularity\": 2},\n",
    "    \n",
    "    # Things - High Popularity\n",
    "    {\"id\": 35, \"name\": \"Smartphone\", \"category\": \"things\", \"popularity\": 10},\n",
    "    {\"id\": 36, \"name\": \"Laptop\", \"category\": \"things\", \"popularity\": 9},\n",
    "    {\"id\": 37, \"name\": \"Coffee\", \"category\": \"things\", \"popularity\": 10},\n",
    "    {\"id\": 38, \"name\": \"Bicycle\", \"category\": \"things\", \"popularity\": 7},\n",
    "    {\"id\": 39, \"name\": \"Camera\", \"category\": \"things\", \"popularity\": 6},\n",
    "    {\"id\": 40, \"name\": \"Headphones\", \"category\": \"things\", \"popularity\": 8},\n",
    "    {\"id\": 41, \"name\": \"Backpack\", \"category\": \"things\", \"popularity\": 7},\n",
    "    {\"id\": 42, \"name\": \"Sunglasses\", \"category\": \"things\", \"popularity\": 6},\n",
    "    \n",
    "    # Things - Medium Popularity\n",
    "    {\"id\": 43, \"name\": \"Telescope\", \"category\": \"things\", \"popularity\": 3},\n",
    "    {\"id\": 44, \"name\": \"Microscope\", \"category\": \"things\", \"popularity\": 2},\n",
    "    {\"id\": 45, \"name\": \"Synthesizer\", \"category\": \"things\", \"popularity\": 4},\n",
    "    {\"id\": 46, \"name\": \"Skateboard\", \"category\": \"things\", \"popularity\": 5},\n",
    "    {\"id\": 47, \"name\": \"Harmonica\", \"category\": \"things\", \"popularity\": 3},\n",
    "    {\"id\": 48, \"name\": \"Kaleidoscope\", \"category\": \"things\", \"popularity\": 2},\n",
    "    {\"id\": 49, \"name\": \"Binoculars\", \"category\": \"things\", \"popularity\": 4},\n",
    "    {\"id\": 50, \"name\": \"Compass\", \"category\": \"things\", \"popularity\": 3},\n",
    "    \n",
    "    # Fictional Characters - High Popularity\n",
    "    {\"id\": 51, \"name\": \"Sherlock Holmes\", \"category\": \"fictional\", \"popularity\": 9},\n",
    "    {\"id\": 52, \"name\": \"Harry Potter\", \"category\": \"fictional\", \"popularity\": 10},\n",
    "    {\"id\": 53, \"name\": \"Batman\", \"category\": \"fictional\", \"popularity\": 9},\n",
    "    {\"id\": 54, \"name\": \"Wonder Woman\", \"category\": \"fictional\", \"popularity\": 8},\n",
    "    {\"id\": 55, \"name\": \"Spider-Man\", \"category\": \"fictional\", \"popularity\": 9},\n",
    "    {\"id\": 56, \"name\": \"Hermione Granger\", \"category\": \"fictional\", \"popularity\": 8},\n",
    "    {\"id\": 57, \"name\": \"Luke Skywalker\", \"category\": \"fictional\", \"popularity\": 8},\n",
    "    {\"id\": 58, \"name\": \"Princess Leia\", \"category\": \"fictional\", \"popularity\": 7},\n",
    "    \n",
    "    # Fictional Characters - Medium Popularity\n",
    "    {\"id\": 59, \"name\": \"Gandalf\", \"category\": \"fictional\", \"popularity\": 6},\n",
    "    {\"id\": 60, \"name\": \"Aragorn\", \"category\": \"fictional\", \"popularity\": 5},\n",
    "    {\"id\": 61, \"name\": \"Legolas\", \"category\": \"fictional\", \"popularity\": 4},\n",
    "    {\"id\": 62, \"name\": \"Gimli\", \"category\": \"fictional\", \"popularity\": 3},\n",
    "    {\"id\": 63, \"name\": \"Frodo Baggins\", \"category\": \"fictional\", \"popularity\": 6},\n",
    "    {\"id\": 64, \"name\": \"Samwise Gamgee\", \"category\": \"fictional\", \"popularity\": 5},\n",
    "    \n",
    "    # Animals - High Popularity\n",
    "    {\"id\": 65, \"name\": \"Golden Retriever\", \"category\": \"animals\", \"popularity\": 9},\n",
    "    {\"id\": 66, \"name\": \"Siamese Cat\", \"category\": \"animals\", \"popularity\": 7},\n",
    "    {\"id\": 67, \"name\": \"German Shepherd\", \"category\": \"animals\", \"popularity\": 8},\n",
    "    {\"id\": 68, \"name\": \"Persian Cat\", \"category\": \"animals\", \"popularity\": 6},\n",
    "    {\"id\": 69, \"name\": \"Labrador\", \"category\": \"animals\", \"popularity\": 9},\n",
    "    {\"id\": 70, \"name\": \"Maine Coon\", \"category\": \"animals\", \"popularity\": 5},\n",
    "    \n",
    "    # Animals - Medium Popularity\n",
    "    {\"id\": 71, \"name\": \"Border Collie\", \"category\": \"animals\", \"popularity\": 6},\n",
    "    {\"id\": 72, \"name\": \"Scottish Fold\", \"category\": \"animals\", \"popularity\": 4},\n",
    "    {\"id\": 73, \"name\": \"Siberian Husky\", \"category\": \"animals\", \"popularity\": 7},\n",
    "    {\"id\": 74, \"name\": \"Bengal Cat\", \"category\": \"animals\", \"popularity\": 4},\n",
    "    {\"id\": 75, \"name\": \"Australian Shepherd\", \"category\": \"animals\", \"popularity\": 5},\n",
    "    {\"id\": 76, \"name\": \"Ragdoll Cat\", \"category\": \"animals\", \"popularity\": 3},\n",
    "]\n"
   ]
  },
  {
   "cell_type": "code",
   "execution_count": 25,
   "id": "1a5341e5",
   "metadata": {},
   "outputs": [
    {
     "name": "stdout",
     "output_type": "stream",
     "text": [
      "Successfully upserted 76 names into the names ChromaDB collection.\n",
      "Names collection now contains 76 documents.\n"
     ]
    }
   ],
   "source": [
    "# Create or get the names collection\n",
    "try:\n",
    "    names_collection = chrome_persistent_client_names.get_or_create_collection(\n",
    "        name=\"names_collection\", \n",
    "        embedding_function=aoai_embedding_function\n",
    "    )\n",
    "except Exception as e:\n",
    "    raise e\n",
    "\n",
    "# Prepare data for ChromaDB insertion\n",
    "names_documents = []\n",
    "names_metadatas = []\n",
    "names_ids = []\n",
    "\n",
    "for name_data in names_data:\n",
    "    # Create a document string that includes all information about the name\n",
    "    document_text = f\"ID: {name_data['id']}, Name: {name_data['name']}, Category: {name_data['category']}, Popularity: {name_data['popularity']}/10\"\n",
    "    \n",
    "    # Create metadata with id, category and popularity\n",
    "    metadata = {\n",
    "        'id': name_data['id'],\n",
    "        'name': name_data['name'],\n",
    "        'category': name_data['category'],\n",
    "        'popularity': name_data['popularity']\n",
    "    }\n",
    "    \n",
    "    names_documents.append(document_text)\n",
    "    names_metadatas.append(metadata)\n",
    "    names_ids.append(str(name_data['id']))  # Use the id field as ChromaDB document ID\n",
    "\n",
    "# Insert data into ChromaDB names collection\n",
    "names_collection.upsert(\n",
    "    documents=names_documents,\n",
    "    metadatas=names_metadatas,\n",
    "    ids=names_ids\n",
    ")\n",
    "\n",
    "print(f\"Successfully upserted {len(names_documents)} names into the names ChromaDB collection.\")\n",
    "print(f\"Names collection now contains {names_collection.count()} documents.\")"
   ]
  }
 ],
 "metadata": {
  "kernelspec": {
   "display_name": ".venv",
   "language": "python",
   "name": "python3"
  },
  "language_info": {
   "codemirror_mode": {
    "name": "ipython",
    "version": 3
   },
   "file_extension": ".py",
   "mimetype": "text/x-python",
   "name": "python",
   "nbconvert_exporter": "python",
   "pygments_lexer": "ipython3",
   "version": "3.12.10"
  }
 },
 "nbformat": 4,
 "nbformat_minor": 5
}
